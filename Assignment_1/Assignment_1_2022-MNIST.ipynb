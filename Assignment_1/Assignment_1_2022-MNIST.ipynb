{
 "cells": [
  {
   "cell_type": "code",
   "execution_count": 1,
   "metadata": {},
   "outputs": [
    {
     "name": "stderr",
     "output_type": "stream",
     "text": [
      "2022-02-25 15:25:17.848659: W tensorflow/stream_executor/platform/default/dso_loader.cc:64] Could not load dynamic library 'libcudart.so.11.0'; dlerror: libcudart.so.11.0: cannot open shared object file: No such file or directory\n",
      "2022-02-25 15:25:17.848678: I tensorflow/stream_executor/cuda/cudart_stub.cc:29] Ignore above cudart dlerror if you do not have a GPU set up on your machine.\n"
     ]
    }
   ],
   "source": [
    "import numpy as np\n",
    "import pandas as pd\n",
    "import matplotlib.pyplot as plt\n",
    "import seaborn as sns\n",
    "from rich import print\n",
    "\n",
    "import tensorflow as tf\n",
    "from keras.datasets import mnist\n",
    "from sklearn.preprocessing import OneHotEncoder\n",
    "from sklearn.model_selection import train_test_split\n",
    "from sklearn.metrics import accuracy_score, mean_squared_error, log_loss\n",
    "from sklearn.preprocessing import StandardScaler"
   ]
  },
  {
   "cell_type": "code",
   "execution_count": 2,
   "metadata": {
    "scrolled": true
   },
   "outputs": [
    {
     "name": "stdout",
     "output_type": "stream",
     "text": [
      "Downloading data from https://storage.googleapis.com/tensorflow/tf-keras-datasets/mnist.npz\n",
      "11493376/11490434 [==============================] - 1s 0us/step\n",
      "11501568/11490434 [==============================] - 1s 0us/step\n"
     ]
    },
    {
     "data": {
      "text/html": [
       "<pre style=\"white-space:pre;overflow-x:auto;line-height:normal;font-family:Menlo,'DejaVu Sans Mono',consolas,'Courier New',monospace\">Train set size:\n",
       "<span style=\"font-weight: bold\">(</span><span style=\"color: #008080; text-decoration-color: #008080; font-weight: bold\">60000</span>, <span style=\"color: #008080; text-decoration-color: #008080; font-weight: bold\">28</span>, <span style=\"color: #008080; text-decoration-color: #008080; font-weight: bold\">28</span><span style=\"font-weight: bold\">)</span>\n",
       "<span style=\"font-weight: bold\">(</span><span style=\"color: #008080; text-decoration-color: #008080; font-weight: bold\">60000</span>,<span style=\"font-weight: bold\">)</span>\n",
       "</pre>\n"
      ],
      "text/plain": [
       "Train set size:\n",
       "\u001b[1m(\u001b[0m\u001b[1;36m60000\u001b[0m, \u001b[1;36m28\u001b[0m, \u001b[1;36m28\u001b[0m\u001b[1m)\u001b[0m\n",
       "\u001b[1m(\u001b[0m\u001b[1;36m60000\u001b[0m,\u001b[1m)\u001b[0m\n"
      ]
     },
     "metadata": {},
     "output_type": "display_data"
    },
    {
     "data": {
      "text/html": [
       "<pre style=\"white-space:pre;overflow-x:auto;line-height:normal;font-family:Menlo,'DejaVu Sans Mono',consolas,'Courier New',monospace\">Test set size:\n",
       "<span style=\"font-weight: bold\">(</span><span style=\"color: #008080; text-decoration-color: #008080; font-weight: bold\">10000</span>, <span style=\"color: #008080; text-decoration-color: #008080; font-weight: bold\">28</span>, <span style=\"color: #008080; text-decoration-color: #008080; font-weight: bold\">28</span><span style=\"font-weight: bold\">)</span>\n",
       "<span style=\"font-weight: bold\">(</span><span style=\"color: #008080; text-decoration-color: #008080; font-weight: bold\">10000</span>,<span style=\"font-weight: bold\">)</span>\n",
       "</pre>\n"
      ],
      "text/plain": [
       "Test set size:\n",
       "\u001b[1m(\u001b[0m\u001b[1;36m10000\u001b[0m, \u001b[1;36m28\u001b[0m, \u001b[1;36m28\u001b[0m\u001b[1m)\u001b[0m\n",
       "\u001b[1m(\u001b[0m\u001b[1;36m10000\u001b[0m,\u001b[1m)\u001b[0m\n"
      ]
     },
     "metadata": {},
     "output_type": "display_data"
    },
    {
     "data": {
      "text/html": [
       "<pre style=\"white-space:pre;overflow-x:auto;line-height:normal;font-family:Menlo,'DejaVu Sans Mono',consolas,'Courier New',monospace\">Class with counts: \n",
       "<span style=\"font-weight: bold\">(</span>\n",
       "    <span style=\"color: #800080; text-decoration-color: #800080; font-weight: bold\">array</span><span style=\"font-weight: bold\">([</span><span style=\"color: #008080; text-decoration-color: #008080; font-weight: bold\">0</span>, <span style=\"color: #008080; text-decoration-color: #008080; font-weight: bold\">1</span>, <span style=\"color: #008080; text-decoration-color: #008080; font-weight: bold\">2</span>, <span style=\"color: #008080; text-decoration-color: #008080; font-weight: bold\">3</span>, <span style=\"color: #008080; text-decoration-color: #008080; font-weight: bold\">4</span>, <span style=\"color: #008080; text-decoration-color: #008080; font-weight: bold\">5</span>, <span style=\"color: #008080; text-decoration-color: #008080; font-weight: bold\">6</span>, <span style=\"color: #008080; text-decoration-color: #008080; font-weight: bold\">7</span>, <span style=\"color: #008080; text-decoration-color: #008080; font-weight: bold\">8</span>, <span style=\"color: #008080; text-decoration-color: #008080; font-weight: bold\">9</span><span style=\"font-weight: bold\">]</span>, <span style=\"color: #808000; text-decoration-color: #808000\">dtype</span>=<span style=\"color: #800080; text-decoration-color: #800080\">uint8</span><span style=\"font-weight: bold\">)</span>,\n",
       "    <span style=\"color: #800080; text-decoration-color: #800080; font-weight: bold\">array</span><span style=\"font-weight: bold\">([</span><span style=\"color: #008080; text-decoration-color: #008080; font-weight: bold\">5923</span>, <span style=\"color: #008080; text-decoration-color: #008080; font-weight: bold\">6742</span>, <span style=\"color: #008080; text-decoration-color: #008080; font-weight: bold\">5958</span>, <span style=\"color: #008080; text-decoration-color: #008080; font-weight: bold\">6131</span>, <span style=\"color: #008080; text-decoration-color: #008080; font-weight: bold\">5842</span>, <span style=\"color: #008080; text-decoration-color: #008080; font-weight: bold\">5421</span>, <span style=\"color: #008080; text-decoration-color: #008080; font-weight: bold\">5918</span>, <span style=\"color: #008080; text-decoration-color: #008080; font-weight: bold\">6265</span>, <span style=\"color: #008080; text-decoration-color: #008080; font-weight: bold\">5851</span>, <span style=\"color: #008080; text-decoration-color: #008080; font-weight: bold\">5949</span><span style=\"font-weight: bold\">])</span>\n",
       "<span style=\"font-weight: bold\">)</span>\n",
       "</pre>\n"
      ],
      "text/plain": [
       "Class with counts: \n",
       "\u001b[1m(\u001b[0m\n",
       "    \u001b[1;35marray\u001b[0m\u001b[1m(\u001b[0m\u001b[1m[\u001b[0m\u001b[1;36m0\u001b[0m, \u001b[1;36m1\u001b[0m, \u001b[1;36m2\u001b[0m, \u001b[1;36m3\u001b[0m, \u001b[1;36m4\u001b[0m, \u001b[1;36m5\u001b[0m, \u001b[1;36m6\u001b[0m, \u001b[1;36m7\u001b[0m, \u001b[1;36m8\u001b[0m, \u001b[1;36m9\u001b[0m\u001b[1m]\u001b[0m, \u001b[33mdtype\u001b[0m=\u001b[35muint8\u001b[0m\u001b[1m)\u001b[0m,\n",
       "    \u001b[1;35marray\u001b[0m\u001b[1m(\u001b[0m\u001b[1m[\u001b[0m\u001b[1;36m5923\u001b[0m, \u001b[1;36m6742\u001b[0m, \u001b[1;36m5958\u001b[0m, \u001b[1;36m6131\u001b[0m, \u001b[1;36m5842\u001b[0m, \u001b[1;36m5421\u001b[0m, \u001b[1;36m5918\u001b[0m, \u001b[1;36m6265\u001b[0m, \u001b[1;36m5851\u001b[0m, \u001b[1;36m5949\u001b[0m\u001b[1m]\u001b[0m\u001b[1m)\u001b[0m\n",
       "\u001b[1m)\u001b[0m\n"
      ]
     },
     "metadata": {},
     "output_type": "display_data"
    },
    {
     "data": {
      "text/html": [
       "<pre style=\"white-space:pre;overflow-x:auto;line-height:normal;font-family:Menlo,'DejaVu Sans Mono',consolas,'Courier New',monospace\">Class with counts: \n",
       "<span style=\"font-weight: bold\">(</span>\n",
       "    <span style=\"color: #800080; text-decoration-color: #800080; font-weight: bold\">array</span><span style=\"font-weight: bold\">([</span><span style=\"color: #008080; text-decoration-color: #008080; font-weight: bold\">0</span>, <span style=\"color: #008080; text-decoration-color: #008080; font-weight: bold\">1</span>, <span style=\"color: #008080; text-decoration-color: #008080; font-weight: bold\">2</span>, <span style=\"color: #008080; text-decoration-color: #008080; font-weight: bold\">3</span>, <span style=\"color: #008080; text-decoration-color: #008080; font-weight: bold\">4</span>, <span style=\"color: #008080; text-decoration-color: #008080; font-weight: bold\">5</span>, <span style=\"color: #008080; text-decoration-color: #008080; font-weight: bold\">6</span>, <span style=\"color: #008080; text-decoration-color: #008080; font-weight: bold\">7</span>, <span style=\"color: #008080; text-decoration-color: #008080; font-weight: bold\">8</span>, <span style=\"color: #008080; text-decoration-color: #008080; font-weight: bold\">9</span><span style=\"font-weight: bold\">]</span>, <span style=\"color: #808000; text-decoration-color: #808000\">dtype</span>=<span style=\"color: #800080; text-decoration-color: #800080\">uint8</span><span style=\"font-weight: bold\">)</span>,\n",
       "    <span style=\"color: #800080; text-decoration-color: #800080; font-weight: bold\">array</span><span style=\"font-weight: bold\">([</span><span style=\"color: #008080; text-decoration-color: #008080; font-weight: bold\">5331</span>, <span style=\"color: #008080; text-decoration-color: #008080; font-weight: bold\">6068</span>, <span style=\"color: #008080; text-decoration-color: #008080; font-weight: bold\">5362</span>, <span style=\"color: #008080; text-decoration-color: #008080; font-weight: bold\">5518</span>, <span style=\"color: #008080; text-decoration-color: #008080; font-weight: bold\">5258</span>, <span style=\"color: #008080; text-decoration-color: #008080; font-weight: bold\">4879</span>, <span style=\"color: #008080; text-decoration-color: #008080; font-weight: bold\">5326</span>, <span style=\"color: #008080; text-decoration-color: #008080; font-weight: bold\">5638</span>, <span style=\"color: #008080; text-decoration-color: #008080; font-weight: bold\">5266</span>, <span style=\"color: #008080; text-decoration-color: #008080; font-weight: bold\">5354</span><span style=\"font-weight: bold\">])</span>\n",
       "<span style=\"font-weight: bold\">)</span>\n",
       "</pre>\n"
      ],
      "text/plain": [
       "Class with counts: \n",
       "\u001b[1m(\u001b[0m\n",
       "    \u001b[1;35marray\u001b[0m\u001b[1m(\u001b[0m\u001b[1m[\u001b[0m\u001b[1;36m0\u001b[0m, \u001b[1;36m1\u001b[0m, \u001b[1;36m2\u001b[0m, \u001b[1;36m3\u001b[0m, \u001b[1;36m4\u001b[0m, \u001b[1;36m5\u001b[0m, \u001b[1;36m6\u001b[0m, \u001b[1;36m7\u001b[0m, \u001b[1;36m8\u001b[0m, \u001b[1;36m9\u001b[0m\u001b[1m]\u001b[0m, \u001b[33mdtype\u001b[0m=\u001b[35muint8\u001b[0m\u001b[1m)\u001b[0m,\n",
       "    \u001b[1;35marray\u001b[0m\u001b[1m(\u001b[0m\u001b[1m[\u001b[0m\u001b[1;36m5331\u001b[0m, \u001b[1;36m6068\u001b[0m, \u001b[1;36m5362\u001b[0m, \u001b[1;36m5518\u001b[0m, \u001b[1;36m5258\u001b[0m, \u001b[1;36m4879\u001b[0m, \u001b[1;36m5326\u001b[0m, \u001b[1;36m5638\u001b[0m, \u001b[1;36m5266\u001b[0m, \u001b[1;36m5354\u001b[0m\u001b[1m]\u001b[0m\u001b[1m)\u001b[0m\n",
       "\u001b[1m)\u001b[0m\n"
      ]
     },
     "metadata": {},
     "output_type": "display_data"
    },
    {
     "data": {
      "text/html": [
       "<pre style=\"white-space:pre;overflow-x:auto;line-height:normal;font-family:Menlo,'DejaVu Sans Mono',consolas,'Courier New',monospace\">Training set size:\n",
       "<span style=\"font-weight: bold\">(</span><span style=\"color: #008080; text-decoration-color: #008080; font-weight: bold\">54000</span>, <span style=\"color: #008080; text-decoration-color: #008080; font-weight: bold\">28</span>, <span style=\"color: #008080; text-decoration-color: #008080; font-weight: bold\">28</span><span style=\"font-weight: bold\">)</span>\n",
       "<span style=\"font-weight: bold\">(</span><span style=\"color: #008080; text-decoration-color: #008080; font-weight: bold\">54000</span>,<span style=\"font-weight: bold\">)</span>\n",
       "</pre>\n"
      ],
      "text/plain": [
       "Training set size:\n",
       "\u001b[1m(\u001b[0m\u001b[1;36m54000\u001b[0m, \u001b[1;36m28\u001b[0m, \u001b[1;36m28\u001b[0m\u001b[1m)\u001b[0m\n",
       "\u001b[1m(\u001b[0m\u001b[1;36m54000\u001b[0m,\u001b[1m)\u001b[0m\n"
      ]
     },
     "metadata": {},
     "output_type": "display_data"
    },
    {
     "data": {
      "text/html": [
       "<pre style=\"white-space:pre;overflow-x:auto;line-height:normal;font-family:Menlo,'DejaVu Sans Mono',consolas,'Courier New',monospace\">Validation set size:\n",
       "<span style=\"font-weight: bold\">(</span><span style=\"color: #008080; text-decoration-color: #008080; font-weight: bold\">6000</span>, <span style=\"color: #008080; text-decoration-color: #008080; font-weight: bold\">28</span>, <span style=\"color: #008080; text-decoration-color: #008080; font-weight: bold\">28</span><span style=\"font-weight: bold\">)</span>\n",
       "<span style=\"font-weight: bold\">(</span><span style=\"color: #008080; text-decoration-color: #008080; font-weight: bold\">6000</span>,<span style=\"font-weight: bold\">)</span>\n",
       "</pre>\n"
      ],
      "text/plain": [
       "Validation set size:\n",
       "\u001b[1m(\u001b[0m\u001b[1;36m6000\u001b[0m, \u001b[1;36m28\u001b[0m, \u001b[1;36m28\u001b[0m\u001b[1m)\u001b[0m\n",
       "\u001b[1m(\u001b[0m\u001b[1;36m6000\u001b[0m,\u001b[1m)\u001b[0m\n"
      ]
     },
     "metadata": {},
     "output_type": "display_data"
    }
   ],
   "source": [
    "(x_train, y_train), (x_test, y_test) = mnist.load_data()\n",
    "\n",
    "print(\"Train set size:\", x_train.shape, y_train.shape)\n",
    "print(\"Test set size:\",  x_test.shape, y_test.shape)\n",
    "print(\"Class with counts: \",np.unique(y_train, return_counts=True))\n",
    "\n",
    "# splitting the train data into train and validation. validation set is 10% (approx 6000) of the original train set\n",
    "# x_val = x_train[:6000]\n",
    "# y_val = y_train[:6000]\n",
    "# x_train = x_train[6000:]\n",
    "# y_train = y_train[6000:]\n",
    "\n",
    "x_train, x_val, y_train, y_val = train_test_split(\n",
    "    x_train, y_train, test_size=0.1, random_state=0, stratify=y_train)\n",
    "\n",
    "\n",
    "print(\"Class with counts: \", np.unique(y_train, return_counts=True))\n",
    "print(\"Training set size:\", x_train.shape, y_train.shape)\n",
    "print(\"Validation set size:\", x_val.shape, y_val.shape)\n"
   ]
  },
  {
   "cell_type": "markdown",
   "metadata": {},
   "source": [
    "# Plotting example data"
   ]
  },
  {
   "cell_type": "code",
   "execution_count": 3,
   "metadata": {},
   "outputs": [
    {
     "data": {
      "image/png": "[encoded data removed]",
      "text/plain": [
       "<Figure size 720x360 with 10 Axes>"
      ]
     },
     "metadata": {
      "needs_background": "light"
     },
     "output_type": "display_data"
    }
   ],
   "source": [
    "class_names = ['0', '1', '2', '3', '4','5','6', '7', '8', '9']\n",
    "\n",
    "\n",
    "# finding example of all classes\n",
    "example_images = {}\n",
    "for i in range(len(x_train)):\n",
    "    if len(example_images) == 10:\n",
    "        break\n",
    "    if y_train[i] not in example_images.keys():\n",
    "        example_images[y_train[i]] = x_train[i]\n",
    "\n",
    "# plotting the images\n",
    "fig, ax = plt.subplots(nrows=2, ncols=5, figsize=(10, 5))\n",
    "# ax is a 2x5 array of axes\n",
    "for i in range(10):\n",
    "    ax[i//5, i % 5].imshow(example_images[i], cmap=\"gray\")\n",
    "    ax[i//5, i % 5].set_title(class_names[i])\n"
   ]
  },
  {
   "cell_type": "markdown",
   "metadata": {},
   "source": [
    "# Importing NN Module"
   ]
  },
  {
   "cell_type": "code",
   "execution_count": 5,
   "metadata": {},
   "outputs": [
    {
     "name": "stderr",
     "output_type": "stream",
     "text": [
      "\u001b[34m\u001b[1mwandb\u001b[0m: Currently logged in as: \u001b[33mms20\u001b[0m (use `wandb login --relogin` to force relogin)\n",
      "2022-02-25 15:27:15.467876: W tensorflow/stream_executor/platform/default/dso_loader.cc:64] Could not load dynamic library 'libcudart.so.11.0'; dlerror: libcudart.so.11.0: cannot open shared object file: No such file or directory\n",
      "2022-02-25 15:27:15.467903: I tensorflow/stream_executor/cuda/cudart_stub.cc:29] Ignore above cudart dlerror if you do not have a GPU set up on your machine.\n"
     ]
    },
    {
     "data": {
      "text/html": [
       "\n",
       "                    Syncing run <strong><a href=\"https://wandb.ai/cookie303/Assignment1/runs/7ph4vox3\" target=\"_blank\">fallen-planet-896</a></strong> to <a href=\"https://wandb.ai/cookie303/Assignment1\" target=\"_blank\">Weights & Biases</a> (<a href=\"https://docs.wandb.com/integrations/jupyter.html\" target=\"_blank\">docs</a>).<br/>\n",
       "\n",
       "                "
      ],
      "text/plain": [
       "<IPython.core.display.HTML object>"
      ]
     },
     "metadata": {},
     "output_type": "display_data"
    }
   ],
   "source": [
    "from NN.Model import Model\n",
    "from NN.Layer.Linear import Linear\n",
    "from NN.Layer.Activation.ReLU import ReLU\n",
    "from NN.Layer.Activation.TanH import TanH\n",
    "from NN.Layer.Activation.Sigmoid import Sigmoid\n",
    "from NN.Layer.Activation.Softmax import Softmax\n",
    "from NN.Accuracy.Accuracy import Accuracy\n",
    "from NN.Loss.CategoricalCrossEntropy import CategoricalCrossEntropy\n",
    "from NN.Optimizer.Adam import Adam\n",
    "from NN.Optimizer.Nadam import Nadam\n",
    "from NN.Optimizer.RMSprop import RMSprop\n",
    "from NN.Optimizer.Momentum import Momentum\n",
    "from NN.Optimizer.SGD import SGD\n",
    "from NN.Optimizer.NAG import NAG\n",
    "\n",
    "import numpy as np\n",
    "import matplotlib.pyplot as plt\n",
    "\n",
    "\n",
    "import tensorflow as tf\n",
    "from keras.datasets import fashion_mnist\n",
    "from sklearn.preprocessing import OneHotEncoder\n",
    "from sklearn.model_selection import train_test_split\n",
    "from sklearn.metrics import accuracy_score, mean_squared_error, log_loss\n",
    "\n",
    "import wandb\n",
    "import os\n",
    "\n",
    "# os.environ[\"WANDB_SILENT\"] = \"true\"\n",
    "wandb.init(project=\"Assignment1\", entity=\"cookie303\")\n",
    "wandb.log({\"examples\": fig})"
   ]
  },
  {
   "cell_type": "markdown",
   "metadata": {},
   "source": [
    "# Data Pre-processing"
   ]
  },
  {
   "cell_type": "code",
   "execution_count": 6,
   "metadata": {},
   "outputs": [],
   "source": [
    "def do_standard_transform(X, scalar=None):\n",
    "    X = X.reshape(X.shape[0], -1).astype(\"float32\")\n",
    "    \n",
    "    # Or do sklearn's StandardScaler\n",
    "    if scalar is not None:\n",
    "        X = scalar.transform(X)\n",
    "    else:\n",
    "        X = (X - X.mean(axis=1, keepdims=True)) / X.std(axis=1, keepdims=True)\n",
    "\n",
    "    return X\n",
    "\n",
    "\n",
    "def do_one_hot_encode(y, encoder=None):\n",
    "    y = y.reshape(-1, 1)\n",
    "    if encoder is not None:\n",
    "        y = encoder.transform(y).toarray()\n",
    "    else:\n",
    "        encoder = OneHotEncoder()\n",
    "        encoder.fit(y)\n",
    "        y = encoder.transform(y).toarray()\n",
    "    return y\n",
    "\n",
    "\n",
    "X      = do_standard_transform(x_train)\n",
    "X_val  = do_standard_transform(x_val)\n",
    "X_test = do_standard_transform(x_test)\n",
    "\n",
    "# One hot encoding the labels\n",
    "enc = OneHotEncoder()\n",
    "enc.fit(y_train.reshape(-1, 1))\n",
    "\n",
    "\n",
    "y_train_one_hot = do_one_hot_encode(y_train, enc)\n",
    "y_val_one_hot = do_one_hot_encode(y_val, enc)\n",
    "y_test_one_hot = do_one_hot_encode(y_test, enc)"
   ]
  },
  {
   "cell_type": "code",
   "execution_count": 7,
   "metadata": {},
   "outputs": [
    {
     "name": "stdout",
     "output_type": "stream",
     "text": [
      "epoch=1\n",
      "training_loss=0.35, training_accuracy= 0.90\n",
      "Validation: val_loss=0.22, val_accuracy=0.94\n",
      "\n",
      "epoch=2\n",
      "training_loss=0.20, training_accuracy= 0.94\n",
      "Validation: val_loss=0.20, val_accuracy=0.94\n",
      "\n",
      "epoch=3\n",
      "training_loss=0.17, training_accuracy= 0.95\n",
      "Validation: val_loss=0.20, val_accuracy=0.94\n",
      "\n",
      "epoch=4\n",
      "training_loss=0.15, training_accuracy= 0.95\n",
      "Validation: val_loss=0.19, val_accuracy=0.94\n",
      "\n",
      "epoch=5\n",
      "training_loss=0.14, training_accuracy= 0.96\n",
      "Validation: val_loss=0.17, val_accuracy=0.95\n",
      "\n",
      "epoch=6\n",
      "training_loss=0.13, training_accuracy= 0.96\n",
      "Validation: val_loss=0.17, val_accuracy=0.95\n",
      "\n",
      "epoch=7\n",
      "training_loss=0.13, training_accuracy= 0.96\n",
      "Validation: val_loss=0.18, val_accuracy=0.95\n",
      "\n",
      "epoch=8\n",
      "training_loss=0.12, training_accuracy= 0.96\n",
      "Validation: val_loss=0.16, val_accuracy=0.96\n",
      "\n",
      "epoch=9\n",
      "training_loss=0.11, training_accuracy= 0.96\n",
      "Validation: val_loss=0.19, val_accuracy=0.95\n",
      "\n",
      "epoch=10\n",
      "training_loss=0.11, training_accuracy= 0.97\n",
      "Validation: val_loss=0.18, val_accuracy=0.95\n",
      "\n"
     ]
    },
    {
     "ename": "NameError",
     "evalue": "name 'keras' is not defined",
     "output_type": "error",
     "traceback": [
      "\u001b[0;31m---------------------------------------------------------------------------\u001b[0m",
      "\u001b[0;31mNameError\u001b[0m                                 Traceback (most recent call last)",
      "\u001b[0;32m/tmp/ipykernel_700322/2861005851.py\u001b[0m in \u001b[0;36m<module>\u001b[0;34m\u001b[0m\n\u001b[1;32m     33\u001b[0m model.train(X, y_train_one_hot, validation_data=(X_val, y_val_one_hot),\n\u001b[1;32m     34\u001b[0m             epochs=10, batch_size=16)\n\u001b[0;32m---> 35\u001b[0;31m \u001b[0mkeras\u001b[0m\u001b[0;34m.\u001b[0m\u001b[0mdatasets\u001b[0m\u001b[0;34m.\u001b[0m\u001b[0mmnist\u001b[0m\u001b[0;34m.\u001b[0m\u001b[0mload_data\u001b[0m\u001b[0;34m(\u001b[0m\u001b[0;34m)\u001b[0m\u001b[0;34m\u001b[0m\u001b[0;34m\u001b[0m\u001b[0m\n\u001b[0m",
      "\u001b[0;31mNameError\u001b[0m: name 'keras' is not defined"
     ]
    }
   ],
   "source": [
    "# wandb.init(project=\"Assignment1\", entity=\"cookie303\")\n",
    "\n",
    "# wandb.config = {\n",
    "#     \"learning_rate\": 0.001,\n",
    "#     \"epochs\": 100,\n",
    "#     \"batch_size\": 128\n",
    "# }\n",
    "\n",
    "\n",
    "# Instantiate the model\n",
    "model = Model()\n",
    "\n",
    "# Add layers\n",
    "model.add(Linear(X.shape[1], 32, initializer=\"xavier\"))\n",
    "model.add(TanH())\n",
    "model.add(Linear(32, 32, initializer=\"xavier\"))\n",
    "model.add(TanH())\n",
    "model.add(Linear(32, 10, initializer=\"random\"))\n",
    "model.add(Softmax())\n",
    "\n",
    "# Set loss, optimizer and accuracy objects\n",
    "model.set(\n",
    "    loss=CategoricalCrossEntropy(),\n",
    "    optimizer=Adam(learning_rate=1e-3),\n",
    "    # optimizer=SGD(learning_rate=0.01, momentum=0.09),\n",
    "    scoring=Accuracy()\n",
    ")\n",
    "\n",
    "# Finalize the model\n",
    "model.setup_connections()\n",
    "\n",
    "# Train the model\n",
    "model.train(X, y_train_one_hot, validation_data=(X_val, y_val_one_hot),\n",
    "            epochs=10, batch_size=16)"
   ]
  },
  {
   "cell_type": "code",
   "execution_count": 8,
   "metadata": {},
   "outputs": [
    {
     "data": {
      "text/plain": [
       "{'loss': 0.16779832327631275, 'accuracy': 0.9507}"
      ]
     },
     "execution_count": 8,
     "metadata": {},
     "output_type": "execute_result"
    }
   ],
   "source": [
    "model.test(X_test, y_test_one_hot)"
   ]
  },
  {
   "cell_type": "code",
   "execution_count": 11,
   "metadata": {},
   "outputs": [
    {
     "data": {
      "text/html": [
       "<pre style=\"white-space:pre;overflow-x:auto;line-height:normal;font-family:Menlo,'DejaVu Sans Mono',consolas,'Courier New',monospace\">Predicted class : <span style=\"color: #008080; text-decoration-color: #008080; font-weight: bold\">6</span>\n",
       "</pre>\n"
      ],
      "text/plain": [
       "Predicted class : \u001b[1;36m6\u001b[0m\n"
      ]
     },
     "metadata": {},
     "output_type": "display_data"
    },
    {
     "data": {
      "text/html": [
       "<pre style=\"white-space:pre;overflow-x:auto;line-height:normal;font-family:Menlo,'DejaVu Sans Mono',consolas,'Courier New',monospace\">Actual class : <span style=\"color: #008080; text-decoration-color: #008080; font-weight: bold\">6</span>\n",
       "</pre>\n"
      ],
      "text/plain": [
       "Actual class : \u001b[1;36m6\u001b[0m\n"
      ]
     },
     "metadata": {},
     "output_type": "display_data"
    },
    {
     "data": {
      "image/png": "[encoded data removed]",
      "text/plain": [
       "<Figure size 432x288 with 1 Axes>"
      ]
     },
     "metadata": {
      "needs_background": "light"
     },
     "output_type": "display_data"
    }
   ],
   "source": [
    "im_id = np.random.randint(1000)\n",
    "idx = model.predict(X_test[im_id].reshape(1, -1)).argmax()\n",
    "plt.imshow(x_test[im_id], cmap=\"gray\")\n",
    "print(\"Predicted class :\", class_names[idx])\n",
    "print(\"Actual class :\", class_names[y_test[im_id]])\n",
    "plt.show()"
   ]
  },
  {
   "cell_type": "markdown",
   "metadata": {},
   "source": [
    "# WandB sweep"
   ]
  },
  {
   "cell_type": "code",
   "execution_count": 13,
   "metadata": {},
   "outputs": [],
   "source": [
    "activation_dict = {\n",
    "    \"Sigmoid\": Sigmoid,\n",
    "    \"Tanh\": TanH,\n",
    "    \"ReLU\": ReLU,\n",
    "}\n",
    "\n",
    "optim_dict = {\n",
    "    \"SGD\": SGD,\n",
    "    \"Adam\": Adam,\n",
    "    \"Nadam\": Nadam,\n",
    "    \"Moment\": Momentum,\n",
    "    \"RMSprop\": RMSprop,\n",
    "    \"NAG\": NAG\n",
    "}\n",
    "\n",
    "loss_dict = {\n",
    "    \"CategoricalCrossEntropy\": CategoricalCrossEntropy,\n",
    "}\n",
    "\n",
    "accuracy_dict = {\n",
    "    \"Accuracy\": Accuracy,\n",
    "}\n"
   ]
  },
  {
   "cell_type": "code",
   "execution_count": 14,
   "metadata": {},
   "outputs": [
    {
     "data": {
      "text/html": [
       "Finishing last run (ID:7ph4vox3) before initializing another..."
      ],
      "text/plain": [
       "<IPython.core.display.HTML object>"
      ]
     },
     "metadata": {},
     "output_type": "display_data"
    },
    {
     "data": {
      "text/html": [
       "<br/>Waiting for W&B process to finish, PID 700579... <strong style=\"color:green\">(success).</strong>"
      ],
      "text/plain": [
       "<IPython.core.display.HTML object>"
      ]
     },
     "metadata": {},
     "output_type": "display_data"
    },
    {
     "data": {
      "application/vnd.jupyter.widget-view+json": {
       "model_id": "",
       "version_major": 2,
       "version_minor": 0
      },
      "text/plain": [
       "VBox(children=(Label(value=' 0.01MB of 0.01MB uploaded (0.00MB deduped)\\r'), FloatProgress(value=1.0, max=1.0)…"
      ]
     },
     "metadata": {},
     "output_type": "display_data"
    },
    {
     "data": {
      "text/html": [
       "<style>\n",
       "    table.wandb td:nth-child(1) { padding: 0 10px; text-align: right }\n",
       "    .wandb-row { display: flex; flex-direction: row; flex-wrap: wrap; width: 100% }\n",
       "    .wandb-col { display: flex; flex-direction: column; flex-basis: 100%; flex: 1; padding: 10px; }\n",
       "    </style>\n",
       "<div class=\"wandb-row\"><div class=\"wandb-col\">\n",
       "<h3>Run history:</h3><br/><table class=\"wandb\"><tr><td>epoch</td><td>▁▂▃▃▄▅▆▆▇█</td></tr><tr><td>train_accuracy</td><td>▁▅▆▇▇▇▇███</td></tr><tr><td>train_loss</td><td>█▄▃▂▂▂▂▁▁▁</td></tr><tr><td>val_accuracy</td><td>▁▃▄▂▇▇▅█▅▆</td></tr><tr><td>val_loss</td><td>█▆▅▅▂▂▃▁▄▃</td></tr></table><br/></div><div class=\"wandb-col\">\n",
       "<h3>Run summary:</h3><br/><table class=\"wandb\"><tr><td>epoch</td><td>10</td></tr><tr><td>train_accuracy</td><td>0.96687</td></tr><tr><td>train_loss</td><td>0.10596</td></tr><tr><td>val_accuracy</td><td>0.95217</td></tr><tr><td>val_loss</td><td>0.17596</td></tr></table>\n",
       "</div></div>\n",
       "Synced 6 W&B file(s), 1 media file(s), 0 artifact file(s) and 0 other file(s)\n",
       "<br/>Synced <strong style=\"color:#cdcd00\">fallen-planet-896</strong>: <a href=\"https://wandb.ai/cookie303/Assignment1/runs/7ph4vox3\" target=\"_blank\">https://wandb.ai/cookie303/Assignment1/runs/7ph4vox3</a><br/>\n",
       "Find logs at: <code>./wandb/run-20220225_152714-7ph4vox3/logs</code><br/>\n"
      ],
      "text/plain": [
       "<IPython.core.display.HTML object>"
      ]
     },
     "metadata": {},
     "output_type": "display_data"
    },
    {
     "data": {
      "text/html": [
       "Successfully finished last run (ID:7ph4vox3). Initializing new run:<br/>"
      ],
      "text/plain": [
       "<IPython.core.display.HTML object>"
      ]
     },
     "metadata": {},
     "output_type": "display_data"
    },
    {
     "name": "stderr",
     "output_type": "stream",
     "text": [
      "2022-02-25 17:14:32.106713: W tensorflow/stream_executor/platform/default/dso_loader.cc:64] Could not load dynamic library 'libcudart.so.11.0'; dlerror: libcudart.so.11.0: cannot open shared object file: No such file or directory\n",
      "2022-02-25 17:14:32.106740: I tensorflow/stream_executor/cuda/cudart_stub.cc:29] Ignore above cudart dlerror if you do not have a GPU set up on your machine.\n"
     ]
    },
    {
     "data": {
      "text/html": [
       "\n",
       "                    Syncing run <strong><a href=\"https://wandb.ai/cookie303/Assignment1/runs/1pb6m8wg\" target=\"_blank\">glad-tree-966</a></strong> to <a href=\"https://wandb.ai/cookie303/Assignment1\" target=\"_blank\">Weights & Biases</a> (<a href=\"https://docs.wandb.com/integrations/jupyter.html\" target=\"_blank\">docs</a>).<br/>\n",
       "\n",
       "                "
      ],
      "text/plain": [
       "<IPython.core.display.HTML object>"
      ]
     },
     "metadata": {},
     "output_type": "display_data"
    },
    {
     "name": "stdout",
     "output_type": "stream",
     "text": [
      "Create sweep with ID: mvcqeh0x\n",
      "Sweep URL: https://wandb.ai/cookie303/Assignment1/sweeps/mvcqeh0x\n"
     ]
    }
   ],
   "source": [
    "wandb.init(project=\"Assignment1\", entity=\"cookie303\")\n",
    "\n",
    "sweep_config = {\n",
    "  \"name\": \"Bayesian Sweep\",\n",
    "  \"method\": \"bayes\",\n",
    "  \"metric\":{\n",
    "  \"name\": \"val_accuracy\",\n",
    "  \"goal\": \"maximize\"\n",
    "  },\n",
    "  \"parameters\": {\n",
    "\n",
    "        \"num_layers\": {\n",
    "            \"values\": [3, 4, 5]\n",
    "        },\n",
    "        \n",
    "        \n",
    "        \"num_hidden_neurons\": {\n",
    "            \"values\": [32, 64, 128, 256]\n",
    "        },\n",
    "        \n",
    "        \n",
    "        \"weight_decay\": {\n",
    "            \"values\": [0, 0.0001, 0.0005, 0.001, 0.0015]\n",
    "        },\n",
    "        \n",
    "                    \n",
    "        \"batch_size\": {\n",
    "            \"values\": [16, 32, 64]\n",
    "        }\n",
    "        \n",
    "    }\n",
    "}\n",
    "\n",
    "sweep_id = wandb.sweep(sweep_config,project='Assignment1', entity='cookie303')"
   ]
  },
  {
   "cell_type": "code",
   "execution_count": 15,
   "metadata": {},
   "outputs": [],
   "source": [
    "def sweep():\n",
    "    config_defaults = dict(\n",
    "        epochs=10,\n",
    "        num_layers=3,\n",
    "        num_hidden_neurons=128,\n",
    "        weight_decay=0.0005,\n",
    "        learning_rate=0.0005,\n",
    "        optimizer=\"Nadam\",\n",
    "        batch_size=64,\n",
    "        activation=\"ReLU\",\n",
    "        initializer=\"xavier\",\n",
    "    )\n",
    "\n",
    "\n",
    "    wandb.init(config=config_defaults)\n",
    "    #wandb.init(project='CS6910-DeepLearningFundamentals-Assignment1', entity='rahulsundar',config = config_defaults)\n",
    "\n",
    "    wandb.run.name = \"hl_\" + str(wandb.config.num_layers) + \"_hn_\" + str(wandb.config.num_hidden_neurons) +\\\n",
    "                 \"_opt_\" + wandb.config.optimizer + \"_act_\" + wandb.config.activation + \"_lr_\" + \\\n",
    "                 str(wandb.config.learning_rate) + \"_bs_\" + str(wandb.config.batch_size) + \"_init_\" + \\\n",
    "                 wandb.config.initializer + \"_ep_\" + str(wandb.config.epochs) + \"_l2_\" + str(wandb.config.weight_decay)\n",
    "    \n",
    "    CONFIG = wandb.config\n",
    "\n",
    "\n",
    "    # Initialize the model\n",
    "    model = Model()\n",
    "\n",
    "\n",
    "    for layer in range(CONFIG.num_layers):\n",
    "        # First Layer\n",
    "        if layer == 0:\n",
    "            model.add(Linear(\n",
    "                X.shape[1], CONFIG.num_hidden_neurons, initializer=CONFIG.initializer, alpha=CONFIG.weight_decay))\n",
    "            model.add(activation_dict[CONFIG.activation]())\n",
    "\n",
    "        elif layer == CONFIG.num_layers - 1:\n",
    "            model.add(Linear(CONFIG.num_hidden_neurons,\n",
    "                    len(y_test_one_hot[0]), initializer=CONFIG.initializer, alpha=CONFIG.weight_decay))\n",
    "            model.add(Softmax())\n",
    "            \n",
    "        else:\n",
    "            model.add(Linear(CONFIG.num_hidden_neurons,\n",
    "                    CONFIG.num_hidden_neurons, initializer=CONFIG.initializer, alpha=CONFIG.weight_decay))\n",
    "            model.add(activation_dict[CONFIG.activation]())\n",
    "\n",
    "    model.set(\n",
    "        loss=CategoricalCrossEntropy(),\n",
    "        optimizer=optim_dict[CONFIG.optimizer](learning_rate=CONFIG.learning_rate),\n",
    "        scoring=Accuracy()\n",
    "    )\n",
    "\n",
    "\n",
    "    # Finalize the model\n",
    "    model.setup_connections()\n",
    "\n",
    "    model.train(X, y_train_one_hot, validation_data=(X_val, y_val_one_hot),\n",
    "                epochs=CONFIG.epochs, batch_size=CONFIG.batch_size)\n",
    "\n",
    "    test_results = model.test(X_test, y_test_one_hot)\n",
    "    wandb.log({\n",
    "        \"test_loss\":test_results['loss'],\n",
    "        \"test_accuracy\": test_results['accuracy']\n",
    "    })"
   ]
  },
  {
   "cell_type": "code",
   "execution_count": 18,
   "metadata": {},
   "outputs": [
    {
     "name": "stderr",
     "output_type": "stream",
     "text": [
      "\u001b[34m\u001b[1mwandb\u001b[0m: \u001b[33mWARNING\u001b[0m Calling wandb.login() after wandb.init() has no effect.\n",
      "\u001b[34m\u001b[1mwandb\u001b[0m: Agent Starting Run: orxzazmk with config:\n",
      "\u001b[34m\u001b[1mwandb\u001b[0m: \tbatch_size: 64\n",
      "\u001b[34m\u001b[1mwandb\u001b[0m: \tnum_hidden_neurons: 32\n",
      "\u001b[34m\u001b[1mwandb\u001b[0m: \tnum_layers: 3\n",
      "\u001b[34m\u001b[1mwandb\u001b[0m: \tweight_decay: 0\n",
      "2022-02-25 17:20:29.496791: W tensorflow/stream_executor/platform/default/dso_loader.cc:64] Could not load dynamic library 'libcudart.so.11.0'; dlerror: libcudart.so.11.0: cannot open shared object file: No such file or directory\n",
      "2022-02-25 17:20:29.496812: I tensorflow/stream_executor/cuda/cudart_stub.cc:29] Ignore above cudart dlerror if you do not have a GPU set up on your machine.\n"
     ]
    },
    {
     "data": {
      "text/html": [
       "\n",
       "                    Syncing run <strong><a href=\"https://wandb.ai/cookie303/Assignment1/runs/orxzazmk\" target=\"_blank\">magic-sweep-4</a></strong> to <a href=\"https://wandb.ai/cookie303/Assignment1\" target=\"_blank\">Weights & Biases</a> (<a href=\"https://docs.wandb.com/integrations/jupyter.html\" target=\"_blank\">docs</a>).<br/>\n",
       "Sweep page: <a href=\"https://wandb.ai/cookie303/Assignment1/sweeps/mvcqeh0x\" target=\"_blank\">https://wandb.ai/cookie303/Assignment1/sweeps/mvcqeh0x</a><br/>\n",
       "\n",
       "                "
      ],
      "text/plain": [
       "<IPython.core.display.HTML object>"
      ]
     },
     "metadata": {},
     "output_type": "display_data"
    },
    {
     "name": "stdout",
     "output_type": "stream",
     "text": [
      "epoch=1\n",
      "training_loss=0.41, training_accuracy= 0.88\n",
      "Validation: val_loss=0.21, val_accuracy=0.94\n",
      "\n",
      "epoch=2\n",
      "training_loss=0.18, training_accuracy= 0.95\n",
      "Validation: val_loss=0.17, val_accuracy=0.95\n",
      "\n",
      "epoch=3\n",
      "training_loss=0.14, training_accuracy= 0.96\n",
      "Validation: val_loss=0.16, val_accuracy=0.95\n",
      "\n",
      "epoch=4\n",
      "training_loss=0.12, training_accuracy= 0.96\n",
      "Validation: val_loss=0.15, val_accuracy=0.96\n",
      "\n",
      "epoch=5\n",
      "training_loss=0.11, training_accuracy= 0.97\n",
      "Validation: val_loss=0.14, val_accuracy=0.96\n",
      "\n",
      "epoch=6\n",
      "training_loss=0.10, training_accuracy= 0.97\n",
      "Validation: val_loss=0.13, val_accuracy=0.96\n",
      "\n",
      "epoch=7\n",
      "training_loss=0.09, training_accuracy= 0.97\n",
      "Validation: val_loss=0.13, val_accuracy=0.96\n",
      "\n",
      "epoch=8\n",
      "training_loss=0.08, training_accuracy= 0.98\n",
      "Validation: val_loss=0.13, val_accuracy=0.96\n",
      "\n",
      "epoch=9\n",
      "training_loss=0.07, training_accuracy= 0.98\n",
      "Validation: val_loss=0.13, val_accuracy=0.96\n",
      "\n",
      "epoch=10\n",
      "training_loss=0.07, training_accuracy= 0.98\n",
      "Validation: val_loss=0.13, val_accuracy=0.96\n",
      "\n"
     ]
    },
    {
     "data": {
      "text/html": [
       "<br/>Waiting for W&B process to finish, PID 706380... <strong style=\"color:green\">(success).</strong>"
      ],
      "text/plain": [
       "<IPython.core.display.HTML object>"
      ]
     },
     "metadata": {},
     "output_type": "display_data"
    },
    {
     "data": {
      "application/vnd.jupyter.widget-view+json": {
       "model_id": "",
       "version_major": 2,
       "version_minor": 0
      },
      "text/plain": [
       "VBox(children=(Label(value=' 0.00MB of 0.00MB uploaded (0.00MB deduped)\\r'), FloatProgress(value=1.0, max=1.0)…"
      ]
     },
     "metadata": {},
     "output_type": "display_data"
    },
    {
     "data": {
      "text/html": [
       "<style>\n",
       "    table.wandb td:nth-child(1) { padding: 0 10px; text-align: right }\n",
       "    .wandb-row { display: flex; flex-direction: row; flex-wrap: wrap; width: 100% }\n",
       "    .wandb-col { display: flex; flex-direction: column; flex-basis: 100%; flex: 1; padding: 10px; }\n",
       "    </style>\n",
       "<div class=\"wandb-row\"><div class=\"wandb-col\">\n",
       "<h3>Run history:</h3><br/><table class=\"wandb\"><tr><td>epoch</td><td>▁▂▃▃▄▅▆▆▇█</td></tr><tr><td>test_accuracy</td><td>▁</td></tr><tr><td>test_loss</td><td>▁</td></tr><tr><td>train_accuracy</td><td>▁▆▆▇▇▇████</td></tr><tr><td>train_loss</td><td>█▃▃▂▂▂▁▁▁▁</td></tr><tr><td>val_accuracy</td><td>▁▅▆▇▇█████</td></tr><tr><td>val_loss</td><td>█▅▃▂▂▁▁▁▁▁</td></tr></table><br/></div><div class=\"wandb-col\">\n",
       "<h3>Run summary:</h3><br/><table class=\"wandb\"><tr><td>epoch</td><td>10</td></tr><tr><td>test_accuracy</td><td>0.964</td></tr><tr><td>test_loss</td><td>0.12388</td></tr><tr><td>train_accuracy</td><td>0.98002</td></tr><tr><td>train_loss</td><td>0.06875</td></tr><tr><td>val_accuracy</td><td>0.96233</td></tr><tr><td>val_loss</td><td>0.12787</td></tr></table>\n",
       "</div></div>\n",
       "Synced 6 W&B file(s), 0 media file(s), 0 artifact file(s) and 0 other file(s)\n",
       "<br/>Synced <strong style=\"color:#cdcd00\">magic-sweep-4</strong>: <a href=\"https://wandb.ai/cookie303/Assignment1/runs/orxzazmk\" target=\"_blank\">https://wandb.ai/cookie303/Assignment1/runs/orxzazmk</a><br/>\n",
       "Find logs at: <code>./wandb/run-20220225_172028-orxzazmk/logs</code><br/>\n"
      ],
      "text/plain": [
       "<IPython.core.display.HTML object>"
      ]
     },
     "metadata": {},
     "output_type": "display_data"
    },
    {
     "name": "stderr",
     "output_type": "stream",
     "text": [
      "\u001b[34m\u001b[1mwandb\u001b[0m: Agent Starting Run: krsc8j8s with config:\n",
      "\u001b[34m\u001b[1mwandb\u001b[0m: \tbatch_size: 64\n",
      "\u001b[34m\u001b[1mwandb\u001b[0m: \tnum_hidden_neurons: 32\n",
      "\u001b[34m\u001b[1mwandb\u001b[0m: \tnum_layers: 5\n",
      "\u001b[34m\u001b[1mwandb\u001b[0m: \tweight_decay: 0.0005\n",
      "2022-02-25 17:21:01.352734: W tensorflow/stream_executor/platform/default/dso_loader.cc:64] Could not load dynamic library 'libcudart.so.11.0'; dlerror: libcudart.so.11.0: cannot open shared object file: No such file or directory\n",
      "2022-02-25 17:21:01.352755: I tensorflow/stream_executor/cuda/cudart_stub.cc:29] Ignore above cudart dlerror if you do not have a GPU set up on your machine.\n"
     ]
    },
    {
     "data": {
      "text/html": [
       "\n",
       "                    Syncing run <strong><a href=\"https://wandb.ai/cookie303/Assignment1/runs/krsc8j8s\" target=\"_blank\">ancient-sweep-5</a></strong> to <a href=\"https://wandb.ai/cookie303/Assignment1\" target=\"_blank\">Weights & Biases</a> (<a href=\"https://docs.wandb.com/integrations/jupyter.html\" target=\"_blank\">docs</a>).<br/>\n",
       "Sweep page: <a href=\"https://wandb.ai/cookie303/Assignment1/sweeps/mvcqeh0x\" target=\"_blank\">https://wandb.ai/cookie303/Assignment1/sweeps/mvcqeh0x</a><br/>\n",
       "\n",
       "                "
      ],
      "text/plain": [
       "<IPython.core.display.HTML object>"
      ]
     },
     "metadata": {},
     "output_type": "display_data"
    },
    {
     "name": "stdout",
     "output_type": "stream",
     "text": [
      "epoch=1\n",
      "training_loss=0.37, training_accuracy= 0.89\n",
      "Validation: val_loss=0.19, val_accuracy=0.94\n",
      "\n",
      "epoch=2\n",
      "training_loss=0.16, training_accuracy= 0.95\n",
      "Validation: val_loss=0.16, val_accuracy=0.95\n",
      "\n",
      "epoch=3\n",
      "training_loss=0.13, training_accuracy= 0.96\n",
      "Validation: val_loss=0.14, val_accuracy=0.96\n",
      "\n",
      "epoch=4\n",
      "training_loss=0.11, training_accuracy= 0.97\n",
      "Validation: val_loss=0.13, val_accuracy=0.96\n",
      "\n",
      "epoch=5\n",
      "training_loss=0.10, training_accuracy= 0.97\n",
      "Validation: val_loss=0.13, val_accuracy=0.96\n",
      "\n",
      "epoch=6\n",
      "training_loss=0.09, training_accuracy= 0.97\n",
      "Validation: val_loss=0.12, val_accuracy=0.97\n",
      "\n",
      "epoch=7\n",
      "training_loss=0.08, training_accuracy= 0.98\n",
      "Validation: val_loss=0.12, val_accuracy=0.97\n",
      "\n",
      "epoch=8\n",
      "training_loss=0.07, training_accuracy= 0.98\n",
      "Validation: val_loss=0.12, val_accuracy=0.97\n",
      "\n",
      "epoch=9\n",
      "training_loss=0.07, training_accuracy= 0.98\n",
      "Validation: val_loss=0.12, val_accuracy=0.97\n",
      "\n",
      "epoch=10\n",
      "training_loss=0.06, training_accuracy= 0.98\n",
      "Validation: val_loss=0.12, val_accuracy=0.97\n",
      "\n"
     ]
    },
    {
     "data": {
      "text/html": [
       "<br/>Waiting for W&B process to finish, PID 706468... <strong style=\"color:green\">(success).</strong>"
      ],
      "text/plain": [
       "<IPython.core.display.HTML object>"
      ]
     },
     "metadata": {},
     "output_type": "display_data"
    },
    {
     "data": {
      "application/vnd.jupyter.widget-view+json": {
       "model_id": "",
       "version_major": 2,
       "version_minor": 0
      },
      "text/plain": [
       "VBox(children=(Label(value=' 0.00MB of 0.00MB uploaded (0.00MB deduped)\\r'), FloatProgress(value=1.0, max=1.0)…"
      ]
     },
     "metadata": {},
     "output_type": "display_data"
    },
    {
     "data": {
      "text/html": [
       "<style>\n",
       "    table.wandb td:nth-child(1) { padding: 0 10px; text-align: right }\n",
       "    .wandb-row { display: flex; flex-direction: row; flex-wrap: wrap; width: 100% }\n",
       "    .wandb-col { display: flex; flex-direction: column; flex-basis: 100%; flex: 1; padding: 10px; }\n",
       "    </style>\n",
       "<div class=\"wandb-row\"><div class=\"wandb-col\">\n",
       "<h3>Run history:</h3><br/><table class=\"wandb\"><tr><td>epoch</td><td>▁▂▃▃▄▅▆▆▇█</td></tr><tr><td>test_accuracy</td><td>▁</td></tr><tr><td>test_loss</td><td>▁</td></tr><tr><td>train_accuracy</td><td>▁▆▆▇▇▇████</td></tr><tr><td>train_loss</td><td>█▃▃▂▂▂▁▁▁▁</td></tr><tr><td>val_accuracy</td><td>▁▄▆▇▇▇████</td></tr><tr><td>val_loss</td><td>█▅▃▃▂▁▁▁▁▁</td></tr></table><br/></div><div class=\"wandb-col\">\n",
       "<h3>Run summary:</h3><br/><table class=\"wandb\"><tr><td>epoch</td><td>10</td></tr><tr><td>test_accuracy</td><td>0.9676</td></tr><tr><td>test_loss</td><td>0.10721</td></tr><tr><td>train_accuracy</td><td>0.98202</td></tr><tr><td>train_loss</td><td>0.06221</td></tr><tr><td>val_accuracy</td><td>0.96767</td></tr><tr><td>val_loss</td><td>0.11658</td></tr></table>\n",
       "</div></div>\n",
       "Synced 6 W&B file(s), 0 media file(s), 0 artifact file(s) and 0 other file(s)\n",
       "<br/>Synced <strong style=\"color:#cdcd00\">ancient-sweep-5</strong>: <a href=\"https://wandb.ai/cookie303/Assignment1/runs/krsc8j8s\" target=\"_blank\">https://wandb.ai/cookie303/Assignment1/runs/krsc8j8s</a><br/>\n",
       "Find logs at: <code>./wandb/run-20220225_172100-krsc8j8s/logs</code><br/>\n"
      ],
      "text/plain": [
       "<IPython.core.display.HTML object>"
      ]
     },
     "metadata": {},
     "output_type": "display_data"
    },
    {
     "name": "stderr",
     "output_type": "stream",
     "text": [
      "\u001b[34m\u001b[1mwandb\u001b[0m: Agent Starting Run: t4fczhsz with config:\n",
      "\u001b[34m\u001b[1mwandb\u001b[0m: \tbatch_size: 32\n",
      "\u001b[34m\u001b[1mwandb\u001b[0m: \tnum_hidden_neurons: 64\n",
      "\u001b[34m\u001b[1mwandb\u001b[0m: \tnum_layers: 5\n",
      "\u001b[34m\u001b[1mwandb\u001b[0m: \tweight_decay: 0.001\n",
      "2022-02-25 17:21:38.375366: W tensorflow/stream_executor/platform/default/dso_loader.cc:64] Could not load dynamic library 'libcudart.so.11.0'; dlerror: libcudart.so.11.0: cannot open shared object file: No such file or directory\n",
      "2022-02-25 17:21:38.375389: I tensorflow/stream_executor/cuda/cudart_stub.cc:29] Ignore above cudart dlerror if you do not have a GPU set up on your machine.\n"
     ]
    },
    {
     "data": {
      "text/html": [
       "\n",
       "                    Syncing run <strong><a href=\"https://wandb.ai/cookie303/Assignment1/runs/t4fczhsz\" target=\"_blank\">rosy-sweep-6</a></strong> to <a href=\"https://wandb.ai/cookie303/Assignment1\" target=\"_blank\">Weights & Biases</a> (<a href=\"https://docs.wandb.com/integrations/jupyter.html\" target=\"_blank\">docs</a>).<br/>\n",
       "Sweep page: <a href=\"https://wandb.ai/cookie303/Assignment1/sweeps/mvcqeh0x\" target=\"_blank\">https://wandb.ai/cookie303/Assignment1/sweeps/mvcqeh0x</a><br/>\n",
       "\n",
       "                "
      ],
      "text/plain": [
       "<IPython.core.display.HTML object>"
      ]
     },
     "metadata": {},
     "output_type": "display_data"
    },
    {
     "name": "stdout",
     "output_type": "stream",
     "text": [
      "epoch=1\n",
      "training_loss=0.27, training_accuracy= 0.92\n",
      "Validation: val_loss=0.15, val_accuracy=0.96\n",
      "\n",
      "epoch=2\n",
      "training_loss=0.12, training_accuracy= 0.96\n",
      "Validation: val_loss=0.12, val_accuracy=0.96\n",
      "\n",
      "epoch=3\n",
      "training_loss=0.09, training_accuracy= 0.97\n",
      "Validation: val_loss=0.11, val_accuracy=0.97\n",
      "\n",
      "epoch=4\n",
      "training_loss=0.08, training_accuracy= 0.98\n",
      "Validation: val_loss=0.10, val_accuracy=0.97\n",
      "\n",
      "epoch=5\n",
      "training_loss=0.07, training_accuracy= 0.98\n",
      "Validation: val_loss=0.10, val_accuracy=0.97\n",
      "\n",
      "epoch=6\n"
     ]
    },
    {
     "name": "stderr",
     "output_type": "stream",
     "text": [
      "Exception in thread ChkStopThr:\n",
      "Traceback (most recent call last):\n",
      "  File \"/home/sandip/anaconda3/lib/python3.9/threading.py\", line 973, in _bootstrap_inner\n",
      "    self.run()\n",
      "  File \"/home/sandip/anaconda3/lib/python3.9/threading.py\", line 910, in run\n",
      "    self._target(*self._args, **self._kwargs)\n",
      "  File \"/home/sandip/anaconda3/lib/python3.9/site-packages/wandb/sdk/wandb_run.py\", line 166, in check_status\n",
      "    status_response = self._interface.communicate_stop_status()\n",
      "  File \"/home/sandip/anaconda3/lib/python3.9/site-packages/wandb/sdk/interface/interface.py\", line 114, in communicate_stop_status\n",
      "Exception in thread NetStatThr:\n",
      "Traceback (most recent call last):\n",
      "  File \"/home/sandip/anaconda3/lib/python3.9/threading.py\", line 973, in _bootstrap_inner\n",
      "    self.run()\n",
      "  File \"/home/sandip/anaconda3/lib/python3.9/threading.py\", line 910, in run\n",
      "    self._target(*self._args, **self._kwargs)\n",
      "  File \"/home/sandip/anaconda3/lib/python3.9/site-packages/wandb/sdk/wandb_run.py\", line 148, in check_network_status\n",
      "    status_response = self._interface.communicate_network_status()\n",
      "  File \"/home/sandip/anaconda3/lib/python3.9/site-packages/wandb/sdk/interface/interface.py\", line 125, in communicate_network_status\n",
      "    resp = self._communicate_network_status(status)\n",
      "  File \"/home/sandip/anaconda3/lib/python3.9/site-packages/wandb/sdk/interface/interface_shared.py\", line 388, in _communicate_network_status\n",
      "    resp = self._communicate(req, local=True)\n",
      "  File \"/home/sandip/anaconda3/lib/python3.9/site-packages/wandb/sdk/interface/interface_shared.py\", line 213, in _communicate\n",
      "    return self._communicate_async(rec, local=local).get(timeout=timeout)\n",
      "  File \"/home/sandip/anaconda3/lib/python3.9/site-packages/wandb/sdk/interface/interface_shared.py\", line 218, in _communicate_async\n",
      "    raise Exception(\"The wandb backend process has shutdown\")\n",
      "Exception: The wandb backend process has shutdown\n",
      "    resp = self._communicate_stop_status(status)\n",
      "  File \"/home/sandip/anaconda3/lib/python3.9/site-packages/wandb/sdk/interface/interface_shared.py\", line 378, in _communicate_stop_status\n",
      "    resp = self._communicate(req, local=True)\n",
      "  File \"/home/sandip/anaconda3/lib/python3.9/site-packages/wandb/sdk/interface/interface_shared.py\", line 213, in _communicate\n",
      "    return self._communicate_async(rec, local=local).get(timeout=timeout)\n",
      "  File \"/home/sandip/anaconda3/lib/python3.9/site-packages/wandb/sdk/interface/interface_shared.py\", line 218, in _communicate_async\n",
      "    raise Exception(\"The wandb backend process has shutdown\")\n",
      "Exception: The wandb backend process has shutdown\n",
      "\u001b[34m\u001b[1mwandb\u001b[0m: \u001b[32m\u001b[41mERROR\u001b[0m Problem finishing run\n",
      "Traceback (most recent call last):\n",
      "  File \"/home/sandip/anaconda3/lib/python3.9/site-packages/wandb/sdk/wandb_run.py\", line 1805, in _atexit_cleanup\n",
      "    self._on_finish()\n",
      "  File \"/home/sandip/anaconda3/lib/python3.9/site-packages/wandb/sdk/wandb_run.py\", line 1988, in _on_finish\n",
      "    self._poll_exit_response = self._wait_for_finish()\n",
      "  File \"/home/sandip/anaconda3/lib/python3.9/site-packages/wandb/sdk/wandb_run.py\", line 1928, in _wait_for_finish\n",
      "    poll_exit_resp = self._backend.interface.communicate_poll_exit()\n",
      "  File \"/home/sandip/anaconda3/lib/python3.9/site-packages/wandb/sdk/interface/interface.py\", line 586, in communicate_poll_exit\n",
      "    resp = self._communicate_poll_exit(poll_exit)\n",
      "  File \"/home/sandip/anaconda3/lib/python3.9/site-packages/wandb/sdk/interface/interface_shared.py\", line 402, in _communicate_poll_exit\n",
      "    result = self._communicate(rec)\n",
      "  File \"/home/sandip/anaconda3/lib/python3.9/site-packages/wandb/sdk/interface/interface_shared.py\", line 213, in _communicate\n",
      "    return self._communicate_async(rec, local=local).get(timeout=timeout)\n",
      "  File \"/home/sandip/anaconda3/lib/python3.9/site-packages/wandb/sdk/interface/router.py\", line 37, in get\n",
      "    is_set = self._object_ready.wait(timeout)\n",
      "  File \"/home/sandip/anaconda3/lib/python3.9/threading.py\", line 574, in wait\n",
      "    signaled = self._cond.wait(timeout)\n",
      "  File \"/home/sandip/anaconda3/lib/python3.9/threading.py\", line 316, in wait\n",
      "    gotit = waiter.acquire(True, timeout)\n",
      "Exception\n"
     ]
    },
    {
     "name": "stdout",
     "output_type": "stream",
     "text": [
      "training_loss=0.06, training_accuracy= 0.98\n",
      "Validation: val_loss=0.10, val_accuracy=0.97\n",
      "\n",
      "epoch=7\n",
      "training_loss=0.05, training_accuracy= 0.98\n",
      "Validation: val_loss=0.10, val_accuracy=0.97\n",
      "\n",
      "epoch=8\n",
      "training_loss=0.05, training_accuracy= 0.99\n",
      "Validation: val_loss=0.10, val_accuracy=0.97\n",
      "\n",
      "epoch=9\n",
      "training_loss=0.04, training_accuracy= 0.99\n",
      "Validation: val_loss=0.10, val_accuracy=0.97\n",
      "\n",
      "epoch=10\n"
     ]
    },
    {
     "name": "stderr",
     "output_type": "stream",
     "text": [
      "\u001b[34m\u001b[1mwandb\u001b[0m: \u001b[32m\u001b[41mERROR\u001b[0m Run t4fczhsz errored: Error('You must call wandb.init() before wandb.log()')\n"
     ]
    },
    {
     "name": "stdout",
     "output_type": "stream",
     "text": [
      "training_loss=0.04, training_accuracy= 0.99\n",
      "Validation: val_loss=0.09, val_accuracy=0.97\n",
      "\n"
     ]
    },
    {
     "name": "stderr",
     "output_type": "stream",
     "text": [
      "\u001b[34m\u001b[1mwandb\u001b[0m: Agent Starting Run: r6cqkjyn with config:\n",
      "\u001b[34m\u001b[1mwandb\u001b[0m: \tbatch_size: 64\n",
      "\u001b[34m\u001b[1mwandb\u001b[0m: \tnum_hidden_neurons: 256\n",
      "\u001b[34m\u001b[1mwandb\u001b[0m: \tnum_layers: 3\n",
      "\u001b[34m\u001b[1mwandb\u001b[0m: \tweight_decay: 0.0015\n",
      "2022-02-25 17:22:33.971788: W tensorflow/stream_executor/platform/default/dso_loader.cc:64] Could not load dynamic library 'libcudart.so.11.0'; dlerror: libcudart.so.11.0: cannot open shared object file: No such file or directory\n",
      "2022-02-25 17:22:33.971813: I tensorflow/stream_executor/cuda/cudart_stub.cc:29] Ignore above cudart dlerror if you do not have a GPU set up on your machine.\n"
     ]
    },
    {
     "data": {
      "text/html": [
       "\n",
       "                    Syncing run <strong><a href=\"https://wandb.ai/cookie303/Assignment1/runs/r6cqkjyn\" target=\"_blank\">divine-sweep-7</a></strong> to <a href=\"https://wandb.ai/cookie303/Assignment1\" target=\"_blank\">Weights & Biases</a> (<a href=\"https://docs.wandb.com/integrations/jupyter.html\" target=\"_blank\">docs</a>).<br/>\n",
       "Sweep page: <a href=\"https://wandb.ai/cookie303/Assignment1/sweeps/mvcqeh0x\" target=\"_blank\">https://wandb.ai/cookie303/Assignment1/sweeps/mvcqeh0x</a><br/>\n",
       "\n",
       "                "
      ],
      "text/plain": [
       "<IPython.core.display.HTML object>"
      ]
     },
     "metadata": {},
     "output_type": "display_data"
    },
    {
     "name": "stdout",
     "output_type": "stream",
     "text": [
      "epoch=1\n",
      "training_loss=0.23, training_accuracy= 0.93\n",
      "Validation: val_loss=0.12, val_accuracy=0.96\n",
      "\n",
      "epoch=2\n",
      "training_loss=0.10, training_accuracy= 0.97\n",
      "Validation: val_loss=0.10, val_accuracy=0.97\n",
      "\n",
      "epoch=3\n",
      "training_loss=0.08, training_accuracy= 0.98\n",
      "Validation: val_loss=0.09, val_accuracy=0.97\n",
      "\n",
      "epoch=4\n",
      "training_loss=0.06, training_accuracy= 0.98\n",
      "Validation: val_loss=0.08, val_accuracy=0.97\n",
      "\n",
      "epoch=5\n",
      "training_loss=0.06, training_accuracy= 0.98\n",
      "Validation: val_loss=0.08, val_accuracy=0.97\n",
      "\n",
      "epoch=6\n",
      "training_loss=0.05, training_accuracy= 0.99\n",
      "Validation: val_loss=0.08, val_accuracy=0.98\n",
      "\n",
      "epoch=7\n",
      "training_loss=0.05, training_accuracy= 0.99\n",
      "Validation: val_loss=0.08, val_accuracy=0.98\n",
      "\n",
      "epoch=8\n",
      "training_loss=0.04, training_accuracy= 0.99\n",
      "Validation: val_loss=0.08, val_accuracy=0.98\n",
      "\n",
      "epoch=9\n",
      "training_loss=0.04, training_accuracy= 0.99\n",
      "Validation: val_loss=0.08, val_accuracy=0.98\n",
      "\n",
      "epoch=10\n",
      "training_loss=0.04, training_accuracy= 0.99\n",
      "Validation: val_loss=0.08, val_accuracy=0.98\n",
      "\n"
     ]
    },
    {
     "data": {
      "text/html": [
       "<br/>Waiting for W&B process to finish, PID 706568... <strong style=\"color:green\">(success).</strong>"
      ],
      "text/plain": [
       "<IPython.core.display.HTML object>"
      ]
     },
     "metadata": {},
     "output_type": "display_data"
    },
    {
     "data": {
      "application/vnd.jupyter.widget-view+json": {
       "model_id": "",
       "version_major": 2,
       "version_minor": 0
      },
      "text/plain": [
       "VBox(children=(Label(value=' 0.00MB of 0.00MB uploaded (0.00MB deduped)\\r'), FloatProgress(value=1.0, max=1.0)…"
      ]
     },
     "metadata": {},
     "output_type": "display_data"
    },
    {
     "data": {
      "text/html": [
       "<style>\n",
       "    table.wandb td:nth-child(1) { padding: 0 10px; text-align: right }\n",
       "    .wandb-row { display: flex; flex-direction: row; flex-wrap: wrap; width: 100% }\n",
       "    .wandb-col { display: flex; flex-direction: column; flex-basis: 100%; flex: 1; padding: 10px; }\n",
       "    </style>\n",
       "<div class=\"wandb-row\"><div class=\"wandb-col\">\n",
       "<h3>Run history:</h3><br/><table class=\"wandb\"><tr><td>epoch</td><td>▁▂▃▃▄▅▆▆▇█</td></tr><tr><td>test_accuracy</td><td>▁</td></tr><tr><td>test_loss</td><td>▁</td></tr><tr><td>train_accuracy</td><td>▁▆▆▇▇▇████</td></tr><tr><td>train_loss</td><td>█▃▂▂▂▁▁▁▁▁</td></tr><tr><td>val_accuracy</td><td>▁▅▆▆▇▇▇▇▇█</td></tr><tr><td>val_loss</td><td>█▄▂▂▂▁▁▁▁▁</td></tr></table><br/></div><div class=\"wandb-col\">\n",
       "<h3>Run summary:</h3><br/><table class=\"wandb\"><tr><td>epoch</td><td>10</td></tr><tr><td>test_accuracy</td><td>0.9779</td></tr><tr><td>test_loss</td><td>0.0682</td></tr><tr><td>train_accuracy</td><td>0.99031</td></tr><tr><td>train_loss</td><td>0.03805</td></tr><tr><td>val_accuracy</td><td>0.97717</td></tr><tr><td>val_loss</td><td>0.07872</td></tr></table>\n",
       "</div></div>\n",
       "Synced 6 W&B file(s), 0 media file(s), 0 artifact file(s) and 0 other file(s)\n",
       "<br/>Synced <strong style=\"color:#cdcd00\">divine-sweep-7</strong>: <a href=\"https://wandb.ai/cookie303/Assignment1/runs/r6cqkjyn\" target=\"_blank\">https://wandb.ai/cookie303/Assignment1/runs/r6cqkjyn</a><br/>\n",
       "Find logs at: <code>./wandb/run-20220225_172232-r6cqkjyn/logs</code><br/>\n"
      ],
      "text/plain": [
       "<IPython.core.display.HTML object>"
      ]
     },
     "metadata": {},
     "output_type": "display_data"
    },
    {
     "name": "stderr",
     "output_type": "stream",
     "text": [
      "\u001b[34m\u001b[1mwandb\u001b[0m: Agent Starting Run: b93p9gkk with config:\n",
      "\u001b[34m\u001b[1mwandb\u001b[0m: \tbatch_size: 64\n",
      "\u001b[34m\u001b[1mwandb\u001b[0m: \tnum_hidden_neurons: 256\n",
      "\u001b[34m\u001b[1mwandb\u001b[0m: \tnum_layers: 3\n",
      "\u001b[34m\u001b[1mwandb\u001b[0m: \tweight_decay: 0.0015\n",
      "2022-02-25 17:24:14.048545: W tensorflow/stream_executor/platform/default/dso_loader.cc:64] Could not load dynamic library 'libcudart.so.11.0'; dlerror: libcudart.so.11.0: cannot open shared object file: No such file or directory\n",
      "2022-02-25 17:24:14.048569: I tensorflow/stream_executor/cuda/cudart_stub.cc:29] Ignore above cudart dlerror if you do not have a GPU set up on your machine.\n"
     ]
    },
    {
     "data": {
      "text/html": [
       "\n",
       "                    Syncing run <strong><a href=\"https://wandb.ai/cookie303/Assignment1/runs/b93p9gkk\" target=\"_blank\">volcanic-sweep-8</a></strong> to <a href=\"https://wandb.ai/cookie303/Assignment1\" target=\"_blank\">Weights & Biases</a> (<a href=\"https://docs.wandb.com/integrations/jupyter.html\" target=\"_blank\">docs</a>).<br/>\n",
       "Sweep page: <a href=\"https://wandb.ai/cookie303/Assignment1/sweeps/mvcqeh0x\" target=\"_blank\">https://wandb.ai/cookie303/Assignment1/sweeps/mvcqeh0x</a><br/>\n",
       "\n",
       "                "
      ],
      "text/plain": [
       "<IPython.core.display.HTML object>"
      ]
     },
     "metadata": {},
     "output_type": "display_data"
    },
    {
     "name": "stdout",
     "output_type": "stream",
     "text": [
      "epoch=1\n",
      "training_loss=0.23, training_accuracy= 0.93\n",
      "Validation: val_loss=0.12, val_accuracy=0.96\n",
      "\n",
      "epoch=2\n",
      "training_loss=0.10, training_accuracy= 0.97\n",
      "Validation: val_loss=0.10, val_accuracy=0.97\n",
      "\n",
      "epoch=3\n",
      "training_loss=0.07, training_accuracy= 0.98\n",
      "Validation: val_loss=0.09, val_accuracy=0.97\n",
      "\n",
      "epoch=4\n",
      "training_loss=0.06, training_accuracy= 0.98\n",
      "Validation: val_loss=0.09, val_accuracy=0.97\n",
      "\n",
      "epoch=5\n",
      "training_loss=0.06, training_accuracy= 0.98\n",
      "Validation: val_loss=0.08, val_accuracy=0.97\n",
      "\n",
      "epoch=6\n",
      "training_loss=0.05, training_accuracy= 0.99\n",
      "Validation: val_loss=0.08, val_accuracy=0.98\n",
      "\n",
      "epoch=7\n",
      "training_loss=0.05, training_accuracy= 0.99\n",
      "Validation: val_loss=0.08, val_accuracy=0.98\n",
      "\n",
      "epoch=8\n",
      "training_loss=0.04, training_accuracy= 0.99\n",
      "Validation: val_loss=0.08, val_accuracy=0.98\n",
      "\n",
      "epoch=9\n",
      "training_loss=0.04, training_accuracy= 0.99\n",
      "Validation: val_loss=0.08, val_accuracy=0.98\n",
      "\n",
      "epoch=10\n",
      "training_loss=0.04, training_accuracy= 0.99\n",
      "Validation: val_loss=0.08, val_accuracy=0.97\n",
      "\n"
     ]
    },
    {
     "data": {
      "text/html": [
       "<br/>Waiting for W&B process to finish, PID 706683... <strong style=\"color:green\">(success).</strong>"
      ],
      "text/plain": [
       "<IPython.core.display.HTML object>"
      ]
     },
     "metadata": {},
     "output_type": "display_data"
    },
    {
     "data": {
      "application/vnd.jupyter.widget-view+json": {
       "model_id": "",
       "version_major": 2,
       "version_minor": 0
      },
      "text/plain": [
       "VBox(children=(Label(value=' 0.00MB of 0.00MB uploaded (0.00MB deduped)\\r'), FloatProgress(value=1.0, max=1.0)…"
      ]
     },
     "metadata": {},
     "output_type": "display_data"
    },
    {
     "data": {
      "text/html": [
       "<style>\n",
       "    table.wandb td:nth-child(1) { padding: 0 10px; text-align: right }\n",
       "    .wandb-row { display: flex; flex-direction: row; flex-wrap: wrap; width: 100% }\n",
       "    .wandb-col { display: flex; flex-direction: column; flex-basis: 100%; flex: 1; padding: 10px; }\n",
       "    </style>\n",
       "<div class=\"wandb-row\"><div class=\"wandb-col\">\n",
       "<h3>Run history:</h3><br/><table class=\"wandb\"><tr><td>epoch</td><td>▁▂▃▃▄▅▆▆▇█</td></tr><tr><td>test_accuracy</td><td>▁</td></tr><tr><td>test_loss</td><td>▁</td></tr><tr><td>train_accuracy</td><td>▁▆▇▇▇█████</td></tr><tr><td>train_loss</td><td>█▃▂▂▂▁▁▁▁▁</td></tr><tr><td>val_accuracy</td><td>▁▄▆▆▇▇███▇</td></tr><tr><td>val_loss</td><td>█▄▃▂▂▂▁▁▁▂</td></tr></table><br/></div><div class=\"wandb-col\">\n",
       "<h3>Run summary:</h3><br/><table class=\"wandb\"><tr><td>epoch</td><td>10</td></tr><tr><td>test_accuracy</td><td>0.9759</td></tr><tr><td>test_loss</td><td>0.07277</td></tr><tr><td>train_accuracy</td><td>0.99028</td></tr><tr><td>train_loss</td><td>0.03834</td></tr><tr><td>val_accuracy</td><td>0.97483</td></tr><tr><td>val_loss</td><td>0.08033</td></tr></table>\n",
       "</div></div>\n",
       "Synced 6 W&B file(s), 0 media file(s), 0 artifact file(s) and 0 other file(s)\n",
       "<br/>Synced <strong style=\"color:#cdcd00\">volcanic-sweep-8</strong>: <a href=\"https://wandb.ai/cookie303/Assignment1/runs/b93p9gkk\" target=\"_blank\">https://wandb.ai/cookie303/Assignment1/runs/b93p9gkk</a><br/>\n",
       "Find logs at: <code>./wandb/run-20220225_172412-b93p9gkk/logs</code><br/>\n"
      ],
      "text/plain": [
       "<IPython.core.display.HTML object>"
      ]
     },
     "metadata": {},
     "output_type": "display_data"
    },
    {
     "name": "stderr",
     "output_type": "stream",
     "text": [
      "\u001b[34m\u001b[1mwandb\u001b[0m: Agent Starting Run: ri2ehthh with config:\n",
      "\u001b[34m\u001b[1mwandb\u001b[0m: \tbatch_size: 64\n",
      "\u001b[34m\u001b[1mwandb\u001b[0m: \tnum_hidden_neurons: 256\n",
      "\u001b[34m\u001b[1mwandb\u001b[0m: \tnum_layers: 5\n",
      "\u001b[34m\u001b[1mwandb\u001b[0m: \tweight_decay: 0.0015\n",
      "2022-02-25 17:25:38.910658: W tensorflow/stream_executor/platform/default/dso_loader.cc:64] Could not load dynamic library 'libcudart.so.11.0'; dlerror: libcudart.so.11.0: cannot open shared object file: No such file or directory\n",
      "2022-02-25 17:25:38.910684: I tensorflow/stream_executor/cuda/cudart_stub.cc:29] Ignore above cudart dlerror if you do not have a GPU set up on your machine.\n"
     ]
    },
    {
     "data": {
      "text/html": [
       "\n",
       "                    Syncing run <strong><a href=\"https://wandb.ai/cookie303/Assignment1/runs/ri2ehthh\" target=\"_blank\">iconic-sweep-9</a></strong> to <a href=\"https://wandb.ai/cookie303/Assignment1\" target=\"_blank\">Weights & Biases</a> (<a href=\"https://docs.wandb.com/integrations/jupyter.html\" target=\"_blank\">docs</a>).<br/>\n",
       "Sweep page: <a href=\"https://wandb.ai/cookie303/Assignment1/sweeps/mvcqeh0x\" target=\"_blank\">https://wandb.ai/cookie303/Assignment1/sweeps/mvcqeh0x</a><br/>\n",
       "\n",
       "                "
      ],
      "text/plain": [
       "<IPython.core.display.HTML object>"
      ]
     },
     "metadata": {},
     "output_type": "display_data"
    },
    {
     "name": "stdout",
     "output_type": "stream",
     "text": [
      "epoch=1\n",
      "training_loss=0.22, training_accuracy= 0.93\n",
      "Validation: val_loss=0.13, val_accuracy=0.96\n",
      "\n",
      "epoch=2\n",
      "training_loss=0.10, training_accuracy= 0.97\n",
      "Validation: val_loss=0.11, val_accuracy=0.97\n",
      "\n",
      "epoch=3\n",
      "training_loss=0.07, training_accuracy= 0.98\n",
      "Validation: val_loss=0.10, val_accuracy=0.97\n",
      "\n",
      "epoch=4\n",
      "training_loss=0.06, training_accuracy= 0.98\n",
      "Validation: val_loss=0.10, val_accuracy=0.97\n",
      "\n",
      "epoch=5\n",
      "training_loss=0.05, training_accuracy= 0.99\n",
      "Validation: val_loss=0.10, val_accuracy=0.97\n",
      "\n",
      "epoch=6\n",
      "training_loss=0.05, training_accuracy= 0.99\n",
      "Validation: val_loss=0.09, val_accuracy=0.97\n",
      "\n",
      "epoch=7\n",
      "training_loss=0.04, training_accuracy= 0.99\n",
      "Validation: val_loss=0.09, val_accuracy=0.97\n",
      "\n",
      "epoch=8\n",
      "training_loss=0.04, training_accuracy= 0.99\n",
      "Validation: val_loss=0.09, val_accuracy=0.97\n",
      "\n",
      "epoch=9\n",
      "training_loss=0.04, training_accuracy= 0.99\n",
      "Validation: val_loss=0.08, val_accuracy=0.98\n",
      "\n",
      "epoch=10\n",
      "training_loss=0.04, training_accuracy= 0.99\n",
      "Validation: val_loss=0.08, val_accuracy=0.97\n",
      "\n"
     ]
    },
    {
     "data": {
      "text/html": [
       "<br/>Waiting for W&B process to finish, PID 706743... <strong style=\"color:green\">(success).</strong>"
      ],
      "text/plain": [
       "<IPython.core.display.HTML object>"
      ]
     },
     "metadata": {},
     "output_type": "display_data"
    },
    {
     "data": {
      "application/vnd.jupyter.widget-view+json": {
       "model_id": "",
       "version_major": 2,
       "version_minor": 0
      },
      "text/plain": [
       "VBox(children=(Label(value=' 0.00MB of 0.00MB uploaded (0.00MB deduped)\\r'), FloatProgress(value=1.0, max=1.0)…"
      ]
     },
     "metadata": {},
     "output_type": "display_data"
    },
    {
     "data": {
      "text/html": [
       "<style>\n",
       "    table.wandb td:nth-child(1) { padding: 0 10px; text-align: right }\n",
       "    .wandb-row { display: flex; flex-direction: row; flex-wrap: wrap; width: 100% }\n",
       "    .wandb-col { display: flex; flex-direction: column; flex-basis: 100%; flex: 1; padding: 10px; }\n",
       "    </style>\n",
       "<div class=\"wandb-row\"><div class=\"wandb-col\">\n",
       "<h3>Run history:</h3><br/><table class=\"wandb\"><tr><td>epoch</td><td>▁▂▃▃▄▅▆▆▇█</td></tr><tr><td>test_accuracy</td><td>▁</td></tr><tr><td>test_loss</td><td>▁</td></tr><tr><td>train_accuracy</td><td>▁▆▇▇██████</td></tr><tr><td>train_loss</td><td>█▃▂▂▂▁▁▁▁▁</td></tr><tr><td>val_accuracy</td><td>▁▂▅▅▄▇▆▆█▇</td></tr><tr><td>val_loss</td><td>█▆▄▃▄▂▂▂▁▁</td></tr></table><br/></div><div class=\"wandb-col\">\n",
       "<h3>Run summary:</h3><br/><table class=\"wandb\"><tr><td>epoch</td><td>10</td></tr><tr><td>test_accuracy</td><td>0.9744</td></tr><tr><td>test_loss</td><td>0.08176</td></tr><tr><td>train_accuracy</td><td>0.98848</td></tr><tr><td>train_loss</td><td>0.03778</td></tr><tr><td>val_accuracy</td><td>0.975</td></tr><tr><td>val_loss</td><td>0.08276</td></tr></table>\n",
       "</div></div>\n",
       "Synced 6 W&B file(s), 0 media file(s), 0 artifact file(s) and 0 other file(s)\n",
       "<br/>Synced <strong style=\"color:#cdcd00\">iconic-sweep-9</strong>: <a href=\"https://wandb.ai/cookie303/Assignment1/runs/ri2ehthh\" target=\"_blank\">https://wandb.ai/cookie303/Assignment1/runs/ri2ehthh</a><br/>\n",
       "Find logs at: <code>./wandb/run-20220225_172537-ri2ehthh/logs</code><br/>\n"
      ],
      "text/plain": [
       "<IPython.core.display.HTML object>"
      ]
     },
     "metadata": {},
     "output_type": "display_data"
    },
    {
     "name": "stderr",
     "output_type": "stream",
     "text": [
      "\u001b[34m\u001b[1mwandb\u001b[0m: Agent Starting Run: vizhbgkh with config:\n",
      "\u001b[34m\u001b[1mwandb\u001b[0m: \tbatch_size: 16\n",
      "\u001b[34m\u001b[1mwandb\u001b[0m: \tnum_hidden_neurons: 256\n",
      "\u001b[34m\u001b[1mwandb\u001b[0m: \tnum_layers: 5\n",
      "\u001b[34m\u001b[1mwandb\u001b[0m: \tweight_decay: 0.0015\n",
      "2022-02-25 17:27:34.820089: W tensorflow/stream_executor/platform/default/dso_loader.cc:64] Could not load dynamic library 'libcudart.so.11.0'; dlerror: libcudart.so.11.0: cannot open shared object file: No such file or directory\n",
      "2022-02-25 17:27:34.820115: I tensorflow/stream_executor/cuda/cudart_stub.cc:29] Ignore above cudart dlerror if you do not have a GPU set up on your machine.\n"
     ]
    },
    {
     "data": {
      "text/html": [
       "\n",
       "                    Syncing run <strong><a href=\"https://wandb.ai/cookie303/Assignment1/runs/vizhbgkh\" target=\"_blank\">lively-sweep-10</a></strong> to <a href=\"https://wandb.ai/cookie303/Assignment1\" target=\"_blank\">Weights & Biases</a> (<a href=\"https://docs.wandb.com/integrations/jupyter.html\" target=\"_blank\">docs</a>).<br/>\n",
       "Sweep page: <a href=\"https://wandb.ai/cookie303/Assignment1/sweeps/mvcqeh0x\" target=\"_blank\">https://wandb.ai/cookie303/Assignment1/sweeps/mvcqeh0x</a><br/>\n",
       "\n",
       "                "
      ],
      "text/plain": [
       "<IPython.core.display.HTML object>"
      ]
     },
     "metadata": {},
     "output_type": "display_data"
    },
    {
     "name": "stdout",
     "output_type": "stream",
     "text": [
      "epoch=1\n",
      "training_loss=0.22, training_accuracy= 0.93\n",
      "Validation: val_loss=0.14, val_accuracy=0.96\n",
      "\n",
      "epoch=2\n",
      "training_loss=0.12, training_accuracy= 0.96\n",
      "Validation: val_loss=0.11, val_accuracy=0.97\n",
      "\n",
      "epoch=3\n",
      "training_loss=0.10, training_accuracy= 0.97\n",
      "Validation: val_loss=0.11, val_accuracy=0.97\n",
      "\n",
      "epoch=4\n",
      "training_loss=0.09, training_accuracy= 0.97\n",
      "Validation: val_loss=0.10, val_accuracy=0.97\n",
      "\n",
      "epoch=5\n",
      "training_loss=0.08, training_accuracy= 0.98\n",
      "Validation: val_loss=0.10, val_accuracy=0.97\n",
      "\n",
      "epoch=6\n",
      "training_loss=0.07, training_accuracy= 0.98\n",
      "Validation: val_loss=0.10, val_accuracy=0.97\n",
      "\n",
      "epoch=7\n",
      "training_loss=0.07, training_accuracy= 0.98\n",
      "Validation: val_loss=0.10, val_accuracy=0.97\n",
      "\n",
      "epoch=8\n",
      "training_loss=0.07, training_accuracy= 0.98\n",
      "Validation: val_loss=0.09, val_accuracy=0.97\n",
      "\n",
      "epoch=9\n",
      "training_loss=0.06, training_accuracy= 0.98\n",
      "Validation: val_loss=0.10, val_accuracy=0.97\n",
      "\n",
      "epoch=10\n",
      "training_loss=0.06, training_accuracy= 0.98\n",
      "Validation: val_loss=0.09, val_accuracy=0.97\n",
      "\n"
     ]
    },
    {
     "data": {
      "text/html": [
       "<br/>Waiting for W&B process to finish, PID 706831... <strong style=\"color:green\">(success).</strong>"
      ],
      "text/plain": [
       "<IPython.core.display.HTML object>"
      ]
     },
     "metadata": {},
     "output_type": "display_data"
    },
    {
     "data": {
      "application/vnd.jupyter.widget-view+json": {
       "model_id": "",
       "version_major": 2,
       "version_minor": 0
      },
      "text/plain": [
       "VBox(children=(Label(value=' 0.00MB of 0.00MB uploaded (0.00MB deduped)\\r'), FloatProgress(value=1.0, max=1.0)…"
      ]
     },
     "metadata": {},
     "output_type": "display_data"
    },
    {
     "data": {
      "text/html": [
       "<style>\n",
       "    table.wandb td:nth-child(1) { padding: 0 10px; text-align: right }\n",
       "    .wandb-row { display: flex; flex-direction: row; flex-wrap: wrap; width: 100% }\n",
       "    .wandb-col { display: flex; flex-direction: column; flex-basis: 100%; flex: 1; padding: 10px; }\n",
       "    </style>\n",
       "<div class=\"wandb-row\"><div class=\"wandb-col\">\n",
       "<h3>Run history:</h3><br/><table class=\"wandb\"><tr><td>epoch</td><td>▁▂▃▃▄▅▆▆▇█</td></tr><tr><td>test_accuracy</td><td>▁</td></tr><tr><td>test_loss</td><td>▁</td></tr><tr><td>train_accuracy</td><td>▁▅▆▇▇▇████</td></tr><tr><td>train_loss</td><td>█▄▃▂▂▂▁▁▁▁</td></tr><tr><td>val_accuracy</td><td>▁▅▆▇▇▇▇██▇</td></tr><tr><td>val_loss</td><td>█▄▃▃▂▃▂▁▂▁</td></tr></table><br/></div><div class=\"wandb-col\">\n",
       "<h3>Run summary:</h3><br/><table class=\"wandb\"><tr><td>epoch</td><td>10</td></tr><tr><td>test_accuracy</td><td>0.9717</td></tr><tr><td>test_loss</td><td>0.0895</td></tr><tr><td>train_accuracy</td><td>0.98119</td></tr><tr><td>train_loss</td><td>0.05994</td></tr><tr><td>val_accuracy</td><td>0.971</td></tr><tr><td>val_loss</td><td>0.09143</td></tr></table>\n",
       "</div></div>\n",
       "Synced 6 W&B file(s), 0 media file(s), 0 artifact file(s) and 0 other file(s)\n",
       "<br/>Synced <strong style=\"color:#cdcd00\">lively-sweep-10</strong>: <a href=\"https://wandb.ai/cookie303/Assignment1/runs/vizhbgkh\" target=\"_blank\">https://wandb.ai/cookie303/Assignment1/runs/vizhbgkh</a><br/>\n",
       "Find logs at: <code>./wandb/run-20220225_172733-vizhbgkh/logs</code><br/>\n"
      ],
      "text/plain": [
       "<IPython.core.display.HTML object>"
      ]
     },
     "metadata": {},
     "output_type": "display_data"
    },
    {
     "name": "stderr",
     "output_type": "stream",
     "text": [
      "\u001b[34m\u001b[1mwandb\u001b[0m: Agent Starting Run: 9a6p1rd4 with config:\n",
      "\u001b[34m\u001b[1mwandb\u001b[0m: \tbatch_size: 64\n",
      "\u001b[34m\u001b[1mwandb\u001b[0m: \tnum_hidden_neurons: 256\n",
      "\u001b[34m\u001b[1mwandb\u001b[0m: \tnum_layers: 4\n",
      "\u001b[34m\u001b[1mwandb\u001b[0m: \tweight_decay: 0.0015\n",
      "2022-02-25 17:33:02.306401: W tensorflow/stream_executor/platform/default/dso_loader.cc:64] Could not load dynamic library 'libcudart.so.11.0'; dlerror: libcudart.so.11.0: cannot open shared object file: No such file or directory\n",
      "2022-02-25 17:33:02.306423: I tensorflow/stream_executor/cuda/cudart_stub.cc:29] Ignore above cudart dlerror if you do not have a GPU set up on your machine.\n"
     ]
    },
    {
     "data": {
      "text/html": [
       "\n",
       "                    Syncing run <strong><a href=\"https://wandb.ai/cookie303/Assignment1/runs/9a6p1rd4\" target=\"_blank\">dauntless-sweep-11</a></strong> to <a href=\"https://wandb.ai/cookie303/Assignment1\" target=\"_blank\">Weights & Biases</a> (<a href=\"https://docs.wandb.com/integrations/jupyter.html\" target=\"_blank\">docs</a>).<br/>\n",
       "Sweep page: <a href=\"https://wandb.ai/cookie303/Assignment1/sweeps/mvcqeh0x\" target=\"_blank\">https://wandb.ai/cookie303/Assignment1/sweeps/mvcqeh0x</a><br/>\n",
       "\n",
       "                "
      ],
      "text/plain": [
       "<IPython.core.display.HTML object>"
      ]
     },
     "metadata": {},
     "output_type": "display_data"
    },
    {
     "name": "stdout",
     "output_type": "stream",
     "text": [
      "epoch=1\n",
      "training_loss=0.22, training_accuracy= 0.93\n",
      "Validation: val_loss=0.11, val_accuracy=0.97\n",
      "\n",
      "epoch=2\n",
      "training_loss=0.10, training_accuracy= 0.97\n",
      "Validation: val_loss=0.09, val_accuracy=0.97\n",
      "\n",
      "epoch=3\n",
      "training_loss=0.07, training_accuracy= 0.98\n",
      "Validation: val_loss=0.09, val_accuracy=0.97\n",
      "\n",
      "epoch=4\n",
      "training_loss=0.06, training_accuracy= 0.98\n",
      "Validation: val_loss=0.08, val_accuracy=0.98\n",
      "\n",
      "epoch=5\n",
      "training_loss=0.05, training_accuracy= 0.98\n",
      "Validation: val_loss=0.08, val_accuracy=0.98\n",
      "\n",
      "epoch=6\n",
      "training_loss=0.05, training_accuracy= 0.99\n",
      "Validation: val_loss=0.08, val_accuracy=0.98\n",
      "\n",
      "epoch=7\n",
      "training_loss=0.04, training_accuracy= 0.99\n",
      "Validation: val_loss=0.08, val_accuracy=0.98\n",
      "\n",
      "epoch=8\n",
      "training_loss=0.04, training_accuracy= 0.99\n",
      "Validation: val_loss=0.08, val_accuracy=0.98\n",
      "\n",
      "epoch=9\n",
      "training_loss=0.04, training_accuracy= 0.99\n",
      "Validation: val_loss=0.08, val_accuracy=0.98\n",
      "\n",
      "epoch=10\n",
      "training_loss=0.04, training_accuracy= 0.99\n",
      "Validation: val_loss=0.08, val_accuracy=0.98\n",
      "\n"
     ]
    },
    {
     "data": {
      "text/html": [
       "<br/>Waiting for W&B process to finish, PID 706954... <strong style=\"color:green\">(success).</strong>"
      ],
      "text/plain": [
       "<IPython.core.display.HTML object>"
      ]
     },
     "metadata": {},
     "output_type": "display_data"
    },
    {
     "data": {
      "application/vnd.jupyter.widget-view+json": {
       "model_id": "",
       "version_major": 2,
       "version_minor": 0
      },
      "text/plain": [
       "VBox(children=(Label(value=' 0.00MB of 0.00MB uploaded (0.00MB deduped)\\r'), FloatProgress(value=1.0, max=1.0)…"
      ]
     },
     "metadata": {},
     "output_type": "display_data"
    },
    {
     "data": {
      "text/html": [
       "<style>\n",
       "    table.wandb td:nth-child(1) { padding: 0 10px; text-align: right }\n",
       "    .wandb-row { display: flex; flex-direction: row; flex-wrap: wrap; width: 100% }\n",
       "    .wandb-col { display: flex; flex-direction: column; flex-basis: 100%; flex: 1; padding: 10px; }\n",
       "    </style>\n",
       "<div class=\"wandb-row\"><div class=\"wandb-col\">\n",
       "<h3>Run history:</h3><br/><table class=\"wandb\"><tr><td>epoch</td><td>▁▂▃▃▄▅▆▆▇█</td></tr><tr><td>test_accuracy</td><td>▁</td></tr><tr><td>test_loss</td><td>▁</td></tr><tr><td>train_accuracy</td><td>▁▆▇▇▇█████</td></tr><tr><td>train_loss</td><td>█▃▂▂▂▁▁▁▁▁</td></tr><tr><td>val_accuracy</td><td>▁▅▅▇▇▇▇█▇█</td></tr><tr><td>val_loss</td><td>█▄▃▂▂▁▁▁▂▁</td></tr></table><br/></div><div class=\"wandb-col\">\n",
       "<h3>Run summary:</h3><br/><table class=\"wandb\"><tr><td>epoch</td><td>10</td></tr><tr><td>test_accuracy</td><td>0.9777</td></tr><tr><td>test_loss</td><td>0.06825</td></tr><tr><td>train_accuracy</td><td>0.98981</td></tr><tr><td>train_loss</td><td>0.03602</td></tr><tr><td>val_accuracy</td><td>0.9775</td></tr><tr><td>val_loss</td><td>0.07739</td></tr></table>\n",
       "</div></div>\n",
       "Synced 6 W&B file(s), 0 media file(s), 0 artifact file(s) and 0 other file(s)\n",
       "<br/>Synced <strong style=\"color:#cdcd00\">dauntless-sweep-11</strong>: <a href=\"https://wandb.ai/cookie303/Assignment1/runs/9a6p1rd4\" target=\"_blank\">https://wandb.ai/cookie303/Assignment1/runs/9a6p1rd4</a><br/>\n",
       "Find logs at: <code>./wandb/run-20220225_173301-9a6p1rd4/logs</code><br/>\n"
      ],
      "text/plain": [
       "<IPython.core.display.HTML object>"
      ]
     },
     "metadata": {},
     "output_type": "display_data"
    },
    {
     "name": "stderr",
     "output_type": "stream",
     "text": [
      "\u001b[34m\u001b[1mwandb\u001b[0m: Sweep Agent: Waiting for job.\n",
      "\u001b[34m\u001b[1mwandb\u001b[0m: Job received.\n",
      "\u001b[34m\u001b[1mwandb\u001b[0m: Agent Starting Run: n7paytur with config:\n",
      "\u001b[34m\u001b[1mwandb\u001b[0m: \tbatch_size: 64\n",
      "\u001b[34m\u001b[1mwandb\u001b[0m: \tnum_hidden_neurons: 256\n",
      "\u001b[34m\u001b[1mwandb\u001b[0m: \tnum_layers: 5\n",
      "\u001b[34m\u001b[1mwandb\u001b[0m: \tweight_decay: 0.0015\n",
      "2022-02-25 17:34:47.170197: W tensorflow/stream_executor/platform/default/dso_loader.cc:64] Could not load dynamic library 'libcudart.so.11.0'; dlerror: libcudart.so.11.0: cannot open shared object file: No such file or directory\n",
      "2022-02-25 17:34:47.170221: I tensorflow/stream_executor/cuda/cudart_stub.cc:29] Ignore above cudart dlerror if you do not have a GPU set up on your machine.\n"
     ]
    },
    {
     "data": {
      "text/html": [
       "\n",
       "                    Syncing run <strong><a href=\"https://wandb.ai/cookie303/Assignment1/runs/n7paytur\" target=\"_blank\">rural-sweep-12</a></strong> to <a href=\"https://wandb.ai/cookie303/Assignment1\" target=\"_blank\">Weights & Biases</a> (<a href=\"https://docs.wandb.com/integrations/jupyter.html\" target=\"_blank\">docs</a>).<br/>\n",
       "Sweep page: <a href=\"https://wandb.ai/cookie303/Assignment1/sweeps/mvcqeh0x\" target=\"_blank\">https://wandb.ai/cookie303/Assignment1/sweeps/mvcqeh0x</a><br/>\n",
       "\n",
       "                "
      ],
      "text/plain": [
       "<IPython.core.display.HTML object>"
      ]
     },
     "metadata": {},
     "output_type": "display_data"
    },
    {
     "name": "stdout",
     "output_type": "stream",
     "text": [
      "epoch=1\n",
      "training_loss=0.23, training_accuracy= 0.93\n",
      "Validation: val_loss=0.12, val_accuracy=0.96\n",
      "\n",
      "epoch=2\n",
      "training_loss=0.10, training_accuracy= 0.97\n",
      "Validation: val_loss=0.10, val_accuracy=0.97\n",
      "\n",
      "epoch=3\n",
      "training_loss=0.07, training_accuracy= 0.98\n",
      "Validation: val_loss=0.10, val_accuracy=0.97\n",
      "\n",
      "epoch=4\n",
      "training_loss=0.06, training_accuracy= 0.98\n",
      "Validation: val_loss=0.08, val_accuracy=0.97\n",
      "\n",
      "epoch=5\n",
      "training_loss=0.05, training_accuracy= 0.98\n",
      "Validation: val_loss=0.08, val_accuracy=0.97\n",
      "\n",
      "epoch=6\n",
      "training_loss=0.05, training_accuracy= 0.99\n",
      "Validation: val_loss=0.09, val_accuracy=0.97\n",
      "\n",
      "epoch=7\n",
      "training_loss=0.05, training_accuracy= 0.99\n",
      "Validation: val_loss=0.09, val_accuracy=0.97\n",
      "\n",
      "epoch=8\n",
      "training_loss=0.04, training_accuracy= 0.99\n",
      "Validation: val_loss=0.08, val_accuracy=0.98\n",
      "\n",
      "epoch=9\n",
      "training_loss=0.04, training_accuracy= 0.99\n",
      "Validation: val_loss=0.08, val_accuracy=0.98\n",
      "\n",
      "epoch=10\n",
      "training_loss=0.04, training_accuracy= 0.99\n",
      "Validation: val_loss=0.08, val_accuracy=0.98\n",
      "\n"
     ]
    },
    {
     "data": {
      "text/html": [
       "<br/>Waiting for W&B process to finish, PID 707014... <strong style=\"color:green\">(success).</strong>"
      ],
      "text/plain": [
       "<IPython.core.display.HTML object>"
      ]
     },
     "metadata": {},
     "output_type": "display_data"
    },
    {
     "data": {
      "application/vnd.jupyter.widget-view+json": {
       "model_id": "",
       "version_major": 2,
       "version_minor": 0
      },
      "text/plain": [
       "VBox(children=(Label(value=' 0.00MB of 0.00MB uploaded (0.00MB deduped)\\r'), FloatProgress(value=1.0, max=1.0)…"
      ]
     },
     "metadata": {},
     "output_type": "display_data"
    },
    {
     "data": {
      "text/html": [
       "<style>\n",
       "    table.wandb td:nth-child(1) { padding: 0 10px; text-align: right }\n",
       "    .wandb-row { display: flex; flex-direction: row; flex-wrap: wrap; width: 100% }\n",
       "    .wandb-col { display: flex; flex-direction: column; flex-basis: 100%; flex: 1; padding: 10px; }\n",
       "    </style>\n",
       "<div class=\"wandb-row\"><div class=\"wandb-col\">\n",
       "<h3>Run history:</h3><br/><table class=\"wandb\"><tr><td>epoch</td><td>▁▂▃▃▄▅▆▆▇█</td></tr><tr><td>test_accuracy</td><td>▁</td></tr><tr><td>test_loss</td><td>▁</td></tr><tr><td>train_accuracy</td><td>▁▆▇▇▇█████</td></tr><tr><td>train_loss</td><td>█▃▂▂▂▁▁▁▁▁</td></tr><tr><td>val_accuracy</td><td>▁▄▅█▆▇▇███</td></tr><tr><td>val_loss</td><td>█▅▄▂▂▂▂▁▁▁</td></tr></table><br/></div><div class=\"wandb-col\">\n",
       "<h3>Run summary:</h3><br/><table class=\"wandb\"><tr><td>epoch</td><td>10</td></tr><tr><td>test_accuracy</td><td>0.9764</td></tr><tr><td>test_loss</td><td>0.07035</td></tr><tr><td>train_accuracy</td><td>0.98854</td></tr><tr><td>train_loss</td><td>0.03756</td></tr><tr><td>val_accuracy</td><td>0.97517</td></tr><tr><td>val_loss</td><td>0.08061</td></tr></table>\n",
       "</div></div>\n",
       "Synced 6 W&B file(s), 0 media file(s), 0 artifact file(s) and 0 other file(s)\n",
       "<br/>Synced <strong style=\"color:#cdcd00\">rural-sweep-12</strong>: <a href=\"https://wandb.ai/cookie303/Assignment1/runs/n7paytur\" target=\"_blank\">https://wandb.ai/cookie303/Assignment1/runs/n7paytur</a><br/>\n",
       "Find logs at: <code>./wandb/run-20220225_173445-n7paytur/logs</code><br/>\n"
      ],
      "text/plain": [
       "<IPython.core.display.HTML object>"
      ]
     },
     "metadata": {},
     "output_type": "display_data"
    },
    {
     "name": "stderr",
     "output_type": "stream",
     "text": [
      "\u001b[34m\u001b[1mwandb\u001b[0m: Agent Starting Run: nmhpg5u0 with config:\n",
      "\u001b[34m\u001b[1mwandb\u001b[0m: \tbatch_size: 64\n",
      "\u001b[34m\u001b[1mwandb\u001b[0m: \tnum_hidden_neurons: 256\n",
      "\u001b[34m\u001b[1mwandb\u001b[0m: \tnum_layers: 5\n",
      "\u001b[34m\u001b[1mwandb\u001b[0m: \tweight_decay: 0.001\n",
      "2022-02-25 17:36:38.983539: W tensorflow/stream_executor/platform/default/dso_loader.cc:64] Could not load dynamic library 'libcudart.so.11.0'; dlerror: libcudart.so.11.0: cannot open shared object file: No such file or directory\n",
      "2022-02-25 17:36:38.983565: I tensorflow/stream_executor/cuda/cudart_stub.cc:29] Ignore above cudart dlerror if you do not have a GPU set up on your machine.\n"
     ]
    },
    {
     "data": {
      "text/html": [
       "\n",
       "                    Syncing run <strong><a href=\"https://wandb.ai/cookie303/Assignment1/runs/nmhpg5u0\" target=\"_blank\">fallen-sweep-13</a></strong> to <a href=\"https://wandb.ai/cookie303/Assignment1\" target=\"_blank\">Weights & Biases</a> (<a href=\"https://docs.wandb.com/integrations/jupyter.html\" target=\"_blank\">docs</a>).<br/>\n",
       "Sweep page: <a href=\"https://wandb.ai/cookie303/Assignment1/sweeps/mvcqeh0x\" target=\"_blank\">https://wandb.ai/cookie303/Assignment1/sweeps/mvcqeh0x</a><br/>\n",
       "\n",
       "                "
      ],
      "text/plain": [
       "<IPython.core.display.HTML object>"
      ]
     },
     "metadata": {},
     "output_type": "display_data"
    },
    {
     "name": "stdout",
     "output_type": "stream",
     "text": [
      "epoch=1\n",
      "training_loss=0.23, training_accuracy= 0.93\n",
      "Validation: val_loss=0.12, val_accuracy=0.96\n",
      "\n",
      "epoch=2\n",
      "training_loss=0.09, training_accuracy= 0.97\n",
      "Validation: val_loss=0.10, val_accuracy=0.97\n",
      "\n",
      "epoch=3\n",
      "training_loss=0.07, training_accuracy= 0.98\n",
      "Validation: val_loss=0.09, val_accuracy=0.97\n",
      "\n",
      "epoch=4\n",
      "training_loss=0.05, training_accuracy= 0.98\n",
      "Validation: val_loss=0.08, val_accuracy=0.97\n",
      "\n",
      "epoch=5\n",
      "training_loss=0.05, training_accuracy= 0.99\n",
      "Validation: val_loss=0.09, val_accuracy=0.98\n",
      "\n",
      "epoch=6\n",
      "training_loss=0.04, training_accuracy= 0.99\n",
      "Validation: val_loss=0.08, val_accuracy=0.98\n",
      "\n",
      "epoch=7\n",
      "training_loss=0.04, training_accuracy= 0.99\n",
      "Validation: val_loss=0.07, val_accuracy=0.98\n",
      "\n",
      "epoch=8\n",
      "training_loss=0.04, training_accuracy= 0.99\n",
      "Validation: val_loss=0.08, val_accuracy=0.98\n",
      "\n",
      "epoch=9\n",
      "training_loss=0.03, training_accuracy= 0.99\n",
      "Validation: val_loss=0.08, val_accuracy=0.98\n",
      "\n",
      "epoch=10\n",
      "training_loss=0.03, training_accuracy= 0.99\n",
      "Validation: val_loss=0.08, val_accuracy=0.98\n",
      "\n"
     ]
    },
    {
     "data": {
      "text/html": [
       "<br/>Waiting for W&B process to finish, PID 707069... <strong style=\"color:green\">(success).</strong>"
      ],
      "text/plain": [
       "<IPython.core.display.HTML object>"
      ]
     },
     "metadata": {},
     "output_type": "display_data"
    },
    {
     "data": {
      "application/vnd.jupyter.widget-view+json": {
       "model_id": "",
       "version_major": 2,
       "version_minor": 0
      },
      "text/plain": [
       "VBox(children=(Label(value=' 0.00MB of 0.00MB uploaded (0.00MB deduped)\\r'), FloatProgress(value=1.0, max=1.0)…"
      ]
     },
     "metadata": {},
     "output_type": "display_data"
    },
    {
     "data": {
      "text/html": [
       "<style>\n",
       "    table.wandb td:nth-child(1) { padding: 0 10px; text-align: right }\n",
       "    .wandb-row { display: flex; flex-direction: row; flex-wrap: wrap; width: 100% }\n",
       "    .wandb-col { display: flex; flex-direction: column; flex-basis: 100%; flex: 1; padding: 10px; }\n",
       "    </style>\n",
       "<div class=\"wandb-row\"><div class=\"wandb-col\">\n",
       "<h3>Run history:</h3><br/><table class=\"wandb\"><tr><td>epoch</td><td>▁▂▃▃▄▅▆▆▇█</td></tr><tr><td>test_accuracy</td><td>▁</td></tr><tr><td>test_loss</td><td>▁</td></tr><tr><td>train_accuracy</td><td>▁▆▇▇██████</td></tr><tr><td>train_loss</td><td>█▃▂▂▂▁▁▁▁▁</td></tr><tr><td>val_accuracy</td><td>▁▅▆▆▇▇███▇</td></tr><tr><td>val_loss</td><td>█▅▃▂▃▂▁▂▂▂</td></tr></table><br/></div><div class=\"wandb-col\">\n",
       "<h3>Run summary:</h3><br/><table class=\"wandb\"><tr><td>epoch</td><td>10</td></tr><tr><td>test_accuracy</td><td>0.9789</td></tr><tr><td>test_loss</td><td>0.07042</td></tr><tr><td>train_accuracy</td><td>0.98948</td></tr><tr><td>train_loss</td><td>0.03311</td></tr><tr><td>val_accuracy</td><td>0.97667</td></tr><tr><td>val_loss</td><td>0.07721</td></tr></table>\n",
       "</div></div>\n",
       "Synced 6 W&B file(s), 0 media file(s), 0 artifact file(s) and 0 other file(s)\n",
       "<br/>Synced <strong style=\"color:#cdcd00\">fallen-sweep-13</strong>: <a href=\"https://wandb.ai/cookie303/Assignment1/runs/nmhpg5u0\" target=\"_blank\">https://wandb.ai/cookie303/Assignment1/runs/nmhpg5u0</a><br/>\n",
       "Find logs at: <code>./wandb/run-20220225_173637-nmhpg5u0/logs</code><br/>\n"
      ],
      "text/plain": [
       "<IPython.core.display.HTML object>"
      ]
     },
     "metadata": {},
     "output_type": "display_data"
    },
    {
     "name": "stderr",
     "output_type": "stream",
     "text": [
      "\u001b[34m\u001b[1mwandb\u001b[0m: Agent Starting Run: 86ek9qrv with config:\n",
      "\u001b[34m\u001b[1mwandb\u001b[0m: \tbatch_size: 64\n",
      "\u001b[34m\u001b[1mwandb\u001b[0m: \tnum_hidden_neurons: 256\n",
      "\u001b[34m\u001b[1mwandb\u001b[0m: \tnum_layers: 4\n",
      "\u001b[34m\u001b[1mwandb\u001b[0m: \tweight_decay: 0.001\n",
      "2022-02-25 17:38:29.538578: W tensorflow/stream_executor/platform/default/dso_loader.cc:64] Could not load dynamic library 'libcudart.so.11.0'; dlerror: libcudart.so.11.0: cannot open shared object file: No such file or directory\n",
      "2022-02-25 17:38:29.538601: I tensorflow/stream_executor/cuda/cudart_stub.cc:29] Ignore above cudart dlerror if you do not have a GPU set up on your machine.\n"
     ]
    },
    {
     "data": {
      "text/html": [
       "\n",
       "                    Syncing run <strong><a href=\"https://wandb.ai/cookie303/Assignment1/runs/86ek9qrv\" target=\"_blank\">lucky-sweep-14</a></strong> to <a href=\"https://wandb.ai/cookie303/Assignment1\" target=\"_blank\">Weights & Biases</a> (<a href=\"https://docs.wandb.com/integrations/jupyter.html\" target=\"_blank\">docs</a>).<br/>\n",
       "Sweep page: <a href=\"https://wandb.ai/cookie303/Assignment1/sweeps/mvcqeh0x\" target=\"_blank\">https://wandb.ai/cookie303/Assignment1/sweeps/mvcqeh0x</a><br/>\n",
       "\n",
       "                "
      ],
      "text/plain": [
       "<IPython.core.display.HTML object>"
      ]
     },
     "metadata": {},
     "output_type": "display_data"
    },
    {
     "name": "stdout",
     "output_type": "stream",
     "text": [
      "epoch=1\n",
      "training_loss=0.22, training_accuracy= 0.93\n",
      "Validation: val_loss=0.11, val_accuracy=0.97\n",
      "\n",
      "epoch=2\n",
      "training_loss=0.09, training_accuracy= 0.97\n",
      "Validation: val_loss=0.09, val_accuracy=0.97\n",
      "\n",
      "epoch=3\n",
      "training_loss=0.07, training_accuracy= 0.98\n",
      "Validation: val_loss=0.08, val_accuracy=0.97\n",
      "\n",
      "epoch=4\n",
      "training_loss=0.05, training_accuracy= 0.98\n",
      "Validation: val_loss=0.08, val_accuracy=0.97\n",
      "\n",
      "epoch=5\n",
      "training_loss=0.04, training_accuracy= 0.99\n",
      "Validation: val_loss=0.08, val_accuracy=0.97\n",
      "\n",
      "epoch=6\n",
      "training_loss=0.04, training_accuracy= 0.99\n",
      "Validation: val_loss=0.08, val_accuracy=0.98\n",
      "\n",
      "epoch=7\n",
      "training_loss=0.04, training_accuracy= 0.99\n",
      "Validation: val_loss=0.08, val_accuracy=0.98\n",
      "\n",
      "epoch=8\n",
      "training_loss=0.03, training_accuracy= 0.99\n",
      "Validation: val_loss=0.07, val_accuracy=0.98\n",
      "\n",
      "epoch=9\n",
      "training_loss=0.03, training_accuracy= 0.99\n",
      "Validation: val_loss=0.07, val_accuracy=0.98\n",
      "\n",
      "epoch=10\n",
      "training_loss=0.03, training_accuracy= 0.99\n",
      "Validation: val_loss=0.07, val_accuracy=0.98\n",
      "\n"
     ]
    },
    {
     "data": {
      "text/html": [
       "<br/>Waiting for W&B process to finish, PID 707166... <strong style=\"color:green\">(success).</strong>"
      ],
      "text/plain": [
       "<IPython.core.display.HTML object>"
      ]
     },
     "metadata": {},
     "output_type": "display_data"
    },
    {
     "data": {
      "application/vnd.jupyter.widget-view+json": {
       "model_id": "",
       "version_major": 2,
       "version_minor": 0
      },
      "text/plain": [
       "VBox(children=(Label(value=' 0.00MB of 0.00MB uploaded (0.00MB deduped)\\r'), FloatProgress(value=1.0, max=1.0)…"
      ]
     },
     "metadata": {},
     "output_type": "display_data"
    },
    {
     "data": {
      "text/html": [
       "<style>\n",
       "    table.wandb td:nth-child(1) { padding: 0 10px; text-align: right }\n",
       "    .wandb-row { display: flex; flex-direction: row; flex-wrap: wrap; width: 100% }\n",
       "    .wandb-col { display: flex; flex-direction: column; flex-basis: 100%; flex: 1; padding: 10px; }\n",
       "    </style>\n",
       "<div class=\"wandb-row\"><div class=\"wandb-col\">\n",
       "<h3>Run history:</h3><br/><table class=\"wandb\"><tr><td>epoch</td><td>▁▂▃▃▄▅▆▆▇█</td></tr><tr><td>test_accuracy</td><td>▁</td></tr><tr><td>test_loss</td><td>▁</td></tr><tr><td>train_accuracy</td><td>▁▆▇▇██████</td></tr><tr><td>train_loss</td><td>█▃▂▂▂▁▁▁▁▁</td></tr><tr><td>val_accuracy</td><td>▁▄▅▅▅█▇▇█▇</td></tr><tr><td>val_loss</td><td>█▄▃▂▃▂▂▁▁▁</td></tr></table><br/></div><div class=\"wandb-col\">\n",
       "<h3>Run summary:</h3><br/><table class=\"wandb\"><tr><td>epoch</td><td>10</td></tr><tr><td>test_accuracy</td><td>0.9787</td></tr><tr><td>test_loss</td><td>0.07044</td></tr><tr><td>train_accuracy</td><td>0.99093</td></tr><tr><td>train_loss</td><td>0.02993</td></tr><tr><td>val_accuracy</td><td>0.977</td></tr><tr><td>val_loss</td><td>0.07416</td></tr></table>\n",
       "</div></div>\n",
       "Synced 6 W&B file(s), 0 media file(s), 0 artifact file(s) and 0 other file(s)\n",
       "<br/>Synced <strong style=\"color:#cdcd00\">lucky-sweep-14</strong>: <a href=\"https://wandb.ai/cookie303/Assignment1/runs/86ek9qrv\" target=\"_blank\">https://wandb.ai/cookie303/Assignment1/runs/86ek9qrv</a><br/>\n",
       "Find logs at: <code>./wandb/run-20220225_173828-86ek9qrv/logs</code><br/>\n"
      ],
      "text/plain": [
       "<IPython.core.display.HTML object>"
      ]
     },
     "metadata": {},
     "output_type": "display_data"
    },
    {
     "name": "stderr",
     "output_type": "stream",
     "text": [
      "\u001b[34m\u001b[1mwandb\u001b[0m: Agent Starting Run: x1p22wdb with config:\n",
      "\u001b[34m\u001b[1mwandb\u001b[0m: \tbatch_size: 64\n",
      "\u001b[34m\u001b[1mwandb\u001b[0m: \tnum_hidden_neurons: 256\n",
      "\u001b[34m\u001b[1mwandb\u001b[0m: \tnum_layers: 5\n",
      "\u001b[34m\u001b[1mwandb\u001b[0m: \tweight_decay: 0.0001\n",
      "2022-02-25 17:40:15.174307: W tensorflow/stream_executor/platform/default/dso_loader.cc:64] Could not load dynamic library 'libcudart.so.11.0'; dlerror: libcudart.so.11.0: cannot open shared object file: No such file or directory\n",
      "2022-02-25 17:40:15.174330: I tensorflow/stream_executor/cuda/cudart_stub.cc:29] Ignore above cudart dlerror if you do not have a GPU set up on your machine.\n"
     ]
    },
    {
     "data": {
      "text/html": [
       "\n",
       "                    Syncing run <strong><a href=\"https://wandb.ai/cookie303/Assignment1/runs/x1p22wdb\" target=\"_blank\">noble-sweep-14</a></strong> to <a href=\"https://wandb.ai/cookie303/Assignment1\" target=\"_blank\">Weights & Biases</a> (<a href=\"https://docs.wandb.com/integrations/jupyter.html\" target=\"_blank\">docs</a>).<br/>\n",
       "Sweep page: <a href=\"https://wandb.ai/cookie303/Assignment1/sweeps/mvcqeh0x\" target=\"_blank\">https://wandb.ai/cookie303/Assignment1/sweeps/mvcqeh0x</a><br/>\n",
       "\n",
       "                "
      ],
      "text/plain": [
       "<IPython.core.display.HTML object>"
      ]
     },
     "metadata": {},
     "output_type": "display_data"
    },
    {
     "name": "stdout",
     "output_type": "stream",
     "text": [
      "epoch=1\n",
      "training_loss=0.22, training_accuracy= 0.93\n",
      "Validation: val_loss=0.12, val_accuracy=0.96\n",
      "\n",
      "epoch=2\n",
      "training_loss=0.08, training_accuracy= 0.97\n",
      "Validation: val_loss=0.09, val_accuracy=0.97\n",
      "\n",
      "epoch=3\n",
      "training_loss=0.05, training_accuracy= 0.98\n",
      "Validation: val_loss=0.10, val_accuracy=0.97\n",
      "\n",
      "epoch=4\n",
      "training_loss=0.04, training_accuracy= 0.99\n",
      "Validation: val_loss=0.11, val_accuracy=0.97\n",
      "\n",
      "epoch=5\n",
      "training_loss=0.03, training_accuracy= 0.99\n",
      "Validation: val_loss=0.11, val_accuracy=0.97\n",
      "\n",
      "epoch=6\n",
      "training_loss=0.03, training_accuracy= 0.99\n",
      "Validation: val_loss=0.10, val_accuracy=0.98\n",
      "\n",
      "epoch=7\n",
      "training_loss=0.03, training_accuracy= 0.99\n",
      "Validation: val_loss=0.10, val_accuracy=0.98\n",
      "\n",
      "epoch=8\n",
      "training_loss=0.02, training_accuracy= 0.99\n",
      "Validation: val_loss=0.10, val_accuracy=0.98\n",
      "\n",
      "epoch=9\n",
      "training_loss=0.02, training_accuracy= 0.99\n",
      "Validation: val_loss=0.11, val_accuracy=0.97\n",
      "\n",
      "epoch=10\n",
      "training_loss=0.02, training_accuracy= 0.99\n",
      "Validation: val_loss=0.09, val_accuracy=0.98\n",
      "\n"
     ]
    },
    {
     "data": {
      "text/html": [
       "<br/>Waiting for W&B process to finish, PID 707274... <strong style=\"color:green\">(success).</strong>"
      ],
      "text/plain": [
       "<IPython.core.display.HTML object>"
      ]
     },
     "metadata": {},
     "output_type": "display_data"
    },
    {
     "data": {
      "application/vnd.jupyter.widget-view+json": {
       "model_id": "",
       "version_major": 2,
       "version_minor": 0
      },
      "text/plain": [
       "VBox(children=(Label(value=' 0.00MB of 0.00MB uploaded (0.00MB deduped)\\r'), FloatProgress(value=1.0, max=1.0)…"
      ]
     },
     "metadata": {},
     "output_type": "display_data"
    },
    {
     "data": {
      "text/html": [
       "<style>\n",
       "    table.wandb td:nth-child(1) { padding: 0 10px; text-align: right }\n",
       "    .wandb-row { display: flex; flex-direction: row; flex-wrap: wrap; width: 100% }\n",
       "    .wandb-col { display: flex; flex-direction: column; flex-basis: 100%; flex: 1; padding: 10px; }\n",
       "    </style>\n",
       "<div class=\"wandb-row\"><div class=\"wandb-col\">\n",
       "<h3>Run history:</h3><br/><table class=\"wandb\"><tr><td>epoch</td><td>▁▂▃▃▄▅▆▆▇█</td></tr><tr><td>test_accuracy</td><td>▁</td></tr><tr><td>test_loss</td><td>▁</td></tr><tr><td>train_accuracy</td><td>▁▆▇▇▇█████</td></tr><tr><td>train_loss</td><td>█▃▂▂▂▁▁▁▁▁</td></tr><tr><td>val_accuracy</td><td>▁▄▅▅▆▇▆▇▅█</td></tr><tr><td>val_loss</td><td>█▂▂▅▆▃▄▄▆▁</td></tr></table><br/></div><div class=\"wandb-col\">\n",
       "<h3>Run summary:</h3><br/><table class=\"wandb\"><tr><td>epoch</td><td>10</td></tr><tr><td>test_accuracy</td><td>0.979</td></tr><tr><td>test_loss</td><td>0.08316</td></tr><tr><td>train_accuracy</td><td>0.99348</td></tr><tr><td>train_loss</td><td>0.01906</td></tr><tr><td>val_accuracy</td><td>0.97883</td></tr><tr><td>val_loss</td><td>0.09121</td></tr></table>\n",
       "</div></div>\n",
       "Synced 6 W&B file(s), 0 media file(s), 0 artifact file(s) and 0 other file(s)\n",
       "<br/>Synced <strong style=\"color:#cdcd00\">noble-sweep-14</strong>: <a href=\"https://wandb.ai/cookie303/Assignment1/runs/x1p22wdb\" target=\"_blank\">https://wandb.ai/cookie303/Assignment1/runs/x1p22wdb</a><br/>\n",
       "Find logs at: <code>./wandb/run-20220225_174013-x1p22wdb/logs</code><br/>\n"
      ],
      "text/plain": [
       "<IPython.core.display.HTML object>"
      ]
     },
     "metadata": {},
     "output_type": "display_data"
    },
    {
     "name": "stderr",
     "output_type": "stream",
     "text": [
      "\u001b[34m\u001b[1mwandb\u001b[0m: Agent Starting Run: iod131dh with config:\n",
      "\u001b[34m\u001b[1mwandb\u001b[0m: \tbatch_size: 64\n",
      "\u001b[34m\u001b[1mwandb\u001b[0m: \tnum_hidden_neurons: 256\n",
      "\u001b[34m\u001b[1mwandb\u001b[0m: \tnum_layers: 5\n",
      "\u001b[34m\u001b[1mwandb\u001b[0m: \tweight_decay: 0\n",
      "2022-02-25 17:42:11.690112: W tensorflow/stream_executor/platform/default/dso_loader.cc:64] Could not load dynamic library 'libcudart.so.11.0'; dlerror: libcudart.so.11.0: cannot open shared object file: No such file or directory\n",
      "2022-02-25 17:42:11.690139: I tensorflow/stream_executor/cuda/cudart_stub.cc:29] Ignore above cudart dlerror if you do not have a GPU set up on your machine.\n"
     ]
    },
    {
     "data": {
      "text/html": [
       "\n",
       "                    Syncing run <strong><a href=\"https://wandb.ai/cookie303/Assignment1/runs/iod131dh\" target=\"_blank\">rose-sweep-15</a></strong> to <a href=\"https://wandb.ai/cookie303/Assignment1\" target=\"_blank\">Weights & Biases</a> (<a href=\"https://docs.wandb.com/integrations/jupyter.html\" target=\"_blank\">docs</a>).<br/>\n",
       "Sweep page: <a href=\"https://wandb.ai/cookie303/Assignment1/sweeps/mvcqeh0x\" target=\"_blank\">https://wandb.ai/cookie303/Assignment1/sweeps/mvcqeh0x</a><br/>\n",
       "\n",
       "                "
      ],
      "text/plain": [
       "<IPython.core.display.HTML object>"
      ]
     },
     "metadata": {},
     "output_type": "display_data"
    },
    {
     "name": "stdout",
     "output_type": "stream",
     "text": [
      "epoch=1\n",
      "training_loss=0.22, training_accuracy= 0.93\n",
      "Validation: val_loss=0.12, val_accuracy=0.97\n",
      "\n",
      "epoch=2\n",
      "training_loss=0.09, training_accuracy= 0.97\n",
      "Validation: val_loss=0.09, val_accuracy=0.97\n",
      "\n",
      "epoch=3\n",
      "training_loss=0.05, training_accuracy= 0.98\n",
      "Validation: val_loss=0.10, val_accuracy=0.97\n",
      "\n",
      "epoch=4\n",
      "training_loss=0.04, training_accuracy= 0.99\n",
      "Validation: val_loss=0.10, val_accuracy=0.98\n",
      "\n",
      "epoch=5\n",
      "training_loss=0.03, training_accuracy= 0.99\n",
      "Validation: val_loss=0.10, val_accuracy=0.98\n",
      "\n",
      "epoch=6\n",
      "training_loss=0.03, training_accuracy= 0.99\n",
      "Validation: val_loss=0.12, val_accuracy=0.97\n",
      "\n",
      "epoch=7\n",
      "training_loss=0.02, training_accuracy= 0.99\n",
      "Validation: val_loss=0.12, val_accuracy=0.98\n",
      "\n",
      "epoch=8\n",
      "training_loss=0.02, training_accuracy= 0.99\n",
      "Validation: val_loss=0.09, val_accuracy=0.98\n",
      "\n",
      "epoch=9\n",
      "training_loss=0.02, training_accuracy= 0.99\n",
      "Validation: val_loss=0.11, val_accuracy=0.98\n",
      "\n",
      "epoch=10\n",
      "training_loss=0.02, training_accuracy= 0.99\n",
      "Validation: val_loss=0.09, val_accuracy=0.98\n",
      "\n"
     ]
    },
    {
     "data": {
      "text/html": [
       "<br/>Waiting for W&B process to finish, PID 707339... <strong style=\"color:green\">(success).</strong>"
      ],
      "text/plain": [
       "<IPython.core.display.HTML object>"
      ]
     },
     "metadata": {},
     "output_type": "display_data"
    },
    {
     "data": {
      "application/vnd.jupyter.widget-view+json": {
       "model_id": "",
       "version_major": 2,
       "version_minor": 0
      },
      "text/plain": [
       "VBox(children=(Label(value=' 0.00MB of 0.00MB uploaded (0.00MB deduped)\\r'), FloatProgress(value=1.0, max=1.0)…"
      ]
     },
     "metadata": {},
     "output_type": "display_data"
    },
    {
     "data": {
      "text/html": [
       "<style>\n",
       "    table.wandb td:nth-child(1) { padding: 0 10px; text-align: right }\n",
       "    .wandb-row { display: flex; flex-direction: row; flex-wrap: wrap; width: 100% }\n",
       "    .wandb-col { display: flex; flex-direction: column; flex-basis: 100%; flex: 1; padding: 10px; }\n",
       "    </style>\n",
       "<div class=\"wandb-row\"><div class=\"wandb-col\">\n",
       "<h3>Run history:</h3><br/><table class=\"wandb\"><tr><td>epoch</td><td>▁▂▃▃▄▅▆▆▇█</td></tr><tr><td>test_accuracy</td><td>▁</td></tr><tr><td>test_loss</td><td>▁</td></tr><tr><td>train_accuracy</td><td>▁▆▇▇██████</td></tr><tr><td>train_loss</td><td>█▃▂▂▁▁▁▁▁▁</td></tr><tr><td>val_accuracy</td><td>▁▄▅▆▇▅▆█▆█</td></tr><tr><td>val_loss</td><td>█▂▃▂▄█▇▂▅▁</td></tr></table><br/></div><div class=\"wandb-col\">\n",
       "<h3>Run summary:</h3><br/><table class=\"wandb\"><tr><td>epoch</td><td>10</td></tr><tr><td>test_accuracy</td><td>0.977</td></tr><tr><td>test_loss</td><td>0.09472</td></tr><tr><td>train_accuracy</td><td>0.99319</td></tr><tr><td>train_loss</td><td>0.02036</td></tr><tr><td>val_accuracy</td><td>0.9795</td></tr><tr><td>val_loss</td><td>0.08854</td></tr></table>\n",
       "</div></div>\n",
       "Synced 6 W&B file(s), 0 media file(s), 0 artifact file(s) and 0 other file(s)\n",
       "<br/>Synced <strong style=\"color:#cdcd00\">rose-sweep-15</strong>: <a href=\"https://wandb.ai/cookie303/Assignment1/runs/iod131dh\" target=\"_blank\">https://wandb.ai/cookie303/Assignment1/runs/iod131dh</a><br/>\n",
       "Find logs at: <code>./wandb/run-20220225_174210-iod131dh/logs</code><br/>\n"
      ],
      "text/plain": [
       "<IPython.core.display.HTML object>"
      ]
     },
     "metadata": {},
     "output_type": "display_data"
    },
    {
     "name": "stderr",
     "output_type": "stream",
     "text": [
      "\u001b[34m\u001b[1mwandb\u001b[0m: Agent Starting Run: tdx5k4vz with config:\n",
      "\u001b[34m\u001b[1mwandb\u001b[0m: \tbatch_size: 16\n",
      "\u001b[34m\u001b[1mwandb\u001b[0m: \tnum_hidden_neurons: 256\n",
      "\u001b[34m\u001b[1mwandb\u001b[0m: \tnum_layers: 5\n",
      "\u001b[34m\u001b[1mwandb\u001b[0m: \tweight_decay: 0\n",
      "2022-02-25 17:43:57.682139: W tensorflow/stream_executor/platform/default/dso_loader.cc:64] Could not load dynamic library 'libcudart.so.11.0'; dlerror: libcudart.so.11.0: cannot open shared object file: No such file or directory\n",
      "2022-02-25 17:43:57.682159: I tensorflow/stream_executor/cuda/cudart_stub.cc:29] Ignore above cudart dlerror if you do not have a GPU set up on your machine.\n"
     ]
    },
    {
     "data": {
      "text/html": [
       "\n",
       "                    Syncing run <strong><a href=\"https://wandb.ai/cookie303/Assignment1/runs/tdx5k4vz\" target=\"_blank\">upbeat-sweep-16</a></strong> to <a href=\"https://wandb.ai/cookie303/Assignment1\" target=\"_blank\">Weights & Biases</a> (<a href=\"https://docs.wandb.com/integrations/jupyter.html\" target=\"_blank\">docs</a>).<br/>\n",
       "Sweep page: <a href=\"https://wandb.ai/cookie303/Assignment1/sweeps/mvcqeh0x\" target=\"_blank\">https://wandb.ai/cookie303/Assignment1/sweeps/mvcqeh0x</a><br/>\n",
       "\n",
       "                "
      ],
      "text/plain": [
       "<IPython.core.display.HTML object>"
      ]
     },
     "metadata": {},
     "output_type": "display_data"
    },
    {
     "name": "stdout",
     "output_type": "stream",
     "text": [
      "epoch=1\n",
      "training_loss=0.21, training_accuracy= 0.94\n",
      "Validation: val_loss=0.12, val_accuracy=0.96\n",
      "\n",
      "epoch=2\n",
      "training_loss=0.10, training_accuracy= 0.97\n",
      "Validation: val_loss=0.11, val_accuracy=0.97\n",
      "\n",
      "epoch=3\n",
      "training_loss=0.07, training_accuracy= 0.98\n",
      "Validation: val_loss=0.12, val_accuracy=0.97\n",
      "\n",
      "epoch=4\n",
      "training_loss=0.06, training_accuracy= 0.98\n",
      "Validation: val_loss=0.10, val_accuracy=0.97\n",
      "\n",
      "epoch=5\n",
      "training_loss=0.05, training_accuracy= 0.98\n",
      "Validation: val_loss=0.10, val_accuracy=0.97\n",
      "\n",
      "epoch=6\n",
      "training_loss=0.04, training_accuracy= 0.99\n",
      "Validation: val_loss=0.10, val_accuracy=0.98\n",
      "\n",
      "epoch=7\n",
      "training_loss=0.03, training_accuracy= 0.99\n",
      "Validation: val_loss=0.09, val_accuracy=0.98\n",
      "\n",
      "epoch=8\n",
      "training_loss=0.03, training_accuracy= 0.99\n",
      "Validation: val_loss=0.12, val_accuracy=0.98\n",
      "\n",
      "epoch=9\n",
      "training_loss=0.03, training_accuracy= 0.99\n",
      "Validation: val_loss=0.11, val_accuracy=0.98\n",
      "\n",
      "epoch=10\n",
      "training_loss=0.03, training_accuracy= 0.99\n",
      "Validation: val_loss=0.13, val_accuracy=0.97\n",
      "\n"
     ]
    },
    {
     "data": {
      "text/html": [
       "<br/>Waiting for W&B process to finish, PID 707403... <strong style=\"color:green\">(success).</strong>"
      ],
      "text/plain": [
       "<IPython.core.display.HTML object>"
      ]
     },
     "metadata": {},
     "output_type": "display_data"
    },
    {
     "data": {
      "application/vnd.jupyter.widget-view+json": {
       "model_id": "",
       "version_major": 2,
       "version_minor": 0
      },
      "text/plain": [
       "VBox(children=(Label(value=' 0.00MB of 0.00MB uploaded (0.00MB deduped)\\r'), FloatProgress(value=1.0, max=1.0)…"
      ]
     },
     "metadata": {},
     "output_type": "display_data"
    },
    {
     "data": {
      "text/html": [
       "<style>\n",
       "    table.wandb td:nth-child(1) { padding: 0 10px; text-align: right }\n",
       "    .wandb-row { display: flex; flex-direction: row; flex-wrap: wrap; width: 100% }\n",
       "    .wandb-col { display: flex; flex-direction: column; flex-basis: 100%; flex: 1; padding: 10px; }\n",
       "    </style>\n",
       "<div class=\"wandb-row\"><div class=\"wandb-col\">\n",
       "<h3>Run history:</h3><br/><table class=\"wandb\"><tr><td>epoch</td><td>▁▂▃▃▄▅▆▆▇█</td></tr><tr><td>test_accuracy</td><td>▁</td></tr><tr><td>test_loss</td><td>▁</td></tr><tr><td>train_accuracy</td><td>▁▅▆▇▇▇████</td></tr><tr><td>train_loss</td><td>█▄▃▂▂▁▁▁▁▁</td></tr><tr><td>val_accuracy</td><td>▁▃▃▆▆██▇▇▆</td></tr><tr><td>val_loss</td><td>▆▄▆▃▂▂▁▇▅█</td></tr></table><br/></div><div class=\"wandb-col\">\n",
       "<h3>Run summary:</h3><br/><table class=\"wandb\"><tr><td>epoch</td><td>10</td></tr><tr><td>test_accuracy</td><td>0.9733</td></tr><tr><td>test_loss</td><td>0.13182</td></tr><tr><td>train_accuracy</td><td>0.99209</td></tr><tr><td>train_loss</td><td>0.0258</td></tr><tr><td>val_accuracy</td><td>0.97433</td></tr><tr><td>val_loss</td><td>0.12825</td></tr></table>\n",
       "</div></div>\n",
       "Synced 6 W&B file(s), 0 media file(s), 0 artifact file(s) and 0 other file(s)\n",
       "<br/>Synced <strong style=\"color:#cdcd00\">upbeat-sweep-16</strong>: <a href=\"https://wandb.ai/cookie303/Assignment1/runs/tdx5k4vz\" target=\"_blank\">https://wandb.ai/cookie303/Assignment1/runs/tdx5k4vz</a><br/>\n",
       "Find logs at: <code>./wandb/run-20220225_174356-tdx5k4vz/logs</code><br/>\n"
      ],
      "text/plain": [
       "<IPython.core.display.HTML object>"
      ]
     },
     "metadata": {},
     "output_type": "display_data"
    },
    {
     "name": "stderr",
     "output_type": "stream",
     "text": [
      "\u001b[34m\u001b[1mwandb\u001b[0m: Agent Starting Run: 9ze0bn5x with config:\n",
      "\u001b[34m\u001b[1mwandb\u001b[0m: \tbatch_size: 64\n",
      "\u001b[34m\u001b[1mwandb\u001b[0m: \tnum_hidden_neurons: 256\n",
      "\u001b[34m\u001b[1mwandb\u001b[0m: \tnum_layers: 5\n",
      "\u001b[34m\u001b[1mwandb\u001b[0m: \tweight_decay: 0.0001\n",
      "2022-02-25 17:48:58.349713: W tensorflow/stream_executor/platform/default/dso_loader.cc:64] Could not load dynamic library 'libcudart.so.11.0'; dlerror: libcudart.so.11.0: cannot open shared object file: No such file or directory\n",
      "2022-02-25 17:48:58.349741: I tensorflow/stream_executor/cuda/cudart_stub.cc:29] Ignore above cudart dlerror if you do not have a GPU set up on your machine.\n"
     ]
    },
    {
     "data": {
      "text/html": [
       "\n",
       "                    Syncing run <strong><a href=\"https://wandb.ai/cookie303/Assignment1/runs/9ze0bn5x\" target=\"_blank\">peach-sweep-17</a></strong> to <a href=\"https://wandb.ai/cookie303/Assignment1\" target=\"_blank\">Weights & Biases</a> (<a href=\"https://docs.wandb.com/integrations/jupyter.html\" target=\"_blank\">docs</a>).<br/>\n",
       "Sweep page: <a href=\"https://wandb.ai/cookie303/Assignment1/sweeps/mvcqeh0x\" target=\"_blank\">https://wandb.ai/cookie303/Assignment1/sweeps/mvcqeh0x</a><br/>\n",
       "\n",
       "                "
      ],
      "text/plain": [
       "<IPython.core.display.HTML object>"
      ]
     },
     "metadata": {},
     "output_type": "display_data"
    },
    {
     "name": "stdout",
     "output_type": "stream",
     "text": [
      "epoch=1\n",
      "training_loss=0.22, training_accuracy= 0.93\n",
      "Validation: val_loss=0.11, val_accuracy=0.97\n",
      "\n",
      "epoch=2\n",
      "training_loss=0.08, training_accuracy= 0.97\n",
      "Validation: val_loss=0.10, val_accuracy=0.97\n",
      "\n",
      "epoch=3\n",
      "training_loss=0.05, training_accuracy= 0.98\n",
      "Validation: val_loss=0.11, val_accuracy=0.97\n",
      "\n",
      "epoch=4\n",
      "training_loss=0.04, training_accuracy= 0.99\n",
      "Validation: val_loss=0.10, val_accuracy=0.98\n",
      "\n",
      "epoch=5\n",
      "training_loss=0.03, training_accuracy= 0.99\n",
      "Validation: val_loss=0.09, val_accuracy=0.98\n",
      "\n",
      "epoch=6\n",
      "training_loss=0.03, training_accuracy= 0.99\n",
      "Validation: val_loss=0.10, val_accuracy=0.98\n",
      "\n",
      "epoch=7\n",
      "training_loss=0.03, training_accuracy= 0.99\n",
      "Validation: val_loss=0.12, val_accuracy=0.97\n",
      "\n",
      "epoch=8\n",
      "training_loss=0.02, training_accuracy= 0.99\n",
      "Validation: val_loss=0.10, val_accuracy=0.98\n",
      "\n",
      "epoch=9\n",
      "training_loss=0.02, training_accuracy= 0.99\n",
      "Validation: val_loss=0.12, val_accuracy=0.98\n",
      "\n",
      "epoch=10\n",
      "training_loss=0.02, training_accuracy= 0.99\n",
      "Validation: val_loss=0.10, val_accuracy=0.98\n",
      "\n"
     ]
    },
    {
     "data": {
      "text/html": [
       "<br/>Waiting for W&B process to finish, PID 707565... <strong style=\"color:green\">(success).</strong>"
      ],
      "text/plain": [
       "<IPython.core.display.HTML object>"
      ]
     },
     "metadata": {},
     "output_type": "display_data"
    },
    {
     "data": {
      "application/vnd.jupyter.widget-view+json": {
       "model_id": "",
       "version_major": 2,
       "version_minor": 0
      },
      "text/plain": [
       "VBox(children=(Label(value=' 0.00MB of 0.00MB uploaded (0.00MB deduped)\\r'), FloatProgress(value=1.0, max=1.0)…"
      ]
     },
     "metadata": {},
     "output_type": "display_data"
    },
    {
     "data": {
      "text/html": [
       "<style>\n",
       "    table.wandb td:nth-child(1) { padding: 0 10px; text-align: right }\n",
       "    .wandb-row { display: flex; flex-direction: row; flex-wrap: wrap; width: 100% }\n",
       "    .wandb-col { display: flex; flex-direction: column; flex-basis: 100%; flex: 1; padding: 10px; }\n",
       "    </style>\n",
       "<div class=\"wandb-row\"><div class=\"wandb-col\">\n",
       "<h3>Run history:</h3><br/><table class=\"wandb\"><tr><td>epoch</td><td>▁▂▃▃▄▅▆▆▇█</td></tr><tr><td>test_accuracy</td><td>▁</td></tr><tr><td>test_loss</td><td>▁</td></tr><tr><td>train_accuracy</td><td>▁▆▇▇▇█████</td></tr><tr><td>train_loss</td><td>█▃▂▂▁▁▁▁▁▁</td></tr><tr><td>val_accuracy</td><td>▁▃▄█▇▇▂█▇▇</td></tr><tr><td>val_loss</td><td>▆▂▅▂▁▂█▃█▄</td></tr></table><br/></div><div class=\"wandb-col\">\n",
       "<h3>Run summary:</h3><br/><table class=\"wandb\"><tr><td>epoch</td><td>10</td></tr><tr><td>test_accuracy</td><td>0.9766</td></tr><tr><td>test_loss</td><td>0.09594</td></tr><tr><td>train_accuracy</td><td>0.99365</td></tr><tr><td>train_loss</td><td>0.02005</td></tr><tr><td>val_accuracy</td><td>0.97567</td></tr><tr><td>val_loss</td><td>0.10391</td></tr></table>\n",
       "</div></div>\n",
       "Synced 6 W&B file(s), 0 media file(s), 0 artifact file(s) and 0 other file(s)\n",
       "<br/>Synced <strong style=\"color:#cdcd00\">peach-sweep-17</strong>: <a href=\"https://wandb.ai/cookie303/Assignment1/runs/9ze0bn5x\" target=\"_blank\">https://wandb.ai/cookie303/Assignment1/runs/9ze0bn5x</a><br/>\n",
       "Find logs at: <code>./wandb/run-20220225_174857-9ze0bn5x/logs</code><br/>\n"
      ],
      "text/plain": [
       "<IPython.core.display.HTML object>"
      ]
     },
     "metadata": {},
     "output_type": "display_data"
    },
    {
     "name": "stderr",
     "output_type": "stream",
     "text": [
      "\u001b[34m\u001b[1mwandb\u001b[0m: Agent Starting Run: u4ib00jx with config:\n",
      "\u001b[34m\u001b[1mwandb\u001b[0m: \tbatch_size: 64\n",
      "\u001b[34m\u001b[1mwandb\u001b[0m: \tnum_hidden_neurons: 256\n",
      "\u001b[34m\u001b[1mwandb\u001b[0m: \tnum_layers: 5\n",
      "\u001b[34m\u001b[1mwandb\u001b[0m: \tweight_decay: 0\n",
      "2022-02-25 17:50:49.000333: W tensorflow/stream_executor/platform/default/dso_loader.cc:64] Could not load dynamic library 'libcudart.so.11.0'; dlerror: libcudart.so.11.0: cannot open shared object file: No such file or directory\n",
      "2022-02-25 17:50:49.000358: I tensorflow/stream_executor/cuda/cudart_stub.cc:29] Ignore above cudart dlerror if you do not have a GPU set up on your machine.\n"
     ]
    },
    {
     "data": {
      "text/html": [
       "\n",
       "                    Syncing run <strong><a href=\"https://wandb.ai/cookie303/Assignment1/runs/u4ib00jx\" target=\"_blank\">misunderstood-sweep-18</a></strong> to <a href=\"https://wandb.ai/cookie303/Assignment1\" target=\"_blank\">Weights & Biases</a> (<a href=\"https://docs.wandb.com/integrations/jupyter.html\" target=\"_blank\">docs</a>).<br/>\n",
       "Sweep page: <a href=\"https://wandb.ai/cookie303/Assignment1/sweeps/mvcqeh0x\" target=\"_blank\">https://wandb.ai/cookie303/Assignment1/sweeps/mvcqeh0x</a><br/>\n",
       "\n",
       "                "
      ],
      "text/plain": [
       "<IPython.core.display.HTML object>"
      ]
     },
     "metadata": {},
     "output_type": "display_data"
    },
    {
     "name": "stdout",
     "output_type": "stream",
     "text": [
      "epoch=1\n",
      "training_loss=0.22, training_accuracy= 0.93\n",
      "Validation: val_loss=0.12, val_accuracy=0.96\n",
      "\n",
      "epoch=2\n",
      "training_loss=0.09, training_accuracy= 0.97\n",
      "Validation: val_loss=0.09, val_accuracy=0.97\n",
      "\n",
      "epoch=3\n",
      "training_loss=0.06, training_accuracy= 0.98\n",
      "Validation: val_loss=0.09, val_accuracy=0.97\n",
      "\n",
      "epoch=4\n",
      "training_loss=0.04, training_accuracy= 0.99\n",
      "Validation: val_loss=0.09, val_accuracy=0.98\n",
      "\n",
      "epoch=5\n",
      "training_loss=0.03, training_accuracy= 0.99\n",
      "Validation: val_loss=0.10, val_accuracy=0.97\n",
      "\n",
      "epoch=6\n",
      "training_loss=0.03, training_accuracy= 0.99\n",
      "Validation: val_loss=0.11, val_accuracy=0.97\n",
      "\n",
      "epoch=7\n",
      "training_loss=0.03, training_accuracy= 0.99\n",
      "Validation: val_loss=0.12, val_accuracy=0.97\n",
      "\n",
      "epoch=8\n",
      "training_loss=0.02, training_accuracy= 0.99\n",
      "Validation: val_loss=0.11, val_accuracy=0.98\n",
      "\n",
      "epoch=9\n",
      "training_loss=0.02, training_accuracy= 0.99\n",
      "Validation: val_loss=0.12, val_accuracy=0.98\n",
      "\n",
      "epoch=10\n",
      "training_loss=0.02, training_accuracy= 0.99\n",
      "Validation: val_loss=0.12, val_accuracy=0.97\n",
      "\n"
     ]
    },
    {
     "data": {
      "text/html": [
       "<br/>Waiting for W&B process to finish, PID 707622... <strong style=\"color:green\">(success).</strong>"
      ],
      "text/plain": [
       "<IPython.core.display.HTML object>"
      ]
     },
     "metadata": {},
     "output_type": "display_data"
    },
    {
     "data": {
      "application/vnd.jupyter.widget-view+json": {
       "model_id": "",
       "version_major": 2,
       "version_minor": 0
      },
      "text/plain": [
       "VBox(children=(Label(value=' 0.00MB of 0.00MB uploaded (0.00MB deduped)\\r'), FloatProgress(value=1.0, max=1.0)…"
      ]
     },
     "metadata": {},
     "output_type": "display_data"
    },
    {
     "data": {
      "text/html": [
       "<style>\n",
       "    table.wandb td:nth-child(1) { padding: 0 10px; text-align: right }\n",
       "    .wandb-row { display: flex; flex-direction: row; flex-wrap: wrap; width: 100% }\n",
       "    .wandb-col { display: flex; flex-direction: column; flex-basis: 100%; flex: 1; padding: 10px; }\n",
       "    </style>\n",
       "<div class=\"wandb-row\"><div class=\"wandb-col\">\n",
       "<h3>Run history:</h3><br/><table class=\"wandb\"><tr><td>epoch</td><td>▁▂▃▃▄▅▆▆▇█</td></tr><tr><td>test_accuracy</td><td>▁</td></tr><tr><td>test_loss</td><td>▁</td></tr><tr><td>train_accuracy</td><td>▁▆▇▇▇█████</td></tr><tr><td>train_loss</td><td>█▃▂▂▂▁▁▁▁▁</td></tr><tr><td>val_accuracy</td><td>▁▅▆▇▆▆▅█▇▆</td></tr><tr><td>val_loss</td><td>▆▁▁▁▄▆█▄▆█</td></tr></table><br/></div><div class=\"wandb-col\">\n",
       "<h3>Run summary:</h3><br/><table class=\"wandb\"><tr><td>epoch</td><td>10</td></tr><tr><td>test_accuracy</td><td>0.9717</td></tr><tr><td>test_loss</td><td>0.11315</td></tr><tr><td>train_accuracy</td><td>0.99341</td></tr><tr><td>train_loss</td><td>0.01917</td></tr><tr><td>val_accuracy</td><td>0.97317</td></tr><tr><td>val_loss</td><td>0.12241</td></tr></table>\n",
       "</div></div>\n",
       "Synced 6 W&B file(s), 0 media file(s), 0 artifact file(s) and 0 other file(s)\n",
       "<br/>Synced <strong style=\"color:#cdcd00\">misunderstood-sweep-18</strong>: <a href=\"https://wandb.ai/cookie303/Assignment1/runs/u4ib00jx\" target=\"_blank\">https://wandb.ai/cookie303/Assignment1/runs/u4ib00jx</a><br/>\n",
       "Find logs at: <code>./wandb/run-20220225_175047-u4ib00jx/logs</code><br/>\n"
      ],
      "text/plain": [
       "<IPython.core.display.HTML object>"
      ]
     },
     "metadata": {},
     "output_type": "display_data"
    },
    {
     "name": "stderr",
     "output_type": "stream",
     "text": [
      "\u001b[34m\u001b[1mwandb\u001b[0m: Sweep Agent: Waiting for job.\n",
      "\u001b[34m\u001b[1mwandb\u001b[0m: Job received.\n",
      "\u001b[34m\u001b[1mwandb\u001b[0m: Agent Starting Run: g9kf4wrc with config:\n",
      "\u001b[34m\u001b[1mwandb\u001b[0m: \tbatch_size: 16\n",
      "\u001b[34m\u001b[1mwandb\u001b[0m: \tnum_hidden_neurons: 256\n",
      "\u001b[34m\u001b[1mwandb\u001b[0m: \tnum_layers: 3\n",
      "\u001b[34m\u001b[1mwandb\u001b[0m: \tweight_decay: 0.0015\n",
      "2022-02-25 17:52:39.746584: W tensorflow/stream_executor/platform/default/dso_loader.cc:64] Could not load dynamic library 'libcudart.so.11.0'; dlerror: libcudart.so.11.0: cannot open shared object file: No such file or directory\n",
      "2022-02-25 17:52:39.746608: I tensorflow/stream_executor/cuda/cudart_stub.cc:29] Ignore above cudart dlerror if you do not have a GPU set up on your machine.\n"
     ]
    },
    {
     "data": {
      "text/html": [
       "\n",
       "                    Syncing run <strong><a href=\"https://wandb.ai/cookie303/Assignment1/runs/g9kf4wrc\" target=\"_blank\">fresh-sweep-19</a></strong> to <a href=\"https://wandb.ai/cookie303/Assignment1\" target=\"_blank\">Weights & Biases</a> (<a href=\"https://docs.wandb.com/integrations/jupyter.html\" target=\"_blank\">docs</a>).<br/>\n",
       "Sweep page: <a href=\"https://wandb.ai/cookie303/Assignment1/sweeps/mvcqeh0x\" target=\"_blank\">https://wandb.ai/cookie303/Assignment1/sweeps/mvcqeh0x</a><br/>\n",
       "\n",
       "                "
      ],
      "text/plain": [
       "<IPython.core.display.HTML object>"
      ]
     },
     "metadata": {},
     "output_type": "display_data"
    },
    {
     "name": "stdout",
     "output_type": "stream",
     "text": [
      "epoch=1\n",
      "training_loss=0.20, training_accuracy= 0.94\n",
      "Validation: val_loss=0.13, val_accuracy=0.96\n",
      "\n",
      "epoch=2\n",
      "training_loss=0.10, training_accuracy= 0.97\n",
      "Validation: val_loss=0.11, val_accuracy=0.97\n",
      "\n",
      "epoch=3\n",
      "training_loss=0.09, training_accuracy= 0.97\n",
      "Validation: val_loss=0.09, val_accuracy=0.97\n",
      "\n",
      "epoch=4\n",
      "training_loss=0.08, training_accuracy= 0.98\n",
      "Validation: val_loss=0.09, val_accuracy=0.97\n",
      "\n",
      "epoch=5\n",
      "training_loss=0.07, training_accuracy= 0.98\n",
      "Validation: val_loss=0.09, val_accuracy=0.97\n",
      "\n",
      "epoch=6\n",
      "training_loss=0.06, training_accuracy= 0.98\n",
      "Validation: val_loss=0.08, val_accuracy=0.97\n",
      "\n",
      "epoch=7\n",
      "training_loss=0.06, training_accuracy= 0.98\n",
      "Validation: val_loss=0.09, val_accuracy=0.97\n",
      "\n",
      "epoch=8\n",
      "training_loss=0.06, training_accuracy= 0.98\n",
      "Validation: val_loss=0.09, val_accuracy=0.97\n",
      "\n",
      "epoch=9\n",
      "training_loss=0.06, training_accuracy= 0.98\n",
      "Validation: val_loss=0.09, val_accuracy=0.97\n",
      "\n",
      "epoch=10\n",
      "training_loss=0.06, training_accuracy= 0.98\n",
      "Validation: val_loss=0.09, val_accuracy=0.97\n",
      "\n"
     ]
    },
    {
     "data": {
      "text/html": [
       "<br/>Waiting for W&B process to finish, PID 707678... <strong style=\"color:green\">(success).</strong>"
      ],
      "text/plain": [
       "<IPython.core.display.HTML object>"
      ]
     },
     "metadata": {},
     "output_type": "display_data"
    },
    {
     "data": {
      "application/vnd.jupyter.widget-view+json": {
       "model_id": "",
       "version_major": 2,
       "version_minor": 0
      },
      "text/plain": [
       "VBox(children=(Label(value=' 0.00MB of 0.00MB uploaded (0.00MB deduped)\\r'), FloatProgress(value=1.0, max=1.0)…"
      ]
     },
     "metadata": {},
     "output_type": "display_data"
    },
    {
     "data": {
      "text/html": [
       "<style>\n",
       "    table.wandb td:nth-child(1) { padding: 0 10px; text-align: right }\n",
       "    .wandb-row { display: flex; flex-direction: row; flex-wrap: wrap; width: 100% }\n",
       "    .wandb-col { display: flex; flex-direction: column; flex-basis: 100%; flex: 1; padding: 10px; }\n",
       "    </style>\n",
       "<div class=\"wandb-row\"><div class=\"wandb-col\">\n",
       "<h3>Run history:</h3><br/><table class=\"wandb\"><tr><td>epoch</td><td>▁▂▃▃▄▅▆▆▇█</td></tr><tr><td>test_accuracy</td><td>▁</td></tr><tr><td>test_loss</td><td>▁</td></tr><tr><td>train_accuracy</td><td>▁▅▆▇▇▇████</td></tr><tr><td>train_loss</td><td>█▃▃▂▂▁▁▁▁▁</td></tr><tr><td>val_accuracy</td><td>▁▄▅▇▇▇██▇▇</td></tr><tr><td>val_loss</td><td>█▄▃▂▃▁▁▁▂▂</td></tr></table><br/></div><div class=\"wandb-col\">\n",
       "<h3>Run summary:</h3><br/><table class=\"wandb\"><tr><td>epoch</td><td>10</td></tr><tr><td>test_accuracy</td><td>0.9723</td></tr><tr><td>test_loss</td><td>0.08313</td></tr><tr><td>train_accuracy</td><td>0.98331</td></tr><tr><td>train_loss</td><td>0.05503</td></tr><tr><td>val_accuracy</td><td>0.97233</td></tr><tr><td>val_loss</td><td>0.0903</td></tr></table>\n",
       "</div></div>\n",
       "Synced 6 W&B file(s), 0 media file(s), 0 artifact file(s) and 0 other file(s)\n",
       "<br/>Synced <strong style=\"color:#cdcd00\">fresh-sweep-19</strong>: <a href=\"https://wandb.ai/cookie303/Assignment1/runs/g9kf4wrc\" target=\"_blank\">https://wandb.ai/cookie303/Assignment1/runs/g9kf4wrc</a><br/>\n",
       "Find logs at: <code>./wandb/run-20220225_175238-g9kf4wrc/logs</code><br/>\n"
      ],
      "text/plain": [
       "<IPython.core.display.HTML object>"
      ]
     },
     "metadata": {},
     "output_type": "display_data"
    },
    {
     "name": "stderr",
     "output_type": "stream",
     "text": [
      "\u001b[34m\u001b[1mwandb\u001b[0m: Agent Starting Run: b6y5k3qx with config:\n",
      "\u001b[34m\u001b[1mwandb\u001b[0m: \tbatch_size: 16\n",
      "\u001b[34m\u001b[1mwandb\u001b[0m: \tnum_hidden_neurons: 256\n",
      "\u001b[34m\u001b[1mwandb\u001b[0m: \tnum_layers: 3\n",
      "\u001b[34m\u001b[1mwandb\u001b[0m: \tweight_decay: 0\n",
      "2022-02-25 17:56:42.861515: W tensorflow/stream_executor/platform/default/dso_loader.cc:64] Could not load dynamic library 'libcudart.so.11.0'; dlerror: libcudart.so.11.0: cannot open shared object file: No such file or directory\n",
      "2022-02-25 17:56:42.861537: I tensorflow/stream_executor/cuda/cudart_stub.cc:29] Ignore above cudart dlerror if you do not have a GPU set up on your machine.\n"
     ]
    },
    {
     "data": {
      "text/html": [
       "\n",
       "                    Syncing run <strong><a href=\"https://wandb.ai/cookie303/Assignment1/runs/b6y5k3qx\" target=\"_blank\">dutiful-sweep-20</a></strong> to <a href=\"https://wandb.ai/cookie303/Assignment1\" target=\"_blank\">Weights & Biases</a> (<a href=\"https://docs.wandb.com/integrations/jupyter.html\" target=\"_blank\">docs</a>).<br/>\n",
       "Sweep page: <a href=\"https://wandb.ai/cookie303/Assignment1/sweeps/mvcqeh0x\" target=\"_blank\">https://wandb.ai/cookie303/Assignment1/sweeps/mvcqeh0x</a><br/>\n",
       "\n",
       "                "
      ],
      "text/plain": [
       "<IPython.core.display.HTML object>"
      ]
     },
     "metadata": {},
     "output_type": "display_data"
    },
    {
     "name": "stdout",
     "output_type": "stream",
     "text": [
      "epoch=1\n",
      "training_loss=0.20, training_accuracy= 0.94\n",
      "Validation: val_loss=0.11, val_accuracy=0.97\n",
      "\n",
      "epoch=2\n",
      "training_loss=0.09, training_accuracy= 0.97\n",
      "Validation: val_loss=0.10, val_accuracy=0.97\n",
      "\n",
      "epoch=3\n",
      "training_loss=0.06, training_accuracy= 0.98\n",
      "Validation: val_loss=0.09, val_accuracy=0.98\n",
      "\n",
      "epoch=4\n",
      "training_loss=0.04, training_accuracy= 0.99\n",
      "Validation: val_loss=0.10, val_accuracy=0.98\n",
      "\n",
      "epoch=5\n",
      "training_loss=0.03, training_accuracy= 0.99\n",
      "Validation: val_loss=0.11, val_accuracy=0.97\n",
      "\n",
      "epoch=6\n",
      "training_loss=0.03, training_accuracy= 0.99\n",
      "Validation: val_loss=0.10, val_accuracy=0.98\n",
      "\n",
      "epoch=7\n",
      "training_loss=0.03, training_accuracy= 0.99\n",
      "Validation: val_loss=0.11, val_accuracy=0.98\n",
      "\n",
      "epoch=8\n",
      "training_loss=0.02, training_accuracy= 0.99\n",
      "Validation: val_loss=0.11, val_accuracy=0.98\n",
      "\n",
      "epoch=9\n",
      "training_loss=0.02, training_accuracy= 0.99\n",
      "Validation: val_loss=0.14, val_accuracy=0.97\n",
      "\n",
      "epoch=10\n",
      "training_loss=0.02, training_accuracy= 0.99\n",
      "Validation: val_loss=0.12, val_accuracy=0.98\n",
      "\n"
     ]
    },
    {
     "data": {
      "text/html": [
       "<br/>Waiting for W&B process to finish, PID 707786... <strong style=\"color:green\">(success).</strong>"
      ],
      "text/plain": [
       "<IPython.core.display.HTML object>"
      ]
     },
     "metadata": {},
     "output_type": "display_data"
    },
    {
     "data": {
      "application/vnd.jupyter.widget-view+json": {
       "model_id": "",
       "version_major": 2,
       "version_minor": 0
      },
      "text/plain": [
       "VBox(children=(Label(value=' 0.00MB of 0.00MB uploaded (0.00MB deduped)\\r'), FloatProgress(value=1.0, max=1.0)…"
      ]
     },
     "metadata": {},
     "output_type": "display_data"
    },
    {
     "data": {
      "text/html": [
       "<style>\n",
       "    table.wandb td:nth-child(1) { padding: 0 10px; text-align: right }\n",
       "    .wandb-row { display: flex; flex-direction: row; flex-wrap: wrap; width: 100% }\n",
       "    .wandb-col { display: flex; flex-direction: column; flex-basis: 100%; flex: 1; padding: 10px; }\n",
       "    </style>\n",
       "<div class=\"wandb-row\"><div class=\"wandb-col\">\n",
       "<h3>Run history:</h3><br/><table class=\"wandb\"><tr><td>epoch</td><td>▁▂▃▃▄▅▆▆▇█</td></tr><tr><td>test_accuracy</td><td>▁</td></tr><tr><td>test_loss</td><td>▁</td></tr><tr><td>train_accuracy</td><td>▁▅▇▇▇█████</td></tr><tr><td>train_loss</td><td>█▄▂▂▁▁▁▁▁▁</td></tr><tr><td>val_accuracy</td><td>▁▅▇█▆█▇▇▅█</td></tr><tr><td>val_loss</td><td>▄▃▁▂▄▂▄▄█▆</td></tr></table><br/></div><div class=\"wandb-col\">\n",
       "<h3>Run summary:</h3><br/><table class=\"wandb\"><tr><td>epoch</td><td>10</td></tr><tr><td>test_accuracy</td><td>0.9779</td></tr><tr><td>test_loss</td><td>0.10715</td></tr><tr><td>train_accuracy</td><td>0.9927</td></tr><tr><td>train_loss</td><td>0.02248</td></tr><tr><td>val_accuracy</td><td>0.97717</td></tr><tr><td>val_loss</td><td>0.12366</td></tr></table>\n",
       "</div></div>\n",
       "Synced 6 W&B file(s), 0 media file(s), 0 artifact file(s) and 0 other file(s)\n",
       "<br/>Synced <strong style=\"color:#cdcd00\">dutiful-sweep-20</strong>: <a href=\"https://wandb.ai/cookie303/Assignment1/runs/b6y5k3qx\" target=\"_blank\">https://wandb.ai/cookie303/Assignment1/runs/b6y5k3qx</a><br/>\n",
       "Find logs at: <code>./wandb/run-20220225_175641-b6y5k3qx/logs</code><br/>\n"
      ],
      "text/plain": [
       "<IPython.core.display.HTML object>"
      ]
     },
     "metadata": {},
     "output_type": "display_data"
    },
    {
     "name": "stderr",
     "output_type": "stream",
     "text": [
      "\u001b[34m\u001b[1mwandb\u001b[0m: Sweep Agent: Waiting for job.\n",
      "\u001b[34m\u001b[1mwandb\u001b[0m: Job received.\n",
      "\u001b[34m\u001b[1mwandb\u001b[0m: Agent Starting Run: 355049kj with config:\n",
      "\u001b[34m\u001b[1mwandb\u001b[0m: \tbatch_size: 16\n",
      "\u001b[34m\u001b[1mwandb\u001b[0m: \tnum_hidden_neurons: 256\n",
      "\u001b[34m\u001b[1mwandb\u001b[0m: \tnum_layers: 3\n",
      "\u001b[34m\u001b[1mwandb\u001b[0m: \tweight_decay: 0\n",
      "2022-02-25 18:00:29.099206: W tensorflow/stream_executor/platform/default/dso_loader.cc:64] Could not load dynamic library 'libcudart.so.11.0'; dlerror: libcudart.so.11.0: cannot open shared object file: No such file or directory\n",
      "2022-02-25 18:00:29.099232: I tensorflow/stream_executor/cuda/cudart_stub.cc:29] Ignore above cudart dlerror if you do not have a GPU set up on your machine.\n"
     ]
    },
    {
     "data": {
      "text/html": [
       "\n",
       "                    Syncing run <strong><a href=\"https://wandb.ai/cookie303/Assignment1/runs/355049kj\" target=\"_blank\">spring-sweep-21</a></strong> to <a href=\"https://wandb.ai/cookie303/Assignment1\" target=\"_blank\">Weights & Biases</a> (<a href=\"https://docs.wandb.com/integrations/jupyter.html\" target=\"_blank\">docs</a>).<br/>\n",
       "Sweep page: <a href=\"https://wandb.ai/cookie303/Assignment1/sweeps/mvcqeh0x\" target=\"_blank\">https://wandb.ai/cookie303/Assignment1/sweeps/mvcqeh0x</a><br/>\n",
       "\n",
       "                "
      ],
      "text/plain": [
       "<IPython.core.display.HTML object>"
      ]
     },
     "metadata": {},
     "output_type": "display_data"
    },
    {
     "name": "stdout",
     "output_type": "stream",
     "text": [
      "epoch=1\n",
      "training_loss=0.20, training_accuracy= 0.94\n",
      "Validation: val_loss=0.11, val_accuracy=0.97\n",
      "\n",
      "epoch=2\n",
      "training_loss=0.08, training_accuracy= 0.97\n",
      "Validation: val_loss=0.10, val_accuracy=0.97\n",
      "\n",
      "epoch=3\n",
      "training_loss=0.06, training_accuracy= 0.98\n",
      "Validation: val_loss=0.09, val_accuracy=0.97\n",
      "\n",
      "epoch=4\n",
      "training_loss=0.04, training_accuracy= 0.99\n",
      "Validation: val_loss=0.11, val_accuracy=0.98\n",
      "\n",
      "epoch=5\n",
      "training_loss=0.03, training_accuracy= 0.99\n",
      "Validation: val_loss=0.10, val_accuracy=0.98\n",
      "\n",
      "epoch=6\n",
      "training_loss=0.03, training_accuracy= 0.99\n",
      "Validation: val_loss=0.11, val_accuracy=0.98\n",
      "\n",
      "epoch=7\n",
      "training_loss=0.02, training_accuracy= 0.99\n",
      "Validation: val_loss=0.11, val_accuracy=0.98\n",
      "\n",
      "epoch=8\n",
      "training_loss=0.02, training_accuracy= 0.99\n",
      "Validation: val_loss=0.11, val_accuracy=0.98\n",
      "\n",
      "epoch=9\n",
      "training_loss=0.02, training_accuracy= 0.99\n",
      "Validation: val_loss=0.11, val_accuracy=0.98\n",
      "\n",
      "epoch=10\n",
      "training_loss=0.02, training_accuracy= 0.99\n",
      "Validation: val_loss=0.13, val_accuracy=0.98\n",
      "\n"
     ]
    },
    {
     "data": {
      "text/html": [
       "<br/>Waiting for W&B process to finish, PID 707874... <strong style=\"color:green\">(success).</strong>"
      ],
      "text/plain": [
       "<IPython.core.display.HTML object>"
      ]
     },
     "metadata": {},
     "output_type": "display_data"
    },
    {
     "data": {
      "application/vnd.jupyter.widget-view+json": {
       "model_id": "",
       "version_major": 2,
       "version_minor": 0
      },
      "text/plain": [
       "VBox(children=(Label(value=' 0.00MB of 0.00MB uploaded (0.00MB deduped)\\r'), FloatProgress(value=1.0, max=1.0)…"
      ]
     },
     "metadata": {},
     "output_type": "display_data"
    },
    {
     "data": {
      "text/html": [
       "<style>\n",
       "    table.wandb td:nth-child(1) { padding: 0 10px; text-align: right }\n",
       "    .wandb-row { display: flex; flex-direction: row; flex-wrap: wrap; width: 100% }\n",
       "    .wandb-col { display: flex; flex-direction: column; flex-basis: 100%; flex: 1; padding: 10px; }\n",
       "    </style>\n",
       "<div class=\"wandb-row\"><div class=\"wandb-col\">\n",
       "<h3>Run history:</h3><br/><table class=\"wandb\"><tr><td>epoch</td><td>▁▂▃▃▄▅▆▆▇█</td></tr><tr><td>test_accuracy</td><td>▁</td></tr><tr><td>test_loss</td><td>▁</td></tr><tr><td>train_accuracy</td><td>▁▅▇▇▇█████</td></tr><tr><td>train_loss</td><td>█▄▂▂▂▁▁▁▁▁</td></tr><tr><td>val_accuracy</td><td>▁▂▄▆▆▅▇▆█▇</td></tr><tr><td>val_loss</td><td>▃▂▁▃▁▅▄▃▄█</td></tr></table><br/></div><div class=\"wandb-col\">\n",
       "<h3>Run summary:</h3><br/><table class=\"wandb\"><tr><td>epoch</td><td>10</td></tr><tr><td>test_accuracy</td><td>0.9761</td></tr><tr><td>test_loss</td><td>0.11853</td></tr><tr><td>train_accuracy</td><td>0.99365</td></tr><tr><td>train_loss</td><td>0.01934</td></tr><tr><td>val_accuracy</td><td>0.97717</td></tr><tr><td>val_loss</td><td>0.13219</td></tr></table>\n",
       "</div></div>\n",
       "Synced 6 W&B file(s), 0 media file(s), 0 artifact file(s) and 0 other file(s)\n",
       "<br/>Synced <strong style=\"color:#cdcd00\">spring-sweep-21</strong>: <a href=\"https://wandb.ai/cookie303/Assignment1/runs/355049kj\" target=\"_blank\">https://wandb.ai/cookie303/Assignment1/runs/355049kj</a><br/>\n",
       "Find logs at: <code>./wandb/run-20220225_180027-355049kj/logs</code><br/>\n"
      ],
      "text/plain": [
       "<IPython.core.display.HTML object>"
      ]
     },
     "metadata": {},
     "output_type": "display_data"
    },
    {
     "name": "stderr",
     "output_type": "stream",
     "text": [
      "\u001b[34m\u001b[1mwandb\u001b[0m: Agent Starting Run: qfrdf7v0 with config:\n",
      "\u001b[34m\u001b[1mwandb\u001b[0m: \tbatch_size: 16\n",
      "\u001b[34m\u001b[1mwandb\u001b[0m: \tnum_hidden_neurons: 256\n",
      "\u001b[34m\u001b[1mwandb\u001b[0m: \tnum_layers: 3\n",
      "\u001b[34m\u001b[1mwandb\u001b[0m: \tweight_decay: 0\n",
      "2022-02-25 18:04:00.667744: W tensorflow/stream_executor/platform/default/dso_loader.cc:64] Could not load dynamic library 'libcudart.so.11.0'; dlerror: libcudart.so.11.0: cannot open shared object file: No such file or directory\n",
      "2022-02-25 18:04:00.667767: I tensorflow/stream_executor/cuda/cudart_stub.cc:29] Ignore above cudart dlerror if you do not have a GPU set up on your machine.\n"
     ]
    },
    {
     "data": {
      "text/html": [
       "\n",
       "                    Syncing run <strong><a href=\"https://wandb.ai/cookie303/Assignment1/runs/qfrdf7v0\" target=\"_blank\">rosy-sweep-22</a></strong> to <a href=\"https://wandb.ai/cookie303/Assignment1\" target=\"_blank\">Weights & Biases</a> (<a href=\"https://docs.wandb.com/integrations/jupyter.html\" target=\"_blank\">docs</a>).<br/>\n",
       "Sweep page: <a href=\"https://wandb.ai/cookie303/Assignment1/sweeps/mvcqeh0x\" target=\"_blank\">https://wandb.ai/cookie303/Assignment1/sweeps/mvcqeh0x</a><br/>\n",
       "\n",
       "                "
      ],
      "text/plain": [
       "<IPython.core.display.HTML object>"
      ]
     },
     "metadata": {},
     "output_type": "display_data"
    },
    {
     "name": "stdout",
     "output_type": "stream",
     "text": [
      "epoch=1\n",
      "training_loss=0.20, training_accuracy= 0.94\n",
      "Validation: val_loss=0.11, val_accuracy=0.97\n",
      "\n",
      "epoch=2\n",
      "training_loss=0.08, training_accuracy= 0.97\n",
      "Validation: val_loss=0.09, val_accuracy=0.97\n",
      "\n",
      "epoch=3\n",
      "training_loss=0.06, training_accuracy= 0.98\n",
      "Validation: val_loss=0.09, val_accuracy=0.97\n",
      "\n",
      "epoch=4\n",
      "training_loss=0.04, training_accuracy= 0.99\n",
      "Validation: val_loss=0.11, val_accuracy=0.97\n",
      "\n",
      "epoch=5\n",
      "training_loss=0.03, training_accuracy= 0.99\n",
      "Validation: val_loss=0.11, val_accuracy=0.98\n",
      "\n",
      "epoch=6\n",
      "training_loss=0.03, training_accuracy= 0.99\n",
      "Validation: val_loss=0.12, val_accuracy=0.97\n",
      "\n",
      "epoch=7\n",
      "training_loss=0.02, training_accuracy= 0.99\n",
      "Validation: val_loss=0.12, val_accuracy=0.98\n",
      "\n",
      "epoch=8\n",
      "training_loss=0.02, training_accuracy= 0.99\n",
      "Validation: val_loss=0.10, val_accuracy=0.98\n",
      "\n",
      "epoch=9\n",
      "training_loss=0.02, training_accuracy= 0.99\n",
      "Validation: val_loss=0.11, val_accuracy=0.98\n",
      "\n",
      "epoch=10\n",
      "training_loss=0.02, training_accuracy= 0.99\n",
      "Validation: val_loss=0.11, val_accuracy=0.98\n",
      "\n"
     ]
    },
    {
     "data": {
      "text/html": [
       "<br/>Waiting for W&B process to finish, PID 707970... <strong style=\"color:green\">(success).</strong>"
      ],
      "text/plain": [
       "<IPython.core.display.HTML object>"
      ]
     },
     "metadata": {},
     "output_type": "display_data"
    },
    {
     "data": {
      "application/vnd.jupyter.widget-view+json": {
       "model_id": "",
       "version_major": 2,
       "version_minor": 0
      },
      "text/plain": [
       "VBox(children=(Label(value=' 0.00MB of 0.00MB uploaded (0.00MB deduped)\\r'), FloatProgress(value=1.0, max=1.0)…"
      ]
     },
     "metadata": {},
     "output_type": "display_data"
    },
    {
     "data": {
      "text/html": [
       "<style>\n",
       "    table.wandb td:nth-child(1) { padding: 0 10px; text-align: right }\n",
       "    .wandb-row { display: flex; flex-direction: row; flex-wrap: wrap; width: 100% }\n",
       "    .wandb-col { display: flex; flex-direction: column; flex-basis: 100%; flex: 1; padding: 10px; }\n",
       "    </style>\n",
       "<div class=\"wandb-row\"><div class=\"wandb-col\">\n",
       "<h3>Run history:</h3><br/><table class=\"wandb\"><tr><td>epoch</td><td>▁▂▃▃▄▅▆▆▇█</td></tr><tr><td>test_accuracy</td><td>▁</td></tr><tr><td>test_loss</td><td>▁</td></tr><tr><td>train_accuracy</td><td>▁▅▆▇▇█████</td></tr><tr><td>train_loss</td><td>█▄▂▂▂▁▁▁▁▁</td></tr><tr><td>val_accuracy</td><td>▁▃▅▃▆▅███▇</td></tr><tr><td>val_loss</td><td>▄▁▁▅▄▇█▃▄▅</td></tr></table><br/></div><div class=\"wandb-col\">\n",
       "<h3>Run summary:</h3><br/><table class=\"wandb\"><tr><td>epoch</td><td>10</td></tr><tr><td>test_accuracy</td><td>0.977</td></tr><tr><td>test_loss</td><td>0.11135</td></tr><tr><td>train_accuracy</td><td>0.99426</td></tr><tr><td>train_loss</td><td>0.0194</td></tr><tr><td>val_accuracy</td><td>0.97717</td></tr><tr><td>val_loss</td><td>0.11348</td></tr></table>\n",
       "</div></div>\n",
       "Synced 6 W&B file(s), 0 media file(s), 0 artifact file(s) and 0 other file(s)\n",
       "<br/>Synced <strong style=\"color:#cdcd00\">rosy-sweep-22</strong>: <a href=\"https://wandb.ai/cookie303/Assignment1/runs/qfrdf7v0\" target=\"_blank\">https://wandb.ai/cookie303/Assignment1/runs/qfrdf7v0</a><br/>\n",
       "Find logs at: <code>./wandb/run-20220225_180359-qfrdf7v0/logs</code><br/>\n"
      ],
      "text/plain": [
       "<IPython.core.display.HTML object>"
      ]
     },
     "metadata": {},
     "output_type": "display_data"
    }
   ],
   "source": [
    "wandb.agent(sweep_id, sweep, count=20)"
   ]
  },
  {
   "cell_type": "code",
   "execution_count": null,
   "metadata": {},
   "outputs": [],
   "source": [
    "wandb.finish(\n",
    "    exit_code = 0,\n",
    "    quiet = True\n",
    ")"
   ]
  },
  {
   "cell_type": "code",
   "execution_count": null,
   "metadata": {},
   "outputs": [],
   "source": []
  },
  {
   "cell_type": "markdown",
   "metadata": {},
   "source": [
    "# Acknowledgments and References\n"
   ]
  },
  {
   "cell_type": "code",
   "execution_count": null,
   "metadata": {},
   "outputs": [],
   "source": []
  }
 ],
 "metadata": {
  "interpreter": {
   "hash": "afc937a5dc3035940c03bf6fd1d4e50555088d8156e483a9eef9e9db8bd7b953"
  },
  "kernelspec": {
   "display_name": "Python 3 (ipykernel)",
   "language": "python",
   "name": "python3"
  },
  "language_info": {
   "codemirror_mode": {
    "name": "ipython",
    "version": 3
   },
   "file_extension": ".py",
   "mimetype": "text/x-python",
   "name": "python",
   "nbconvert_exporter": "python",
   "pygments_lexer": "ipython3",
   "version": "3.9.7"
  }
 },
 "nbformat": 4,
 "nbformat_minor": 2
}
