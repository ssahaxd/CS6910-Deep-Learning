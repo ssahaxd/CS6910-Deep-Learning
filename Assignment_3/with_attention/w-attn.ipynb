{
 "cells": [
  {
   "cell_type": "markdown",
   "id": "7536e853",
   "metadata": {
    "id": "MXpCf68lW7eg",
    "papermill": {
     "duration": 0.043945,
     "end_time": "2022-05-23T10:48:50.745014",
     "exception": false,
     "start_time": "2022-05-23T10:48:50.701069",
     "status": "completed"
    },
    "tags": []
   },
   "source": [
    "# Downloading dataset"
   ]
  },
  {
   "cell_type": "code",
   "execution_count": 1,
   "id": "b1e596ce",
   "metadata": {
    "execution": {
     "iopub.execute_input": "2022-05-23T10:48:50.830496Z",
     "iopub.status.busy": "2022-05-23T10:48:50.829930Z",
     "iopub.status.idle": "2022-05-23T10:49:18.110852Z",
     "shell.execute_reply": "2022-05-23T10:49:18.109630Z"
    },
    "id": "anLHOjMmcDNp",
    "outputId": "96b81abc-cb84-4726-c64c-15f14f75798d",
    "papermill": {
     "duration": 27.326952,
     "end_time": "2022-05-23T10:49:18.113808",
     "exception": false,
     "start_time": "2022-05-23T10:48:50.786856",
     "status": "completed"
    },
    "tags": []
   },
   "outputs": [],
   "source": [
    "# Download and untar data\n",
    "!wget -q -O \"dakshina_dataset_v1.0.tar\" \"https://storage.googleapis.com/gresearch/dakshina/dakshina_dataset_v1.0.tar\" \n",
    "!tar -xf dakshina_dataset_v1.0.tar\n",
    "!rm dakshina_dataset_v1.0.tar"
   ]
  },
  {
   "cell_type": "code",
   "execution_count": 2,
   "id": "9b4548c7",
   "metadata": {
    "execution": {
     "iopub.execute_input": "2022-05-23T10:49:21.470341Z",
     "iopub.status.busy": "2022-05-23T10:49:21.469248Z",
     "iopub.status.idle": "2022-05-23T10:49:25.410832Z",
     "shell.execute_reply": "2022-05-23T10:49:25.409632Z"
    },
    "id": "v6Ixguaue_fq",
    "outputId": "47a4c86a-3482-4274-d45a-66d0954a564f",
    "papermill": {
     "duration": 7.255615,
     "end_time": "2022-05-23T10:49:25.413852",
     "exception": false,
     "start_time": "2022-05-23T10:49:18.158237",
     "status": "completed"
    },
    "tags": []
   },
   "outputs": [
    {
     "name": "stdout",
     "output_type": "stream",
     "text": [
      "hi.translit.sampled.dev.tsv   hi.translit.sampled.train.tsv\r\n",
      "hi.translit.sampled.test.tsv\r\n",
      "44204 dakshina_dataset_v1.0/hi/lexicons/hi.translit.sampled.train.tsv\r\n",
      "4502 dakshina_dataset_v1.0/hi/lexicons/hi.translit.sampled.test.tsv\r\n",
      "4358 dakshina_dataset_v1.0/hi/lexicons/hi.translit.sampled.dev.tsv\r\n",
      "अं\tan\t3\r\n",
      "अंकगणित\tankganit\t3\r\n",
      "अंकल\tuncle\t4\r\n",
      "अंकुर\tankur\t4\r\n",
      "अंकुरण\tankuran\t3\r\n",
      "अंकुरित\tankurit\t3\r\n",
      "अंकुश\taankush\t1\r\n",
      "अंकुश\tankush\t3\r\n",
      "अंग\tang\t2\r\n",
      "अंग\tanga\t1\r\n",
      "cat: write error: Broken pipe\r\n"
     ]
    }
   ],
   "source": [
    "# The folder containing the datasets to be used in this program\n",
    "!ls dakshina_dataset_v1.0/hi/lexicons\n",
    "!wc -l dakshina_dataset_v1.0/hi/lexicons/hi.translit.sampled.train.tsv\n",
    "!wc -l dakshina_dataset_v1.0/hi/lexicons/hi.translit.sampled.test.tsv\n",
    "!wc -l dakshina_dataset_v1.0/hi/lexicons/hi.translit.sampled.dev.tsv\n",
    "!cat dakshina_dataset_v1.0/hi/lexicons/hi.translit.sampled.train.tsv | head"
   ]
  },
  {
   "cell_type": "code",
   "execution_count": 3,
   "id": "48672e23",
   "metadata": {
    "execution": {
     "iopub.execute_input": "2022-05-23T10:49:25.504765Z",
     "iopub.status.busy": "2022-05-23T10:49:25.503819Z",
     "iopub.status.idle": "2022-05-23T10:49:33.597170Z",
     "shell.execute_reply": "2022-05-23T10:49:33.595936Z"
    },
    "papermill": {
     "duration": 8.141377,
     "end_time": "2022-05-23T10:49:33.600009",
     "exception": false,
     "start_time": "2022-05-23T10:49:25.458632",
     "status": "completed"
    },
    "tags": []
   },
   "outputs": [],
   "source": [
    "from __future__ import print_function\n",
    "\n",
    "import os\n",
    "import csv\n",
    "import yaml\n",
    "import json\n",
    "import matplotlib.pyplot as plt\n",
    "import numpy as np\n",
    "\n",
    "\n",
    "import tensorflow as tf\n",
    "import tensorflow.keras as keras\n",
    "from keras.utils.vis_utils import plot_model\n",
    "from tensorflow.keras.callbacks import EarlyStopping\n",
    "from tensorflow.keras.metrics import categorical_crossentropy\n",
    "from tensorflow.keras.optimizers import Adam, SGD, RMSprop, Nadam\n",
    "from keras.layers import Layer\n",
    "import keras.backend as K\n",
    "\n",
    "import wandb\n",
    "from wandb.keras import WandbCallback\n",
    "\n",
    "from IPython.display import display\n",
    "from IPython.display import HTML as html_print\n",
    "\n",
    "\n",
    "from ipywidgets import interact, Layout, IntSlider\n",
    "import ipywidgets as widgets"
   ]
  },
  {
   "cell_type": "markdown",
   "id": "defc4816",
   "metadata": {
    "id": "_FO2RelRXDhc",
    "papermill": {
     "duration": 0.043302,
     "end_time": "2022-05-23T10:49:33.687881",
     "exception": false,
     "start_time": "2022-05-23T10:49:33.644579",
     "status": "completed"
    },
    "tags": []
   },
   "source": [
    "# Reading and processing data"
   ]
  },
  {
   "cell_type": "code",
   "execution_count": 4,
   "id": "4d57c84c",
   "metadata": {
    "execution": {
     "iopub.execute_input": "2022-05-23T10:49:33.858132Z",
     "iopub.status.busy": "2022-05-23T10:49:33.856292Z",
     "iopub.status.idle": "2022-05-23T10:49:33.879566Z",
     "shell.execute_reply": "2022-05-23T10:49:33.874870Z"
    },
    "id": "FrQotNMVPnSb",
    "papermill": {
     "duration": 0.120402,
     "end_time": "2022-05-23T10:49:33.882585",
     "exception": false,
     "start_time": "2022-05-23T10:49:33.762183",
     "status": "completed"
    },
    "tags": []
   },
   "outputs": [],
   "source": [
    "\n",
    "os.environ[\"WANDB_API_KEY\"] = \"f058e3418fb166c3bee2d5131ef0bcc4b642793f\"\n",
    "\n",
    "START_CHAR   = '\\t'\n",
    "END_CHAR     = '\\n'\n",
    "BLANK_CHAR   = ' '\n",
    "ln           = 'hi'\n",
    "\n",
    "root      = f\"dakshina_dataset_v1.0/{ln}/lexicons/\"\n",
    "train_dir = f\"dakshina_dataset_v1.0/{ln}/lexicons/{ln}.translit.sampled.train.tsv\"\n",
    "test_dir  = f\"dakshina_dataset_v1.0/{ln}/lexicons/{ln}.translit.sampled.test.tsv\"\n",
    "val_dir   = f\"dakshina_dataset_v1.0/{ln}/lexicons/{ln}.translit.sampled.dev.tsv\""
   ]
  },
  {
   "cell_type": "code",
   "execution_count": 5,
   "id": "f0f260ad",
   "metadata": {
    "execution": {
     "iopub.execute_input": "2022-05-23T10:49:34.060989Z",
     "iopub.status.busy": "2022-05-23T10:49:34.060594Z",
     "iopub.status.idle": "2022-05-23T10:49:34.099371Z",
     "shell.execute_reply": "2022-05-23T10:49:34.098261Z"
    },
    "id": "3-xkKp8jY8Q9",
    "papermill": {
     "duration": 0.118226,
     "end_time": "2022-05-23T10:49:34.102322",
     "exception": false,
     "start_time": "2022-05-23T10:49:33.984096",
     "status": "completed"
    },
    "tags": []
   },
   "outputs": [],
   "source": [
    "def read_data(data_path, characters = False):\n",
    "    # Returns the (input, output) pair from the dataset\n",
    "    # If characters == True, the input/output sample would be in the form list of characters, else as string\n",
    "\n",
    "    with open(data_path, \"r\", encoding=\"utf-8\") as f:\n",
    "        lines = [line.split(\"\\t\") for line in f.read().split(\"\\n\") if line != '']\n",
    "    \n",
    "    input, target = [val[1] for val in lines], [val[0] for val in lines]\n",
    "    if characters:\n",
    "        input, target = [list(inp_str) for inp_str in input], [list(tar_str) for tar_str in target]\n",
    "    return input, target\n",
    "\n",
    "\n",
    "def process_data(input, enc_timesteps, input_char_enc, target = None, dec_timesteps = None, target_char_enc = None):\n",
    "    # Returns the input and target data in a form needed by the Keras embedding layer (i.e) \n",
    "    # decoder_input & encoder_input -- (None, timesteps) where each character is encoded by an integer\n",
    "    # decoder_output -- (None, timesteps, vocabulary size) where the last dimension is the one-hot encoding\n",
    "\n",
    "    # BLANK_CHAR -- space (equivalent to no meaningful input / blank input)\n",
    "    encoder_input = np.array([[input_char_enc[ch] for ch in string] + [input_char_enc[BLANK_CHAR]] * (enc_timesteps - len(string)) for string in input])\n",
    "\n",
    "    decoder_input, decoder_target = None, None\n",
    "    if target is not None and dec_timesteps is not None and target_char_enc is not None:\n",
    "        # START_CHAR -- start of sequence, END_CHAR -- end of sequence\n",
    "        decoder_input = np.array([[target_char_enc[START_CHAR]] + [target_char_enc[ch] for ch in string] + [target_char_enc[END_CHAR]] \n",
    "                                    + [target_char_enc[BLANK_CHAR]] * (dec_timesteps - len(string) - 2) for string in target])\n",
    "        decoder_target = np.zeros((decoder_input.shape[0], dec_timesteps, len(target_char_enc)), dtype='float32')\n",
    "\n",
    "        for i in range(decoder_input.shape[0]):\n",
    "            for t, char_ind in enumerate(decoder_input[i]):\n",
    "                if t > 0:\n",
    "                    decoder_target[i,t-1,char_ind] = 1.0\n",
    "            decoder_target[i,t:,target_char_enc[BLANK_CHAR]] = 1.0\n",
    "\n",
    "    return encoder_input, decoder_input, decoder_target\n",
    "\n",
    "\n",
    "def encode_decode_characters(train_input, train_target, val_input, val_target):\n",
    "    # Returns the encoding for characters to integer (as a dictionary) and decoding for integers to characters (as a list) for input and target data\n",
    "\n",
    "    # Encoding and decoding of input vocabulary\n",
    "    input_char_enc = {}\n",
    "    input_char_dec = []\n",
    "    max_encoder_seq_length = 1\n",
    "    for string in train_input + val_input:\n",
    "        max_encoder_seq_length = max(max_encoder_seq_length, len(string))\n",
    "        for char in string:\n",
    "            if char not in input_char_enc:\n",
    "                input_char_enc[char] = len(input_char_dec)\n",
    "                input_char_dec.append(char)\n",
    "    if BLANK_CHAR not in input_char_enc:\n",
    "        input_char_enc[BLANK_CHAR] = len(input_char_dec)\n",
    "        input_char_dec.append(BLANK_CHAR)\n",
    "\n",
    "    # Encoding and decoding of target vocabulary\n",
    "    target_char_enc = {}\n",
    "    target_char_dec = []\n",
    "    target_char_enc[START_CHAR] = len(target_char_dec)\n",
    "    target_char_dec.append(START_CHAR)\n",
    "    max_decoder_seq_length = 1\n",
    "    for string in train_target + val_target:\n",
    "        max_decoder_seq_length = max(max_decoder_seq_length, len(string)+2)\n",
    "        for char in string:\n",
    "            if char not in target_char_enc:\n",
    "                target_char_enc[char] = len(target_char_dec)\n",
    "                target_char_dec.append(char)\n",
    "    target_char_enc[END_CHAR] = len(target_char_dec)\n",
    "    target_char_dec.append(END_CHAR)\n",
    "    if ' ' not in target_char_enc:\n",
    "        target_char_enc[BLANK_CHAR] = len(target_char_dec)\n",
    "        target_char_dec.append(BLANK_CHAR)\n",
    "\n",
    "    print(\"Number of training samples:\", len(train_input))\n",
    "    print(\"Number of validation samples:\", len(val_input))\n",
    "    print(\"Number of unique input tokens:\", len(input_char_dec))\n",
    "    print(\"Number of unique output tokens:\", len(target_char_dec))\n",
    "    print(\"Max sequence length for inputs:\", max_encoder_seq_length)\n",
    "    print(\"Max sequence length for outputs:\", max_decoder_seq_length)\n",
    "\n",
    "    return input_char_enc, input_char_dec, target_char_enc, target_char_dec, max_encoder_seq_length, max_decoder_seq_length"
   ]
  },
  {
   "cell_type": "code",
   "execution_count": 6,
   "id": "d12747b9",
   "metadata": {
    "execution": {
     "iopub.execute_input": "2022-05-23T10:49:34.252126Z",
     "iopub.status.busy": "2022-05-23T10:49:34.251679Z",
     "iopub.status.idle": "2022-05-23T10:49:36.283896Z",
     "shell.execute_reply": "2022-05-23T10:49:36.282951Z"
    },
    "id": "97ou-pxE9gCQ",
    "outputId": "7c1fc900-4f17-4e07-b44b-47b286c2fd03",
    "papermill": {
     "duration": 2.110307,
     "end_time": "2022-05-23T10:49:36.286678",
     "exception": false,
     "start_time": "2022-05-23T10:49:34.176371",
     "status": "completed"
    },
    "tags": []
   },
   "outputs": [
    {
     "name": "stdout",
     "output_type": "stream",
     "text": [
      "Number of training samples: 44204\n",
      "Number of validation samples: 4358\n",
      "Number of unique input tokens: 27\n",
      "Number of unique output tokens: 66\n",
      "Max sequence length for inputs: 20\n",
      "Max sequence length for outputs: 21\n"
     ]
    }
   ],
   "source": [
    "input_char_enc = {}\n",
    "input_char_dec = []\n",
    "target_char_enc = {}\n",
    "target_char_dec = []\n",
    "max_encoder_seq_length = 0\n",
    "max_decoder_seq_length = 0\n",
    "\n",
    "\n",
    "# Reading training, validation and test data\n",
    "train_inp, train_out = read_data('./dakshina_dataset_v1.0/hi/lexicons/hi.translit.sampled.train.tsv')\n",
    "val_inp, val_out = read_data('./dakshina_dataset_v1.0/hi/lexicons/hi.translit.sampled.dev.tsv')\n",
    "test_inp, test_out = read_data('./dakshina_dataset_v1.0/hi/lexicons/hi.translit.sampled.dev.tsv')\n",
    "\n",
    "\n",
    "# Assigning encoding and decoding for input and target characters\n",
    "input_char_enc, input_char_dec, target_char_enc, target_char_dec, max_encoder_seq_length, max_decoder_seq_length = encode_decode_characters(\n",
    "    train_inp, train_out, val_inp, val_out)\n",
    "\n",
    "# Assigning training, validation and test encoder input, decoder input, decoder output\n",
    "train_enc_input, train_dec_input, train_dec_target = process_data(train_inp, max_encoder_seq_length, input_char_enc, train_out, \n",
    "                                                                  max_decoder_seq_length, target_char_enc)\n",
    "val_enc_input, val_dec_input, val_dec_target = process_data(val_inp, max_encoder_seq_length, input_char_enc, val_out, \n",
    "                                                            max_decoder_seq_length, target_char_enc)\n",
    "test_enc_input, test_dec_input, test_dec_target = process_data(test_inp, max_encoder_seq_length, input_char_enc, test_out, \n",
    "                                                               max_decoder_seq_length, target_char_enc)\n"
   ]
  },
  {
   "cell_type": "code",
   "execution_count": 7,
   "id": "97fe3ce0",
   "metadata": {
    "execution": {
     "iopub.execute_input": "2022-05-23T10:49:36.375541Z",
     "iopub.status.busy": "2022-05-23T10:49:36.375198Z",
     "iopub.status.idle": "2022-05-23T10:49:36.386444Z",
     "shell.execute_reply": "2022-05-23T10:49:36.385464Z"
    },
    "papermill": {
     "duration": 0.058573,
     "end_time": "2022-05-23T10:49:36.388743",
     "exception": false,
     "start_time": "2022-05-23T10:49:36.330170",
     "status": "completed"
    },
    "tags": []
   },
   "outputs": [],
   "source": [
    "def convert_to_word(predictions, char_enc, char_dec = None):\n",
    "    # Function to return the predictions after cutting the END_CHAR and BLANK_CHAR s at the end.\n",
    "    # If char_dec == None, the predictions are in the form of decoded string, otherwise as list of integers\n",
    "    no_samples = len(predictions) if type(predictions) is list else predictions.shape[0]\n",
    "    pred_words = ['' for _ in range(no_samples)]\n",
    "    for i, pred_list in enumerate(predictions):\n",
    "        for l in pred_list:\n",
    "            # Stop word : END_CHAR\n",
    "            if l == char_enc[END_CHAR]:\n",
    "                break\n",
    "            pred_words[i] += char_dec[l] if char_dec is not None else l\n",
    "    \n",
    "    return pred_words\n",
    "\n",
    "def levenshtein(s1, s2):\n",
    "    if len(s1) > len(s2):\n",
    "        s1, s2 = s2, s1\n",
    "\n",
    "    distances = range(len(s1) + 1)\n",
    "    for i2, c2 in enumerate(s2):\n",
    "        distances_ = [i2+1]\n",
    "        for i1, c1 in enumerate(s1):\n",
    "            if c1 == c2:\n",
    "                distances_.append(distances[i1])\n",
    "            else:\n",
    "                distances_.append(\n",
    "                    1 + min((distances[i1], distances[i1 + 1], distances_[-1])))\n",
    "        distances = distances_\n",
    "    return distances[-1]"
   ]
  },
  {
   "cell_type": "markdown",
   "id": "aa14e14d",
   "metadata": {
    "papermill": {
     "duration": 0.042935,
     "end_time": "2022-05-23T10:49:36.475345",
     "exception": false,
     "start_time": "2022-05-23T10:49:36.432410",
     "status": "completed"
    },
    "tags": []
   },
   "source": [
    "# Logging into W&B"
   ]
  },
  {
   "cell_type": "code",
   "execution_count": 8,
   "id": "0cf37503",
   "metadata": {
    "execution": {
     "iopub.execute_input": "2022-05-23T10:49:36.562280Z",
     "iopub.status.busy": "2022-05-23T10:49:36.561886Z",
     "iopub.status.idle": "2022-05-23T10:49:39.128051Z",
     "shell.execute_reply": "2022-05-23T10:49:39.126889Z"
    },
    "id": "u-PJvBWTXsky",
    "outputId": "9e12900a-eeca-4c8b-9cad-69eb02028e16",
    "papermill": {
     "duration": 2.612693,
     "end_time": "2022-05-23T10:49:39.130829",
     "exception": false,
     "start_time": "2022-05-23T10:49:36.518136",
     "status": "completed"
    },
    "tags": []
   },
   "outputs": [
    {
     "name": "stdout",
     "output_type": "stream",
     "text": [
      "\u001b[34m\u001b[1mwandb\u001b[0m: Appending key for api.wandb.ai to your netrc file: /root/.netrc\r\n"
     ]
    }
   ],
   "source": [
    "!wandb login f058e3418fb166c3bee2d5131ef0bcc4b642793f"
   ]
  },
  {
   "cell_type": "code",
   "execution_count": 9,
   "id": "c2c31203",
   "metadata": {
    "execution": {
     "iopub.execute_input": "2022-05-23T10:49:39.223377Z",
     "iopub.status.busy": "2022-05-23T10:49:39.223028Z",
     "iopub.status.idle": "2022-05-23T10:49:39.272517Z",
     "shell.execute_reply": "2022-05-23T10:49:39.271343Z"
    },
    "id": "qfvzFIUKdYAw",
    "papermill": {
     "duration": 0.098819,
     "end_time": "2022-05-23T10:49:39.274864",
     "exception": false,
     "start_time": "2022-05-23T10:49:39.176045",
     "status": "completed"
    },
    "tags": []
   },
   "outputs": [],
   "source": [
    "\n",
    "def beam_decoder_infer(model, input_seqs, max_decoder_timesteps, K=1, target_seqs=None, starting_char_enc=0, batch_size=64, attention=False):\n",
    "    '''\n",
    "    Function to do inference on the model using beam decoder.\n",
    "    Arguments :\n",
    "        model -- (Keras model object) training model\n",
    "        input_seqs -- (numpy ndarray of size : (None, timesteps)) input to encoder\n",
    "        max_decoder_timesteps -- (int) Number of timesteps to infer in decoder\n",
    "        K -- (int, default : 1) beam width of beam decoder\n",
    "        target_seqs -- (numpy ndarray of size : (None, timesteps, decoder_vocab_size), deault : None) expected target.\n",
    "                       If None, cross entropy errors won't be calculated.\n",
    "        starting_char_enc -- (int, default : 0) Encoding integer for START_CHAR\n",
    "        batch_size -- (int, default : 64) batch_size sent to Keras predict\n",
    "        attention -- (bool, defualt : False) whether the model has attention or not\n",
    "    Returns :\n",
    "        final_outputs -- (numpy ndarray of size : (None, K, timesteps)) top K output sequences\n",
    "        final_errors -- (numpy ndarray of size : (None, K)) cross entropy errors for top K output (All zeros if target_seqs == None)\n",
    "        states_values -- (numpy ndarray of size : (K, None, timesteps, hid_layer_size))  hidden states of decoder\n",
    "        final_attn_scores -- (numpy ndarray of size : (None, K, decoder_timesteps, encoder_timesteps)) attention to all encoder timesteps for a decoder timestep \n",
    "    '''\n",
    "\n",
    "    encoder_model, decoder_model, no_enc_layers, no_dec_layers = create_attention_inference_model(model)\n",
    "    encoder_output = encoder_model.predict(input_seqs, batch_size=batch_size)\n",
    "    encoder_out = encoder_output if type(encoder_output) is list else [encoder_output]\n",
    "\n",
    "    # Number of input samples in the data passed\n",
    "    no_samples = input_seqs.shape[0]\n",
    "\n",
    "    # Top K output sequences for each input\n",
    "    final_outputs = np.zeros(\n",
    "        (no_samples, K, max_decoder_timesteps), dtype=np.int32)\n",
    "    # Errors for top K output sequences for each input\n",
    "    final_errors = np.zeros((no_samples, K))\n",
    "    # Attention scores for top K output sequences for each input\n",
    "    final_attn_scores = np.zeros(\n",
    "        (no_samples, K, max_decoder_timesteps, input_seqs.shape[1]))\n",
    "\n",
    "    # decoder input sequence for 1 timestep (for all samples). Initially one choice only there\n",
    "    decoder_k_inputs = np.zeros((no_samples, 1, 1))\n",
    "    # Populate the input sequence with the start character at the 1st timestep\n",
    "    decoder_k_inputs[:, :, 0] = starting_char_enc\n",
    "\n",
    "    # (log(probability) sequence, decoder output sequence) pairs for all choices and all samples. Probability starts with log(1) = 0\n",
    "    decoder_k_out = [[(0, [])] for _ in range(no_samples)]\n",
    "    # Categorical cross entropy error in the sequence for all choice and all samples\n",
    "    errors = [[0] for _ in range(no_samples)]\n",
    "    # Output states from decoder for all choices, and all samples\n",
    "    states_values = [encoder_out * no_dec_layers]\n",
    "\n",
    "    # Attention weights output\n",
    "    attn_k_scores = [[None] for _ in range(no_samples)]\n",
    "\n",
    "    # Sampling loop\n",
    "    for it in range(max_decoder_timesteps):\n",
    "        # Storing respective data for all possibilities\n",
    "        All_k_beams = [[] for _ in range(no_samples)]\n",
    "        All_decoder_states = [[] for _ in range(no_samples)]\n",
    "        All_errors = [[] for _ in range(no_samples)]\n",
    "        All_attn_scores = [[] for _ in range(no_samples)]\n",
    "\n",
    "        for k in range(len(decoder_k_out[0])):\n",
    "            if attention:\n",
    "                attn_score, decoder_output, *decoder_states = decoder_model.predict(\n",
    "                    [input_seqs, decoder_k_inputs[:, k]] + states_values[k], batch_size=batch_size)\n",
    "            else:\n",
    "                decoder_output, *decoder_states = decoder_model.predict(\n",
    "                    [decoder_k_inputs[:, k]] + states_values[k], batch_size=batch_size)\n",
    "\n",
    "            # Top K scores\n",
    "            top_k = np.argsort(decoder_output[:, -1, :], axis=-1)[:, -K:]\n",
    "            for b in range(no_samples):\n",
    "                All_k_beams[b] += [(\n",
    "                    decoder_k_out[b][k][0] +\n",
    "                    np.log(decoder_output[b, -1, top_k[b][i]]),\n",
    "                    decoder_k_out[b][k][1] + [top_k[b][i]]\n",
    "                ) for i in range(K)]\n",
    "\n",
    "                if attention:\n",
    "                    All_attn_scores[b] += [attn_score[b]] * K if attn_k_scores[b][k] is None else [\n",
    "                        np.concatenate((attn_k_scores[b][k], attn_score[b]), axis=0)] * K\n",
    "\n",
    "                if target_seqs is not None:\n",
    "                    All_errors[b] += [errors[b][k] -\n",
    "                                      np.log(decoder_output[b, -1, target_seqs[b, it]])] * K\n",
    "\n",
    "                All_decoder_states[b] += [[state[b:b+1]\n",
    "                                           for state in decoder_states]] * K\n",
    "\n",
    "        # Sort and choose top K with max probabilities\n",
    "        sorted_ind = list(range(len(All_k_beams[0])))\n",
    "        sorted_ind = [sorted(sorted_ind, key=lambda ix: All_k_beams[b]\n",
    "                             [ix][0])[-K:][::-1] for b in range(no_samples)]\n",
    "        # Choose the top K decoder output sequences till now\n",
    "        decoder_k_out = [[All_k_beams[b][ind]\n",
    "                          for ind in sorted_ind[b]] for b in range(no_samples)]\n",
    "\n",
    "        # Update the input sequence for next 1 timestep\n",
    "        decoder_k_inputs = np.array(\n",
    "            [[All_k_beams[b][ind][1][-1] for ind in sorted_ind[b]] for b in range(no_samples)])\n",
    "\n",
    "        # Update states\n",
    "        states_values = [All_decoder_states[0][ind] for ind in sorted_ind[0]]\n",
    "        for b in range(1, no_samples):\n",
    "            states_values = [[np.concatenate((states_values[i][j], All_decoder_states[b][ind][j]))\n",
    "                              for j in range(len(All_decoder_states[b][ind]))] for i, ind in enumerate(sorted_ind[b])]\n",
    "\n",
    "        # Update attention scores\n",
    "        if attention:\n",
    "            attn_k_scores = [[All_attn_scores[b][ind]\n",
    "                              for ind in sorted_ind[b]] for b in range(no_samples)]\n",
    "\n",
    "        # Update errors\n",
    "        if target_seqs is not None:\n",
    "            errors = [[All_errors[b][ind] for ind in sorted_ind[b]]\n",
    "                      for b in range(no_samples)]\n",
    "\n",
    "    final_outputs = np.array([[decoder_k_out[b][i][1]\n",
    "                             for i in range(K)] for b in range(no_samples)])\n",
    "    if target_seqs is not None:\n",
    "        final_errors = np.array(errors) / max_decoder_timesteps\n",
    "    if attention:\n",
    "        final_attn_scores = np.array(attn_k_scores)\n",
    "\n",
    "    return final_outputs, final_errors, np.array(states_values), final_attn_scores\n",
    "\n",
    "\n",
    "def calc_metrics(k_outputs, target_seqs, char_enc, char_dec, k_errors=None, exact_word=True):\n",
    "    # Calculates the accuracy (and mean error if info provided) for the best of K possible output sequences\n",
    "    # target_seqs -- Expected output (encoded sequence)\n",
    "    # k_outputs -- k choices of output sequences for each sample\n",
    "\n",
    "    matches = np.mean(k_outputs == np.repeat(target_seqs.reshape(\n",
    "        (target_seqs.shape[0], 1, target_seqs.shape[1])), k_outputs.shape[1], axis=1), axis=-1)\n",
    "    best_k = np.argmax(matches, axis=-1)\n",
    "    best_ind = (tuple(range(best_k.shape[0])), tuple(best_k))\n",
    "    accuracy = np.mean(matches[best_ind])\n",
    "\n",
    "    loss = None\n",
    "    if k_errors is not None:\n",
    "        loss = np.mean(k_errors[best_ind])\n",
    "    if exact_word:\n",
    "        equal = [0] * k_outputs.shape[0]\n",
    "        true_out = convert_to_word(target_seqs, char_enc, char_dec)\n",
    "        for k in range(k_outputs.shape[1]):\n",
    "            pred_out = convert_to_word(k_outputs[:, k], char_enc, char_dec)\n",
    "            equal = [equal[i] or (pred_out[i] == true_out[i])\n",
    "                     for i in range(k_outputs.shape[0])]\n",
    "        exact_accuracy = np.mean(equal)\n",
    "\n",
    "        return accuracy, exact_accuracy, loss\n",
    "\n",
    "    return accuracy, loss\n",
    "\n",
    "\n",
    "def beam_decoder(model, input_seqs, target_seqs_onehot, max_decoder_timesteps, char_enc, char_dec, K=1,\n",
    "                 model_batch_size=64, attention=False, infer_batch_size=512, exact_word=True, return_outputs=False,\n",
    "                 return_states=False, return_attn_scores=False):\n",
    "    '''\n",
    "    Function to calculate/capture character-wise accuracy, exact-word-match accuracy, and loss for the seq2seq model using a beam decoder.\n",
    "    Arguments :\n",
    "        model -- (Keras model object) model used for training\n",
    "        input_seqs -- (numpy ndarray of size : (None, timesteps)) input to encoder (where characters are encoded as integers)\n",
    "        target_seqs -- (numpy ndarray of size : (None, timesteps, decoder_vocab_size)) expected target in onehot format\n",
    "        max_decoder_timesteps -- (int) Number of timesteps to infer in decoder\n",
    "        char_enc -- (dict) target character encoding\n",
    "        char_dec -- (list) target character decoding\n",
    "        K -- (int, default : 1) beam width to be used in beam decoder\n",
    "        model_batch_size -- (int, default : 64) batch size to be used while evaluating model using Keras\n",
    "        attention -- (bool, defualt : False) whether the model has attention or not\n",
    "        infer_batch_size -- (int, default : 512) number of samples to be sent to beam_decoder_infer() at a time (to avoid RAM memory overshoot problems).\n",
    "                            We have set the default model_batch_size and infer_batch_size such that it takes the least time to run and runs without problems in Google Colab.\n",
    "        exact_word -- (bool, default : True) whether or not exact_accuracy has (If True, will be returned as the next argument after accuracy)\n",
    "        return_outputs -- (bool, default : True) whether or not the outputs predicted need to be returned\n",
    "        return_states -- (bool, default : True) whether or not the decoder hidden states need to be returned (for further training, another sequential model addition, etc)\n",
    "        return_attn_scores -- (bool, default : True) whether or not the attention scores need to be returned\n",
    "    Returns :\n",
    "        accuracy -- (float) the character-wise match accuracy (as calculated by Keras fit)\n",
    "        (If exact_word is True) exact_accuracy -- (float) the exact word match accuracy\n",
    "        loss -- (float) the cross-entropy loss for the top K predictions\n",
    "        (If return_outputs is True) k_outputs -- (numpy ndarray of size : (None, K, timesteps)) top K output sequences\n",
    "        (If return_states is True) k_states -- (numpy ndarray of size : (K, None, timesteps, hid_layer_size))  hidden states of decoder\n",
    "        (If return_attn_scores is True) k_attn_scores -- (numpy ndarray of size : (None, K, decoder_timesteps, encoder_timesteps)) attention scores\n",
    "    '''\n",
    "    target_seqs = np.argmax(target_seqs_onehot, axis=-1)\n",
    "    k_outputs, k_errors, k_states, k_attn_scores = None, None, None, None\n",
    "    for i in range(0, input_seqs.shape[0], infer_batch_size):\n",
    "        tmp_k_outputs, tmp_k_errors, tmp_k_states, tmp_k_attn_scores = beam_decoder_infer(model, input_seqs[i:i+infer_batch_size],\n",
    "                                                                                          max_decoder_timesteps, K,\n",
    "                                                                                          target_seqs[i:i +\n",
    "                                                                                                      infer_batch_size], char_enc['\\t'],\n",
    "                                                                                          model_batch_size, attention)\n",
    "        if k_errors is None:\n",
    "            k_outputs, k_errors, k_states, k_attn_scores = tmp_k_outputs, tmp_k_errors, tmp_k_states, tmp_k_attn_scores\n",
    "        else:\n",
    "            k_outputs = np.concatenate((k_outputs, tmp_k_outputs))\n",
    "            k_errors = np.concatenate((k_errors, tmp_k_errors))\n",
    "            k_states = np.concatenate((k_states, tmp_k_states), axis=2)\n",
    "            k_attn_scores = np.concatenate((k_attn_scores, tmp_k_attn_scores))\n",
    "\n",
    "    return_elements = []\n",
    "    if return_outputs:\n",
    "        return_elements += [k_outputs]\n",
    "    if return_states:\n",
    "        return_elements += [k_states]\n",
    "    if return_attn_scores:\n",
    "        return_elements += [k_attn_scores]\n",
    "\n",
    "    if len(return_elements) > 0:\n",
    "        return calc_metrics(k_outputs, target_seqs, char_enc, char_dec, k_errors, exact_word) + tuple(return_elements)\n",
    "\n",
    "    return calc_metrics(k_outputs, target_seqs, char_enc, char_dec, k_errors, exact_word)\n",
    "\n"
   ]
  },
  {
   "cell_type": "markdown",
   "id": "81f47b67",
   "metadata": {
    "id": "J3SXOwppmVux",
    "papermill": {
     "duration": 0.048975,
     "end_time": "2022-05-23T10:49:39.367448",
     "exception": false,
     "start_time": "2022-05-23T10:49:39.318473",
     "status": "completed"
    },
    "tags": []
   },
   "source": [
    "# Seq2Seq Model (with Attention)"
   ]
  },
  {
   "cell_type": "code",
   "execution_count": 10,
   "id": "423edaee",
   "metadata": {
    "execution": {
     "iopub.execute_input": "2022-05-23T10:49:39.460036Z",
     "iopub.status.busy": "2022-05-23T10:49:39.459757Z",
     "iopub.status.idle": "2022-05-23T10:49:39.483068Z",
     "shell.execute_reply": "2022-05-23T10:49:39.482021Z"
    },
    "id": "KE3M6O-LXlII",
    "papermill": {
     "duration": 0.072059,
     "end_time": "2022-05-23T10:49:39.485235",
     "exception": false,
     "start_time": "2022-05-23T10:49:39.413176",
     "status": "completed"
    },
    "tags": []
   },
   "outputs": [],
   "source": [
    "\n",
    "\n",
    "class AttentionLayer(Layer):\n",
    "    \"\"\"\n",
    "    This Attention layer class code is used from : https://github.com/thushv89/attention_keras/blob/master/src/layers/attention.py\n",
    "    This class implements Bahdanau attention (https://arxiv.org/pdf/1409.0473.pdf).\n",
    "    There are three sets of weights introduced W_a, U_a, and V_a\n",
    "    \"\"\"\n",
    "\n",
    "    def __init__(self, **kwargs):\n",
    "        super(AttentionLayer, self).__init__(**kwargs)\n",
    "\n",
    "    def build(self, input_shape):\n",
    "        assert isinstance(input_shape, list)\n",
    "        # Create a trainable weight variable for this layer.\n",
    "\n",
    "        self.W_a = self.add_weight(name='W_a',\n",
    "                                   shape=tf.TensorShape((input_shape[0][2], input_shape[0][2])),\n",
    "                                   initializer='uniform',\n",
    "                                   trainable=True)\n",
    "        self.U_a = self.add_weight(name='U_a',\n",
    "                                   shape=tf.TensorShape((input_shape[1][2], input_shape[0][2])),\n",
    "                                   initializer='uniform',\n",
    "                                   trainable=True)\n",
    "        self.V_a = self.add_weight(name='V_a',\n",
    "                                   shape=tf.TensorShape((input_shape[0][2], 1)),\n",
    "                                   initializer='uniform',\n",
    "                                   trainable=True)\n",
    "\n",
    "        super(AttentionLayer, self).build(input_shape)  # Be sure to call this at the end\n",
    "\n",
    "    def call(self, inputs, verbose=False):\n",
    "        \"\"\"\n",
    "        inputs: [encoder_output_sequence, decoder_output_sequence]\n",
    "        \"\"\"\n",
    "        assert type(inputs) == list\n",
    "        encoder_out_seq, decoder_out_seq = inputs\n",
    "        if verbose:\n",
    "            print('encoder_out_seq>', encoder_out_seq.shape)\n",
    "            print('decoder_out_seq>', decoder_out_seq.shape)\n",
    "\n",
    "        def energy_step(inputs, states):\n",
    "            \"\"\" Step function for computing energy for a single decoder state\n",
    "            inputs: (batchsize * 1 * de_in_dim)\n",
    "            states: (batchsize * 1 * de_latent_dim)\n",
    "            \"\"\"\n",
    "\n",
    "            assert_msg = \"States must be an iterable. Got {} of type {}\".format(states, type(states))\n",
    "            assert isinstance(states, list) or isinstance(states, tuple), assert_msg\n",
    "\n",
    "            \"\"\" Some parameters required for shaping tensors\"\"\"\n",
    "            en_seq_len, en_hidden = encoder_out_seq.shape[1], encoder_out_seq.shape[2]\n",
    "            de_hidden = inputs.shape[-1]\n",
    "\n",
    "            \"\"\" Computing S.Wa where S=[s0, s1, ..., si]\"\"\"\n",
    "            # <= batch size * en_seq_len * latent_dim\n",
    "            W_a_dot_s = K.dot(encoder_out_seq, self.W_a)\n",
    "\n",
    "            \"\"\" Computing hj.Ua \"\"\"\n",
    "            U_a_dot_h = K.expand_dims(K.dot(inputs, self.U_a), 1)  # <= batch_size, 1, latent_dim\n",
    "            if verbose:\n",
    "                print('Ua.h>', U_a_dot_h.shape)\n",
    "\n",
    "            \"\"\" tanh(S.Wa + hj.Ua) \"\"\"\n",
    "            # <= batch_size*en_seq_len, latent_dim\n",
    "            Ws_plus_Uh = K.tanh(W_a_dot_s + U_a_dot_h)\n",
    "            if verbose:\n",
    "                print('Ws+Uh>', Ws_plus_Uh.shape)\n",
    "\n",
    "            \"\"\" softmax(va.tanh(S.Wa + hj.Ua)) \"\"\"\n",
    "            # <= batch_size, en_seq_len\n",
    "            e_i = K.squeeze(K.dot(Ws_plus_Uh, self.V_a), axis=-1)\n",
    "            # <= batch_size, en_seq_len\n",
    "            e_i = K.softmax(e_i)\n",
    "\n",
    "            if verbose:\n",
    "                print('ei>', e_i.shape)\n",
    "\n",
    "            return e_i, [e_i]\n",
    "\n",
    "        def context_step(inputs, states):\n",
    "            \"\"\" Step function for computing ci using ei \"\"\"\n",
    "\n",
    "            assert_msg = \"States must be an iterable. Got {} of type {}\".format(states, type(states))\n",
    "            assert isinstance(states, list) or isinstance(states, tuple), assert_msg\n",
    "\n",
    "            # <= batch_size, hidden_size\n",
    "            c_i = K.sum(encoder_out_seq * K.expand_dims(inputs, -1), axis=1)\n",
    "            if verbose:\n",
    "                print('ci>', c_i.shape)\n",
    "            return c_i, [c_i]\n",
    "\n",
    "        fake_state_c = K.sum(encoder_out_seq, axis=1)\n",
    "        fake_state_e = K.sum(encoder_out_seq, axis=2)  # <= (batch_size, enc_seq_len, latent_dim\n",
    "\n",
    "        \"\"\" Computing energy outputs \"\"\"\n",
    "        # e_outputs => (batch_size, de_seq_len, en_seq_len)\n",
    "        last_out, e_outputs, _ = K.rnn(\n",
    "            energy_step, decoder_out_seq, [fake_state_e],\n",
    "        )\n",
    "\n",
    "        \"\"\" Computing context vectors \"\"\"\n",
    "        last_out, c_outputs, _ = K.rnn(\n",
    "            context_step, e_outputs, [fake_state_c],\n",
    "        )\n",
    "\n",
    "        return c_outputs, e_outputs\n",
    "\n",
    "    def compute_output_shape(self, input_shape):\n",
    "        \"\"\" Outputs produced by the layer \"\"\"\n",
    "        return [\n",
    "            # (batch_size, decoder_timesteps, decoder_hid_layer_size)\n",
    "            tf.TensorShape((input_shape[1][0], input_shape[1][1], input_shape[1][2])),\n",
    "            # (batch_size, decoder_timesteps, encoder_timesteps)\n",
    "            tf.TensorShape((input_shape[1][0], input_shape[1][1], input_shape[0][1]))\n",
    "        ]"
   ]
  },
  {
   "cell_type": "markdown",
   "id": "fe0c147e",
   "metadata": {
    "id": "HsYMPjkIhB3B",
    "papermill": {
     "duration": 0.045653,
     "end_time": "2022-05-23T10:49:39.574685",
     "exception": false,
     "start_time": "2022-05-23T10:49:39.529032",
     "status": "completed"
    },
    "tags": []
   },
   "source": [
    "### Creating model (with attention)"
   ]
  },
  {
   "cell_type": "code",
   "execution_count": 11,
   "id": "1d2540f1",
   "metadata": {
    "execution": {
     "iopub.execute_input": "2022-05-23T10:49:39.665896Z",
     "iopub.status.busy": "2022-05-23T10:49:39.665613Z",
     "iopub.status.idle": "2022-05-23T10:49:39.683336Z",
     "shell.execute_reply": "2022-05-23T10:49:39.682309Z"
    },
    "id": "WB6bPH59m0cA",
    "papermill": {
     "duration": 0.066226,
     "end_time": "2022-05-23T10:49:39.685592",
     "exception": false,
     "start_time": "2022-05-23T10:49:39.619366",
     "status": "completed"
    },
    "tags": []
   },
   "outputs": [],
   "source": [
    "def create_attention_model(encoder_vocab_size, decoder_vocab_size, inp_emb_size=64, no_enc_layers=1, no_dec_layers=1, \n",
    "                           hid_layer_size=64, cell_type='LSTM', dropout=0, r_dropout=0, cell_activation='tanh'):\n",
    "    '''\n",
    "    Function to create a seq2seq model with attention.\n",
    "    Arguments :\n",
    "        encoder_vocab_size -- (int) number of characters in input vocabulary\n",
    "        decoder_vocab_size -- (int) number of characters in output vocabulary\n",
    "        inp_emb_size -- (int, default : 64) size of input embedding layer for encoder and decoder\n",
    "        no_enc_layers -- (int, default : 1) number of layers of cell to stack in encoder\n",
    "        no_dec_layers -- (int, default : 1) number of layers of cell to stack in decoder\n",
    "        hid_layer_size -- (int, default : 64) size of hidden layer of the encoder and decoder cells\n",
    "        cell_type -- (string, default : 'LSTM') type of cell used in encoder and decoder (possible values : 'LSTM', 'GRU', 'RNN')\n",
    "        dropout -- (float, default : 0.0) value of normal dropout (between 0 and 1)\n",
    "        r_dropout -- (float, default : 0.0) value of recurrent dropout (between 0 and 1)\n",
    "        cell_activation -- (string, default : 'tanh') type of activation used in the cell (as required by Keras)\n",
    "    Returns :\n",
    "        model -- (Keras model object) resulting attention model\n",
    "    '''\n",
    "    # Getting cell type\n",
    "    get_cell = {\n",
    "        'RNN': keras.layers.SimpleRNN,\n",
    "        'GRU': keras.layers.GRU,\n",
    "        'LSTM': keras.layers.LSTM\n",
    "    }\n",
    "    # Encoder input and embedding\n",
    "    encoder_input = keras.layers.Input(shape=(None,), name=\"input_1\")\n",
    "    encoder_inp_emb = keras.layers.Embedding(encoder_vocab_size, inp_emb_size, name=\"embedding_1\")(encoder_input)\n",
    "\n",
    "    # Encoder cell layers\n",
    "    encoder_seq, *encoder_state = get_cell[cell_type](hid_layer_size, activation=cell_activation, return_sequences=True, return_state=True, \n",
    "                                                      dropout=dropout, recurrent_dropout=r_dropout, name=\"encoder_1\")(\n",
    "                                                            encoder_inp_emb\n",
    "                                                     )\n",
    "    for i in range(1, no_enc_layers):\n",
    "        encoder_seq, *encoder_state = get_cell[cell_type](hid_layer_size, activation=cell_activation, return_sequences=True, return_state=True, \n",
    "                                                          dropout=dropout, recurrent_dropout=r_dropout, name=\"encoder_\"+str(i+1))(\n",
    "                                                                encoder_seq\n",
    "                                                         )\n",
    "    # Decoder input and embedding\n",
    "    decoder_input = keras.layers.Input(shape=(None,), name=\"input_2\")\n",
    "    decoder_inp_emb = keras.layers.Embedding(decoder_vocab_size, inp_emb_size, name=\"embedding_2\")(decoder_input)\n",
    "    decoder_seq = decoder_inp_emb\n",
    "    # Decoder cell layers\n",
    "    for i in range(no_dec_layers-1):\n",
    "        decoder_seq, *_ = get_cell[cell_type](hid_layer_size, activation=cell_activation, return_sequences=True, return_state=True, \n",
    "                                              dropout=dropout, recurrent_dropout=r_dropout, name=\"decoder_\"+str(i+1))(\n",
    "                                                    decoder_seq, initial_state=encoder_state\n",
    "                                             )\n",
    "    # Decoder last layer\n",
    "    decoder_seq, *_ = get_cell[cell_type](hid_layer_size, activation=cell_activation, return_sequences=True, return_state=True, \n",
    "                                          dropout=dropout, recurrent_dropout=r_dropout, name=\"decoder_1\")(\n",
    "                                                decoder_inp_emb, initial_state=encoder_state\n",
    "                                         )\n",
    "\n",
    "    # Attention layer\n",
    "    attn_out, attn_scores = AttentionLayer(name='attention_1')([encoder_seq, decoder_seq])        # Bahdanau Attention\n",
    "    # Concat attention output and decoder output\n",
    "    dense_concat_input = keras.layers.Concatenate(axis=-1, name='concat_layer_1')([decoder_seq, attn_out])\n",
    "\n",
    "    # Time distributed Softmax FC layer\n",
    "    decoder_dense_layer = keras.layers.Dense(decoder_vocab_size, activation=\"softmax\", name=\"dense_1\")\n",
    "    decoder_dense_output = decoder_dense_layer(dense_concat_input)\n",
    "\n",
    "    # Define the model that will turn encoder_input_data and decoder_input_data into decoder_target_data\n",
    "    model = keras.Model([encoder_input, decoder_input], decoder_dense_output)\n",
    "\n",
    "    model.summary(line_length=150)\n",
    "    return model"
   ]
  },
  {
   "cell_type": "markdown",
   "id": "5964034a",
   "metadata": {
    "id": "f79BleNNgJTe",
    "papermill": {
     "duration": 0.043517,
     "end_time": "2022-05-23T10:49:39.773664",
     "exception": false,
     "start_time": "2022-05-23T10:49:39.730147",
     "status": "completed"
    },
    "tags": []
   },
   "source": [
    "### Inference Model (with attention)"
   ]
  },
  {
   "cell_type": "code",
   "execution_count": 12,
   "id": "af048dca",
   "metadata": {
    "execution": {
     "iopub.execute_input": "2022-05-23T10:49:39.864025Z",
     "iopub.status.busy": "2022-05-23T10:49:39.863711Z",
     "iopub.status.idle": "2022-05-23T10:49:39.878650Z",
     "shell.execute_reply": "2022-05-23T10:49:39.877566Z"
    },
    "id": "7aBpevCUYHww",
    "papermill": {
     "duration": 0.064126,
     "end_time": "2022-05-23T10:49:39.881143",
     "exception": false,
     "start_time": "2022-05-23T10:49:39.817017",
     "status": "completed"
    },
    "tags": []
   },
   "outputs": [],
   "source": [
    "def create_attention_inference_model(model):\n",
    "    '''\n",
    "    Function to return models needed for inference from the original model (with attention).\n",
    "    Arguments :\n",
    "        model -- (Keras model object) attention model used for training\n",
    "    Returns :\n",
    "        encoder_model -- (Keras model object) \n",
    "        deocder_model -- (Keras model object)\n",
    "        no_enc_layers -- (int) number of layers in the encoder\n",
    "        no_dec_layers -- (int) number of layers in the decoder\n",
    "    '''\n",
    "    # Calculating number of layers in encoder and decoder\n",
    "    no_enc_layers, no_dec_layers = 0, 0\n",
    "    for layer in model.layers:\n",
    "        no_enc_layers += layer.name.startswith('encoder')\n",
    "        no_dec_layers += layer.name.startswith('decoder')\n",
    "\n",
    "    # Encoder input\n",
    "    encoder_input = model.input[0]      # Input_1\n",
    "    # Encoder cell final layer\n",
    "    encoder_cell = model.get_layer(\"encoder_\"+str(no_enc_layers))\n",
    "    encoder_type = encoder_cell.__class__.__name__\n",
    "    encoder_seq, *encoder_state = encoder_cell.output\n",
    "    # Encoder model\n",
    "    encoder_model = keras.Model(encoder_input, encoder_state)\n",
    "\n",
    "    # Decoder input\n",
    "    decoder_input = model.input[1]      # Input_2\n",
    "    decoder_inp_emb = model.get_layer(\"embedding_2\")(decoder_input)\n",
    "    decoder_seq = decoder_inp_emb\n",
    "    # Inputs to decoder layers' initial states\n",
    "    decoder_states, decoder_state_inputs = [], []\n",
    "    for i in range(1, no_dec_layers+1):\n",
    "        if encoder_type == 'LSTM':\n",
    "            decoder_state_input = [keras.Input(shape=(encoder_state[0].shape[1],), name=\"input_\"+str(2*i+1)), \n",
    "                                   keras.Input(shape=(encoder_state[1].shape[1],), name=\"input_\"+str(2*i+2))]\n",
    "        else:\n",
    "            decoder_state_input = [keras.Input(shape=(encoder_state[0].shape[1],), name=\"input_\"+str(i+2))]\n",
    "\n",
    "        decoder_cell = model.get_layer(\"decoder_\"+str(i))\n",
    "        decoder_seq, *decoder_state = decoder_cell(decoder_seq, initial_state=decoder_state_input)\n",
    "        decoder_states += decoder_state\n",
    "        decoder_state_inputs += decoder_state_input\n",
    "\n",
    "    # Attention layer\n",
    "    attn_out, attn_scores = model.get_layer('attention_1')([encoder_seq, decoder_seq])        # Bahdanau Attention\n",
    "    # Concat attention input and decoder output\n",
    "    dense_concat_input = keras.layers.Concatenate(axis=-1, name='concat_layer_1')([decoder_seq, attn_out])\n",
    "\n",
    "    # Softmax FC layer\n",
    "    decoder_dense = model.get_layer(\"dense_1\")\n",
    "    decoder_dense_output = decoder_dense(dense_concat_input)\n",
    "\n",
    "    # Decoder model\n",
    "    decoder_model = keras.Model(\n",
    "        [encoder_input, decoder_input] + decoder_state_inputs, [attn_scores, decoder_dense_output] + decoder_states\n",
    "    )\n",
    "\n",
    "    return encoder_model, decoder_model, no_enc_layers, no_dec_layers"
   ]
  },
  {
   "cell_type": "markdown",
   "id": "7a468eed",
   "metadata": {
    "id": "KHO1Q-r_gOq3",
    "papermill": {
     "duration": 0.044846,
     "end_time": "2022-05-23T10:49:39.971178",
     "exception": false,
     "start_time": "2022-05-23T10:49:39.926332",
     "status": "completed"
    },
    "tags": []
   },
   "source": [
    "### Model training (with attention)"
   ]
  },
  {
   "cell_type": "code",
   "execution_count": 13,
   "id": "02442576",
   "metadata": {
    "execution": {
     "iopub.execute_input": "2022-05-23T10:49:40.064412Z",
     "iopub.status.busy": "2022-05-23T10:49:40.063613Z",
     "iopub.status.idle": "2022-05-23T10:49:40.073054Z",
     "shell.execute_reply": "2022-05-23T10:49:40.072119Z"
    },
    "papermill": {
     "duration": 0.058574,
     "end_time": "2022-05-23T10:49:40.075404",
     "exception": false,
     "start_time": "2022-05-23T10:49:40.016830",
     "status": "completed"
    },
    "tags": []
   },
   "outputs": [],
   "source": [
    "class custom_validator(keras.callbacks.Callback):\n",
    "    # Custom class to provide callback after each epoch of training to calculate custom metrics for validation set with beam decoder\n",
    "    def __init__(self, val_enc_input, val_dec_target, beam_width=1, batch_size=64, attention=False):\n",
    "        self.beam_width = beam_width\n",
    "        self.validation_input = val_enc_input\n",
    "        self.validation_target = val_dec_target\n",
    "        self.batch_size = batch_size\n",
    "        self.attention = attention\n",
    "\n",
    "    def on_epoch_end(self, epoch, logs):\n",
    "        val_accuracy, val_exact_accuracy, val_loss = beam_decoder(self.model, self.validation_input, self.validation_target, max_decoder_seq_length, \n",
    "                                                                  target_char_enc, target_char_dec, self.beam_width, self.batch_size, self.attention)\n",
    "\n",
    "        # Log them to reflect in WANDB callback and EarlyStopping\n",
    "        logs[\"val_accuracy\"] = val_accuracy\n",
    "        logs[\"val_exact_accuracy\"] = val_exact_accuracy\n",
    "        logs[\"val_loss\"] = val_loss             # Validation loss calculates categorical cross entropy loss\n",
    "\n",
    "        print(\"— val_loss: {:.4f} — val_accuracy: {:.4f} — val_exact_accuracy: {:.4f}\".format(val_loss, val_accuracy, val_exact_accuracy))\n"
   ]
  },
  {
   "cell_type": "code",
   "execution_count": 14,
   "id": "4b40dd4a",
   "metadata": {
    "execution": {
     "iopub.execute_input": "2022-05-23T10:49:40.164901Z",
     "iopub.status.busy": "2022-05-23T10:49:40.164100Z",
     "iopub.status.idle": "2022-05-23T10:49:40.173588Z",
     "shell.execute_reply": "2022-05-23T10:49:40.172590Z"
    },
    "papermill": {
     "duration": 0.056594,
     "end_time": "2022-05-23T10:49:40.175790",
     "exception": false,
     "start_time": "2022-05-23T10:49:40.119196",
     "status": "completed"
    },
    "tags": []
   },
   "outputs": [],
   "source": [
    "def train_model(model, train_input_data, train_target_data, val_input_data, val_target_data, beam_width = 1, attention = False,\n",
    "                batch_size = 64, optimizer = 'adam', learning_rate = 1e-3, epochs = 10, loss_fn = 'categorical_crossentropy'):\n",
    "        \n",
    "    get_optimizer = {\n",
    "        'adam': Adam(learning_rate=learning_rate),\n",
    "        'momentum': SGD(learning_rate=learning_rate, momentum=0.9),\n",
    "        'rmsprop': RMSprop(learning_rate=learning_rate),\n",
    "        'nesterov': SGD(learning_rate=learning_rate, momentum=0.9, nesterov=True),\n",
    "        'nadam': Nadam(learning_rate=learning_rate),\n",
    "    }\n",
    "\n",
    "\n",
    "    model.compile(\n",
    "        optimizer=get_optimizer[optimizer], loss=loss_fn, metrics=['accuracy'])\n",
    "\n",
    "\n",
    "    # Using validation accuracy as the metric to monitor as that is what is intended to be maximized\n",
    "    model.fit(train_input_data,\n",
    "              train_target_data,\n",
    "              batch_size = batch_size,\n",
    "              epochs = epochs, \n",
    "              verbose = 2,\n",
    "              callbacks = [custom_validator(val_input_data[0], val_target_data, beam_width, batch_size, attention), \n",
    "                           WandbCallback(monitor='val_accuracy'), EarlyStopping(monitor='val_accuracy', patience=5)])\n",
    "\n",
    "    return model"
   ]
  },
  {
   "cell_type": "code",
   "execution_count": 15,
   "id": "5287c5a0",
   "metadata": {
    "execution": {
     "iopub.execute_input": "2022-05-23T10:49:40.268142Z",
     "iopub.status.busy": "2022-05-23T10:49:40.267225Z",
     "iopub.status.idle": "2022-05-23T10:49:40.285361Z",
     "shell.execute_reply": "2022-05-23T10:49:40.284396Z"
    },
    "id": "2iDn4vNlgJSp",
    "papermill": {
     "duration": 0.066317,
     "end_time": "2022-05-23T10:49:40.287653",
     "exception": false,
     "start_time": "2022-05-23T10:49:40.221336",
     "status": "completed"
    },
    "tags": []
   },
   "outputs": [],
   "source": [
    "\n",
    "config_2 = {\n",
    "    \"learning_rate\": 1e-3,                                      \n",
    "    \"epochs\": 1,                                                  \n",
    "    \"optimizer\": 'adam',                                        \n",
    "    \"batch_size\": 64,                                           \n",
    "    \"loss_function\": 'categorical_crossentropy',                \n",
    "    \"architecture\": 'RNN',                                      \n",
    "    \"dataset\": \"Dakshina\",                                      \n",
    "    \"inp_emb_size\": 256,                                        \n",
    "    \"no_enc_layers\": 1,                                         \n",
    "    \"no_dec_layers\": 1,                                         \n",
    "    \"hid_layer_size\": 256,                                      \n",
    "    \"dropout\" : 0.25,                                           \n",
    "    \"cell_type\": 'LSTM',                                        \n",
    "    \"beam_width\": 5,                                            \n",
    "    \"attention\": True                                           \n",
    "}\n",
    "\n",
    "def seq2seq_attention(config, load_model=None, wandb_init=True):\n",
    "  '''\n",
    "  Function to load/create a model (with attention) and train it.\n",
    "  Arguments :\n",
    "    config -- (dict) configurations of parameters and hyperparameters ot be used for creating the model. if load_model is not None, this isn't necessary.\n",
    "                (the dictionary should contain the keys that are mentioned in config_1)\n",
    "    load_model -- (string, default : None) WANDB run ID of the model to train further. The configurations will be read from WANDB as well.\n",
    "    wandb_init -- (bool, default : True) whther or not WANDB run needs to be initiated (if this function is used as part of sweep alone, this would be False)\n",
    "  Returns :\n",
    "    model -- (Keras model object) trained model\n",
    "    config -- (dict) configuration dictionary\n",
    "    id -- (string) WANDB run ID used for training the model\n",
    "  '''\n",
    "\n",
    "  if load_model is not None:    \n",
    "    prev_run = wandb.Api().run('ms20/A3/'+load_model)\n",
    "    prev_model_file = prev_run.file('model-best.h5').download(replace=True)\n",
    "    model = keras.models.load_model(prev_model_file.name, custom_objects={'AttentionLayer': AttentionLayer})\n",
    "    config_file = prev_run.file('config.yaml').download(replace=True)\n",
    "    with open(config_file.name, 'r') as file:\n",
    "      config_tmp = yaml.safe_load(file)\n",
    "    config = {}\n",
    "    config['attention'] = True\n",
    "    for key in ['learning_rate', 'epochs', 'optimizer', 'batch_size', 'loss_function', 'architecture', 'dataset', 'inp_emb_size', 'no_enc_layers', \\\n",
    "                'no_dec_layers', 'hid_layer_size', 'dropout', 'cell_type', 'beam_width']:\n",
    "      config[key] = config_tmp[key]['value']\n",
    "  else:\n",
    "    model = create_attention_model(len(input_char_dec), len(target_char_dec), config['inp_emb_size'], config['no_enc_layers'], \n",
    "                                   config['no_dec_layers'], config['hid_layer_size'], config['cell_type'], config['dropout'], config['dropout'])\n",
    "  \n",
    "  id = None\n",
    "  if wandb_init:\n",
    "    id = wandb.util.generate_id()\n",
    "    run = wandb.init(id = id, project=\"assignment3\", entity=\"abisheks\", reinit=True, config=config)\n",
    "    wandb.run.name = f\"ie_{config['inp_emb_size']}_ne_{config['no_enc_layers']}_de_{config['no_dec_layers']}_ct_{config['cell_type']}_dr_{config['dropout']}\"\n",
    "    wandb.run.name += f\"_da_{config['hid_layer_size']}_K_{config['beam_width']}_attn_{True}\"\n",
    "    wandb.run.save()\n",
    "    print(wandb.run.name)\n",
    "  \n",
    "  model = train_model(model, [train_enc_input,train_dec_input], train_dec_target, [val_enc_input,val_dec_input], val_dec_target, config['beam_width'],\n",
    "                      config['attention'], config['batch_size'], config['optimizer'], config['learning_rate'], config['epochs'], config['loss_function'])\n",
    "  \n",
    "  if wandb_init:\n",
    "    run.finish()\n",
    "\n",
    "  return model, config, id\n"
   ]
  },
  {
   "cell_type": "markdown",
   "id": "d6213644",
   "metadata": {
    "id": "dubHhha3gE7J",
    "papermill": {
     "duration": 0.044429,
     "end_time": "2022-05-23T10:49:40.376503",
     "exception": false,
     "start_time": "2022-05-23T10:49:40.332074",
     "status": "completed"
    },
    "tags": []
   },
   "source": [
    "### Sweep (models with attention)"
   ]
  },
  {
   "cell_type": "code",
   "execution_count": 16,
   "id": "f2444ed6",
   "metadata": {
    "execution": {
     "iopub.execute_input": "2022-05-23T10:49:40.467589Z",
     "iopub.status.busy": "2022-05-23T10:49:40.466536Z",
     "iopub.status.idle": "2022-05-23T10:49:40.709084Z",
     "shell.execute_reply": "2022-05-23T10:49:40.707402Z"
    },
    "id": "cqnAi_FNgPZ5",
    "papermill": {
     "duration": 0.289767,
     "end_time": "2022-05-23T10:49:40.711378",
     "exception": false,
     "start_time": "2022-05-23T10:49:40.421611",
     "status": "completed"
    },
    "tags": []
   },
   "outputs": [
    {
     "name": "stderr",
     "output_type": "stream",
     "text": [
      "2022-05-23 10:49:40.548365: I tensorflow/stream_executor/cuda/cuda_gpu_executor.cc:937] successful NUMA node read from SysFS had negative value (-1), but there must be at least one NUMA node, so returning NUMA node zero\n",
      "2022-05-23 10:49:40.699954: I tensorflow/stream_executor/cuda/cuda_gpu_executor.cc:937] successful NUMA node read from SysFS had negative value (-1), but there must be at least one NUMA node, so returning NUMA node zero\n",
      "2022-05-23 10:49:40.701084: I tensorflow/stream_executor/cuda/cuda_gpu_executor.cc:937] successful NUMA node read from SysFS had negative value (-1), but there must be at least one NUMA node, so returning NUMA node zero\n"
     ]
    }
   ],
   "source": [
    "physical_devices = tf.config.list_physical_devices('GPU')\n",
    "try:\n",
    "    tf.config.experimental.set_memory_growth(physical_devices[0], True)\n",
    "except:\n",
    "    pass\n",
    "\n",
    "def attention_sweep_wrapper():\n",
    "    run = wandb.init(config=config_2, reinit=True)\n",
    "    config = wandb.config\n",
    "\n",
    "    wandb.run.name = f'ie_{config.inp_emb_size}_ne_{config.no_enc_layers}_de_{config.no_dec_layers}_ct_{config.cell_type}_dr_{config.dropout}'\n",
    "    wandb.run.name += f'_da_{config.hid_layer_size}_K_{config.beam_width}'\n",
    "    wandb.run.save()\n",
    "    print(wandb.run.name)\n",
    "\n",
    "    model, *_ = seq2seq_attention(config, wandb_init=False)\n",
    "    run.finish()"
   ]
  },
  {
   "cell_type": "code",
   "execution_count": 17,
   "id": "790e8566",
   "metadata": {
    "execution": {
     "iopub.execute_input": "2022-05-23T10:49:40.802596Z",
     "iopub.status.busy": "2022-05-23T10:49:40.802294Z",
     "iopub.status.idle": "2022-05-23T10:53:56.328100Z",
     "shell.execute_reply": "2022-05-23T10:53:56.326967Z"
    },
    "id": "3D-hWnWs18u5",
    "papermill": {
     "duration": 255.574632,
     "end_time": "2022-05-23T10:53:56.331012",
     "exception": false,
     "start_time": "2022-05-23T10:49:40.756380",
     "status": "completed"
    },
    "tags": []
   },
   "outputs": [
    {
     "name": "stdout",
     "output_type": "stream",
     "text": [
      "Create sweep with ID: 0f2723j4\n",
      "Sweep URL: https://wandb.ai/ms20/A3/sweeps/0f2723j4\n"
     ]
    },
    {
     "name": "stderr",
     "output_type": "stream",
     "text": [
      "\u001b[34m\u001b[1mwandb\u001b[0m: Agent Starting Run: 1tlu5f49 with config:\n",
      "\u001b[34m\u001b[1mwandb\u001b[0m: \tbeam_width: 5\n",
      "\u001b[34m\u001b[1mwandb\u001b[0m: \tcell_type: GRU\n",
      "\u001b[34m\u001b[1mwandb\u001b[0m: \tdropout: 0\n",
      "\u001b[34m\u001b[1mwandb\u001b[0m: \thid_layer_size: 32\n",
      "\u001b[34m\u001b[1mwandb\u001b[0m: \tinp_emb_size: 32\n",
      "\u001b[34m\u001b[1mwandb\u001b[0m: \tno_dec_layers: 3\n",
      "\u001b[34m\u001b[1mwandb\u001b[0m: \tno_enc_layers: 2\n",
      "\u001b[34m\u001b[1mwandb\u001b[0m: Currently logged in as: \u001b[33mcookie303\u001b[0m (\u001b[33mms20\u001b[0m). Use \u001b[1m`wandb login --relogin`\u001b[0m to force relogin\n"
     ]
    },
    {
     "data": {
      "text/html": [
       "Tracking run with wandb version 0.12.16"
      ],
      "text/plain": [
       "<IPython.core.display.HTML object>"
      ]
     },
     "metadata": {},
     "output_type": "display_data"
    },
    {
     "data": {
      "text/html": [
       "Run data is saved locally in <code>/kaggle/working/wandb/run-20220523_104944-1tlu5f49</code>"
      ],
      "text/plain": [
       "<IPython.core.display.HTML object>"
      ]
     },
     "metadata": {},
     "output_type": "display_data"
    },
    {
     "data": {
      "text/html": [
       "Syncing run <strong><a href=\"https://wandb.ai/ms20/A3/runs/1tlu5f49\" target=\"_blank\">stellar-sweep-1</a></strong> to <a href=\"https://wandb.ai/ms20/A3\" target=\"_blank\">Weights & Biases</a> (<a href=\"https://wandb.me/run\" target=\"_blank\">docs</a>)<br/>Sweep page:  <a href=\"https://wandb.ai/ms20/A3/sweeps/0f2723j4\" target=\"_blank\">https://wandb.ai/ms20/A3/sweeps/0f2723j4</a>"
      ],
      "text/plain": [
       "<IPython.core.display.HTML object>"
      ]
     },
     "metadata": {},
     "output_type": "display_data"
    },
    {
     "name": "stderr",
     "output_type": "stream",
     "text": [
      "\u001b[34m\u001b[1mwandb\u001b[0m: \u001b[33mWARNING\u001b[0m Calling wandb.run.save without any arguments is deprecated.Changes to attributes are automatically persisted.\n"
     ]
    },
    {
     "name": "stdout",
     "output_type": "stream",
     "text": [
      "ie_32_ne_2_de_3_ct_GRU_dr_0_da_32_K_5\n"
     ]
    },
    {
     "name": "stderr",
     "output_type": "stream",
     "text": [
      "2022-05-23 10:49:51.247870: I tensorflow/core/platform/cpu_feature_guard.cc:142] This TensorFlow binary is optimized with oneAPI Deep Neural Network Library (oneDNN) to use the following CPU instructions in performance-critical operations:  AVX2 FMA\n",
      "To enable them in other operations, rebuild TensorFlow with the appropriate compiler flags.\n",
      "2022-05-23 10:49:51.248416: I tensorflow/stream_executor/cuda/cuda_gpu_executor.cc:937] successful NUMA node read from SysFS had negative value (-1), but there must be at least one NUMA node, so returning NUMA node zero\n",
      "2022-05-23 10:49:51.249653: I tensorflow/stream_executor/cuda/cuda_gpu_executor.cc:937] successful NUMA node read from SysFS had negative value (-1), but there must be at least one NUMA node, so returning NUMA node zero\n",
      "2022-05-23 10:49:51.250880: I tensorflow/stream_executor/cuda/cuda_gpu_executor.cc:937] successful NUMA node read from SysFS had negative value (-1), but there must be at least one NUMA node, so returning NUMA node zero\n",
      "2022-05-23 10:49:54.020469: I tensorflow/stream_executor/cuda/cuda_gpu_executor.cc:937] successful NUMA node read from SysFS had negative value (-1), but there must be at least one NUMA node, so returning NUMA node zero\n",
      "2022-05-23 10:49:54.021752: I tensorflow/stream_executor/cuda/cuda_gpu_executor.cc:937] successful NUMA node read from SysFS had negative value (-1), but there must be at least one NUMA node, so returning NUMA node zero\n",
      "2022-05-23 10:49:54.022829: I tensorflow/stream_executor/cuda/cuda_gpu_executor.cc:937] successful NUMA node read from SysFS had negative value (-1), but there must be at least one NUMA node, so returning NUMA node zero\n",
      "2022-05-23 10:49:54.024609: I tensorflow/core/common_runtime/gpu/gpu_device.cc:1510] Created device /job:localhost/replica:0/task:0/device:GPU:0 with 15403 MB memory:  -> device: 0, name: Tesla P100-PCIE-16GB, pci bus id: 0000:00:04.0, compute capability: 6.0\n",
      "\u001b[34m\u001b[1mwandb\u001b[0m: \u001b[33mWARNING\u001b[0m The save_model argument by default saves the model in the HDF5 format that cannot save custom objects like subclassed models and custom layers. This behavior will be deprecated in a future release in favor of the SavedModel format. Meanwhile, the HDF5 model is saved as W&B files and the SavedModel as W&B Artifacts.\n"
     ]
    },
    {
     "name": "stdout",
     "output_type": "stream",
     "text": [
      "Model: \"model\"\n",
      "______________________________________________________________________________________________________________________________________________________\n",
      "Layer (type)                                     Output Shape                     Param #           Connected to                                      \n",
      "======================================================================================================================================================\n",
      "input_1 (InputLayer)                             [(None, None)]                   0                                                                   \n",
      "______________________________________________________________________________________________________________________________________________________\n",
      "embedding_1 (Embedding)                          (None, None, 32)                 864               input_1[0][0]                                     \n",
      "______________________________________________________________________________________________________________________________________________________\n",
      "input_2 (InputLayer)                             [(None, None)]                   0                                                                   \n",
      "______________________________________________________________________________________________________________________________________________________\n",
      "encoder_1 (GRU)                                  [(None, None, 32), (None, 32)]   6336              embedding_1[0][0]                                 \n",
      "______________________________________________________________________________________________________________________________________________________\n",
      "embedding_2 (Embedding)                          (None, None, 32)                 2112              input_2[0][0]                                     \n",
      "______________________________________________________________________________________________________________________________________________________\n",
      "encoder_2 (GRU)                                  [(None, None, 32), (None, 32)]   6336              encoder_1[0][0]                                   \n",
      "______________________________________________________________________________________________________________________________________________________\n",
      "decoder_1 (GRU)                                  [(None, None, 32), (None, 32)]   6336              embedding_2[0][0]                                 \n",
      "                                                                                                    encoder_2[0][1]                                   \n",
      "______________________________________________________________________________________________________________________________________________________\n",
      "attention_1 (AttentionLayer)                     ((None, None, 32), (None, None,  2080              encoder_2[0][0]                                   \n",
      "                                                                                                    decoder_1[0][0]                                   \n",
      "______________________________________________________________________________________________________________________________________________________\n",
      "concat_layer_1 (Concatenate)                     (None, None, 64)                 0                 decoder_1[0][0]                                   \n",
      "                                                                                                    attention_1[0][0]                                 \n",
      "______________________________________________________________________________________________________________________________________________________\n",
      "dense_1 (Dense)                                  (None, None, 66)                 4290              concat_layer_1[0][0]                              \n",
      "======================================================================================================================================================\n",
      "Total params: 28,354\n",
      "Trainable params: 28,354\n",
      "Non-trainable params: 0\n",
      "______________________________________________________________________________________________________________________________________________________\n"
     ]
    },
    {
     "name": "stderr",
     "output_type": "stream",
     "text": [
      "2022-05-23 10:49:57.026937: I tensorflow/compiler/mlir/mlir_graph_optimization_pass.cc:185] None of the MLIR Optimization Passes are enabled (registered 2)\n",
      "2022-05-23 10:50:04.595723: I tensorflow/stream_executor/cuda/cuda_dnn.cc:369] Loaded cuDNN version 8005\n"
     ]
    },
    {
     "name": "stdout",
     "output_type": "stream",
     "text": [
      "691/691 - 77s - loss: 1.2033 - accuracy: 0.7134\n",
      "— val_loss: 1.3665 — val_accuracy: 0.7286 — val_exact_accuracy: 0.0000\n"
     ]
    },
    {
     "data": {
      "text/html": [
       "Waiting for W&B process to finish... <strong style=\"color:green\">(success).</strong>"
      ],
      "text/plain": [
       "<IPython.core.display.HTML object>"
      ]
     },
     "metadata": {},
     "output_type": "display_data"
    },
    {
     "data": {
      "application/vnd.jupyter.widget-view+json": {
       "model_id": "cab9c35161604d0198f5bd9dc1ad79e0",
       "version_major": 2,
       "version_minor": 0
      },
      "text/plain": [
       "VBox(children=(Label(value='0.516 MB of 0.516 MB uploaded (0.000 MB deduped)\\r'), FloatProgress(value=1.0, max…"
      ]
     },
     "metadata": {},
     "output_type": "display_data"
    },
    {
     "data": {
      "text/html": [
       "<style>\n",
       "    table.wandb td:nth-child(1) { padding: 0 10px; text-align: left ; width: auto;} td:nth-child(2) {text-align: left ; width: 100%}\n",
       "    .wandb-row { display: flex; flex-direction: row; flex-wrap: wrap; justify-content: flex-start; width: 100% }\n",
       "    .wandb-col { display: flex; flex-direction: column; flex-basis: 100%; flex: 1; padding: 10px; }\n",
       "    </style>\n",
       "<div class=\"wandb-row\"><div class=\"wandb-col\"><h3>Run history:</h3><br/><table class=\"wandb\"><tr><td>accuracy</td><td>▁</td></tr><tr><td>epoch</td><td>▁</td></tr><tr><td>loss</td><td>▁</td></tr><tr><td>val_accuracy</td><td>▁</td></tr><tr><td>val_exact_accuracy</td><td>▁</td></tr><tr><td>val_loss</td><td>▁</td></tr></table><br/></div><div class=\"wandb-col\"><h3>Run summary:</h3><br/><table class=\"wandb\"><tr><td>accuracy</td><td>0.71345</td></tr><tr><td>best_epoch</td><td>0</td></tr><tr><td>best_val_accuracy</td><td>0.72862</td></tr><tr><td>epoch</td><td>0</td></tr><tr><td>loss</td><td>1.20328</td></tr><tr><td>val_accuracy</td><td>0.72862</td></tr><tr><td>val_exact_accuracy</td><td>0.0</td></tr><tr><td>val_loss</td><td>1.36652</td></tr></table><br/></div></div>"
      ],
      "text/plain": [
       "<IPython.core.display.HTML object>"
      ]
     },
     "metadata": {},
     "output_type": "display_data"
    },
    {
     "data": {
      "text/html": [
       "Synced <strong style=\"color:#cdcd00\">stellar-sweep-1</strong>: <a href=\"https://wandb.ai/ms20/A3/runs/1tlu5f49\" target=\"_blank\">https://wandb.ai/ms20/A3/runs/1tlu5f49</a><br/>Synced 5 W&B file(s), 0 media file(s), 2 artifact file(s) and 2 other file(s)"
      ],
      "text/plain": [
       "<IPython.core.display.HTML object>"
      ]
     },
     "metadata": {},
     "output_type": "display_data"
    },
    {
     "data": {
      "text/html": [
       "Find logs at: <code>./wandb/run-20220523_104944-1tlu5f49/logs</code>"
      ],
      "text/plain": [
       "<IPython.core.display.HTML object>"
      ]
     },
     "metadata": {},
     "output_type": "display_data"
    }
   ],
   "source": [
    "sweep_config_2 = {\n",
    "    'name': 'w_attn',\n",
    "    'method': 'bayes',                  \n",
    "    'metric': {\n",
    "      'name': 'val_accuracy',\n",
    "      'goal': 'maximize'   \n",
    "    },\n",
    "    'parameters': {\n",
    "        'inp_emb_size': {\n",
    "            'values': [32, 64, 256]\n",
    "        },\n",
    "        'no_enc_layers': {\n",
    "            'values': [1, 2, 3]\n",
    "        },\n",
    "        'no_dec_layers': {\n",
    "            'values': [1, 2, 3]\n",
    "        },\n",
    "        'hid_layer_size': {\n",
    "            'values': [32, 64, 256]\n",
    "        },\n",
    "        'cell_type': {\n",
    "            'values': ['RNN', 'LSTM', 'GRU']\n",
    "        },\n",
    "        'dropout' :{\n",
    "            'values': [0, 0.25, 0.4]\n",
    "        },\n",
    "        'beam_width': {\n",
    "            'values': [1, 5]\n",
    "        }\n",
    "    }\n",
    "}\n",
    "\n",
    "sweep_id = wandb.sweep(sweep_config_2, project=\"A3\", entity=\"ms20\")\n",
    "wandb.agent(sweep_id, attention_sweep_wrapper, count=1)"
   ]
  },
  {
   "cell_type": "markdown",
   "id": "107d1981",
   "metadata": {
    "id": "OeDBnl1gJSzl",
    "papermill": {
     "duration": 0.058203,
     "end_time": "2022-05-23T10:53:56.448438",
     "exception": false,
     "start_time": "2022-05-23T10:53:56.390235",
     "status": "completed"
    },
    "tags": []
   },
   "source": [
    "### Test accuracy and sample input/output for best model (with attention)"
   ]
  },
  {
   "cell_type": "code",
   "execution_count": 18,
   "id": "04bfb6e8",
   "metadata": {
    "execution": {
     "iopub.execute_input": "2022-05-23T10:53:56.567537Z",
     "iopub.status.busy": "2022-05-23T10:53:56.567120Z",
     "iopub.status.idle": "2022-05-23T10:53:56.588172Z",
     "shell.execute_reply": "2022-05-23T10:53:56.587086Z"
    },
    "papermill": {
     "duration": 0.083696,
     "end_time": "2022-05-23T10:53:56.590529",
     "exception": false,
     "start_time": "2022-05-23T10:53:56.506833",
     "status": "completed"
    },
    "tags": []
   },
   "outputs": [],
   "source": [
    "def test_model(run_id, test_enc_input, test_dec_target, max_decoder_seq_length, target_char_enc, target_char_dec, attention=False, save_pred=False, test_input=None):\n",
    "    '''\n",
    "    Function to evaluate the model metrics on test data and optionally save the predictions.\n",
    "    Arguments :\n",
    "        run_id -- (string) WANDB run ID for the trained model\n",
    "        test_enc_input -- (numpy ndarray of size : (None, timesteps)) input to encoder (where characters are encoded as integers)\n",
    "        test_dec_target -- (numpy ndarray of size : (None, timesteps, decoder_vocab_size)) expected target in onehot format\n",
    "        max_decoder_seq_length -- (int) number of timesteps in the decoder\n",
    "        target_enc_enc -- (dict) target character encoding\n",
    "        target_char_dec -- (list) target character decoding\n",
    "        attention -- (bool, default : False) whether or not the model uses attention\n",
    "        save_pred -- (bool, default : False) whether or not to save the predictions in a csv file\n",
    "        test_input -- (list of string : (no_samples, input word), default : None) input as words (needed while saving predictions to file alone)\n",
    "    Returns :\n",
    "        acc -- (float) character-wise match accuracy\n",
    "        exact_K_acc -- (float) exact word match accuracy using the beam width for the model\n",
    "        exact_acc -- (float) exact word match accuracy using the first prediction (which is equivalent to beam width = 1)\n",
    "        loss -- (float) loss value\n",
    "        true_out -- (list of string : (no_samples, word)) true output  \n",
    "        pred_out -- (2D list of string : (no_samples, K, word)) predicted output\n",
    "        pred_scores -- (2D list : (no_samples, K)) levenshtein distance of prediction to true output\n",
    "        (If attention is True) attn_scores -- (numpy ndarray of size : (None, K, decoder_timesteps, encoder_timesteps)) attention scores\n",
    "        model -- (Keras model object) the model obtained from the run\n",
    "    '''\n",
    "    api = wandb.Api()\n",
    "    prev_run = api.run('ms20/A3/'+run_id)\n",
    "    prev_model_file = prev_run.file('model-best.h5').download(replace=True)\n",
    "    \n",
    "    if attention:\n",
    "        model = keras.models.load_model(prev_model_file.name, custom_objects={'AttentionLayer': AttentionLayer})\n",
    "    else:\n",
    "        model = keras.models.load_model(prev_model_file.name)\n",
    "    config_file = prev_run.file('config.yaml').download(replace=True)\n",
    "    with open(config_file.name, 'r') as file:\n",
    "        config = yaml.safe_load(file)\n",
    "        \n",
    "\n",
    "    no_samples, K, batch_size = test_enc_input.shape[0], config['beam_width']['value'], config['batch_size']['value']\n",
    "    acc, exact_K_acc, loss, outputs, attn_scores = beam_decoder(model, test_enc_input, test_dec_target, max_decoder_seq_length, target_char_enc, \n",
    "                                                                target_char_dec, K, batch_size, attention,\n",
    "                                                                return_outputs=True, return_attn_scores=True)\n",
    "    \n",
    "    print(f'Test accuracy (using exact word match with beam width = {K}) : {exact_K_acc*100:.2f}%')\n",
    "\n",
    "    test_target = np.argmax(test_dec_target, axis=-1)\n",
    "    true_out = convert_to_word(test_target, target_char_enc, target_char_dec)\n",
    "    pred_out = [[] for _ in range(no_samples)]\n",
    "    pred_scores = [[] for _ in range(no_samples)]\n",
    "    for k in range(K):\n",
    "        pred = convert_to_word(outputs[:,k], target_char_enc, target_char_dec)\n",
    "        pred_out = [pred_out[b] + [pred[b]] for b in range(no_samples)]\n",
    "        pred_scores = [pred_scores[b] + [levenshtein(pred[b], true_out[b])] for b in range(no_samples)]\n",
    "    \n",
    "    equal = [pred_out[i][0] == true_out[i] for i in range(no_samples)]\n",
    "    exact_acc = np.mean(equal)\n",
    "\n",
    "    print(f'Test accuracy (using exact word match of the first prediction) : {exact_acc*100:.2f}%')\n",
    "    print('\\n')\n",
    "    \n",
    "    if save_pred:\n",
    "        # We write the input and top K outputs in decreasing order of probabilities to the file\n",
    "        pred_file_name = 'predictions_vanilla.csv' if not attention else 'predictions_attention.csv'\n",
    "        with open(pred_file_name, 'w', newline='') as file:\n",
    "            writer = csv.writer(file)\n",
    "            writer.writerow([\"Input\"] + [\"Prediction_\"+str(k+1) for k in range(K)])\n",
    "            for b in range(no_samples):\n",
    "                writer.writerow([test_input[b]] + [pred_out[b][k] for k in range(K)])\n",
    "\n",
    "    if attention:\n",
    "        return acc, exact_K_acc, exact_acc, loss, true_out, pred_out, pred_scores, attn_scores, model\n",
    "    return acc, exact_K_acc, exact_acc, loss, true_out, pred_out, pred_scores, model"
   ]
  },
  {
   "cell_type": "code",
   "execution_count": 19,
   "id": "ea219030",
   "metadata": {
    "execution": {
     "iopub.execute_input": "2022-05-23T10:53:56.712299Z",
     "iopub.status.busy": "2022-05-23T10:53:56.711981Z",
     "iopub.status.idle": "2022-05-23T10:53:56.724616Z",
     "shell.execute_reply": "2022-05-23T10:53:56.723561Z"
    },
    "papermill": {
     "duration": 0.076554,
     "end_time": "2022-05-23T10:53:56.726834",
     "exception": false,
     "start_time": "2022-05-23T10:53:56.650280",
     "status": "completed"
    },
    "tags": []
   },
   "outputs": [],
   "source": [
    "def get_clr(value, cmap='coolwarm'):\n",
    "    rgba = plt.get_cmap(cmap)(value)\n",
    "    return 'rgb'+str(tuple([int(c*255) for c in rgba[:3]]))\n",
    "\n",
    "\n",
    "def print_samples(input, true_out, pred_out, pred_scores, rand_seq=None):\n",
    "    '''\n",
    "    Function to print sample outputs in a neat format\n",
    "    Arguments :\n",
    "        input -- input words\n",
    "        true_out -- true output as words\n",
    "        pred_out -- K predicted output words\n",
    "        pred_scores -- levenshtein distance for the predictions to the true output\n",
    "        rand_seq -- list of indices from the dataset passed for which the sample outputs are to be printed (If None, random 10 samples will be chosen)\n",
    "    Returns :\n",
    "        rand_seq -- the list of indices for which sample outputs are printed\n",
    "    '''\n",
    "    no_samples = len(true_out)\n",
    "    if rand_seq is None:\n",
    "        rand_seq = np.random.randint(no_samples, size=(10,))\n",
    "    print('-'*20 + f' Top {len(pred_scores[0])} predictions in decreasing order of probabilities for 10 random samples ' + '-'*20)\n",
    "    print('')\n",
    "    for i in rand_seq:\n",
    "        K = len(pred_scores[i])\n",
    "        html_str = '''\n",
    "        <table style=\"border:2px solid black; border-collapse:collapse\">\n",
    "        <caption> <strong>INPUT :</strong> {} &emsp; | &emsp; <strong> TRUE OUTPUT : </strong> {} </caption>\n",
    "        <tr>\n",
    "        <th scope=\"row\" style=\"border:1px solid black;padding:10px;text-align:left\"> Top {} Predictions </th>\n",
    "        '''.format(input[i], true_out[i], K)\n",
    "        for k in range(K):\n",
    "            html_str += '''\n",
    "            <td style=\"color:#000;background-color:{};border:1px solid black;padding:10px\"> {} </td>\n",
    "            '''.format(get_clr(pred_scores[i][k]/5), pred_out[i][k])\n",
    "        html_str += '''\n",
    "        </tr>\n",
    "        <tr>\n",
    "        <th scope=\"row\" style=\"border:1px solid black;padding:10px;text-align:left\"> Levenshtein distance (to true output) &emsp; </th>\n",
    "        '''\n",
    "        for k in range(K):\n",
    "            html_str += '''\n",
    "            <td style=\"border:1px solid black;padding:10px\"> {} </td>\n",
    "            '''.format(pred_scores[i][k])\n",
    "        html_str += '''\n",
    "        </tr>\n",
    "        </table>\n",
    "        '''\n",
    "        display(html_print(html_str))\n",
    "        print('\\n\\n')\n",
    "    \n",
    "    return rand_seq"
   ]
  },
  {
   "cell_type": "code",
   "execution_count": 20,
   "id": "16e79f4b",
   "metadata": {
    "execution": {
     "iopub.execute_input": "2022-05-23T10:53:56.850642Z",
     "iopub.status.busy": "2022-05-23T10:53:56.850345Z",
     "iopub.status.idle": "2022-05-23T10:58:39.198595Z",
     "shell.execute_reply": "2022-05-23T10:58:39.197543Z"
    },
    "id": "OeryZFPWJeHi",
    "outputId": "fed9b2b3-b1eb-45fe-acdd-f93eb2751608",
    "papermill": {
     "duration": 282.41126,
     "end_time": "2022-05-23T10:58:39.201660",
     "exception": false,
     "start_time": "2022-05-23T10:53:56.790400",
     "status": "completed"
    },
    "tags": []
   },
   "outputs": [
    {
     "name": "stdout",
     "output_type": "stream",
     "text": [
      "Test accuracy (using exact word match with beam width = 5) : 77.77%\n",
      "Test accuracy (using exact word match of the first prediction) : 44.58%\n",
      "\n",
      "\n",
      "-------------------- Top 5 predictions in decreasing order of probabilities for 10 random samples --------------------\n",
      "\n"
     ]
    },
    {
     "data": {
      "text/html": [
       "\n",
       "        <table style=\"border:2px solid black; border-collapse:collapse\">\n",
       "        <caption> <strong>INPUT :</strong> coded &emsp; | &emsp; <strong> TRUE OUTPUT : </strong> कोडेड </caption>\n",
       "        <tr>\n",
       "        <th scope=\"row\" style=\"border:1px solid black;padding:10px;text-align:left\"> Top 5 Predictions </th>\n",
       "        \n",
       "            <td style=\"color:#000;background-color:rgb(123, 158, 248);border:1px solid black;padding:10px\"> कोड्ड </td>\n",
       "            \n",
       "            <td style=\"color:#000;background-color:rgb(58, 76, 192);border:1px solid black;padding:10px\"> कोडेड </td>\n",
       "            \n",
       "            <td style=\"color:#000;background-color:rgb(192, 211, 245);border:1px solid black;padding:10px\"> कोड </td>\n",
       "            \n",
       "            <td style=\"color:#000;background-color:rgb(123, 158, 248);border:1px solid black;padding:10px\"> कोड़ेड </td>\n",
       "            \n",
       "            <td style=\"color:#000;background-color:rgb(192, 211, 245);border:1px solid black;padding:10px\"> कोड़ </td>\n",
       "            \n",
       "        </tr>\n",
       "        <tr>\n",
       "        <th scope=\"row\" style=\"border:1px solid black;padding:10px;text-align:left\"> Levenshtein distance (to true output) &emsp; </th>\n",
       "        \n",
       "            <td style=\"border:1px solid black;padding:10px\"> 1 </td>\n",
       "            \n",
       "            <td style=\"border:1px solid black;padding:10px\"> 0 </td>\n",
       "            \n",
       "            <td style=\"border:1px solid black;padding:10px\"> 2 </td>\n",
       "            \n",
       "            <td style=\"border:1px solid black;padding:10px\"> 1 </td>\n",
       "            \n",
       "            <td style=\"border:1px solid black;padding:10px\"> 2 </td>\n",
       "            \n",
       "        </tr>\n",
       "        </table>\n",
       "        "
      ],
      "text/plain": [
       "<IPython.core.display.HTML object>"
      ]
     },
     "metadata": {},
     "output_type": "display_data"
    },
    {
     "name": "stdout",
     "output_type": "stream",
     "text": [
      "\n",
      "\n",
      "\n"
     ]
    },
    {
     "data": {
      "text/html": [
       "\n",
       "        <table style=\"border:2px solid black; border-collapse:collapse\">\n",
       "        <caption> <strong>INPUT :</strong> takali &emsp; | &emsp; <strong> TRUE OUTPUT : </strong> तकली </caption>\n",
       "        <tr>\n",
       "        <th scope=\"row\" style=\"border:1px solid black;padding:10px;text-align:left\"> Top 5 Predictions </th>\n",
       "        \n",
       "            <td style=\"color:#000;background-color:rgb(58, 76, 192);border:1px solid black;padding:10px\"> तकली </td>\n",
       "            \n",
       "            <td style=\"color:#000;background-color:rgb(123, 158, 248);border:1px solid black;padding:10px\"> तकाली </td>\n",
       "            \n",
       "            <td style=\"color:#000;background-color:rgb(192, 211, 245);border:1px solid black;padding:10px\"> ताकाली </td>\n",
       "            \n",
       "            <td style=\"color:#000;background-color:rgb(123, 158, 248);border:1px solid black;padding:10px\"> ताकली </td>\n",
       "            \n",
       "            <td style=\"color:#000;background-color:rgb(123, 158, 248);border:1px solid black;padding:10px\"> टकली </td>\n",
       "            \n",
       "        </tr>\n",
       "        <tr>\n",
       "        <th scope=\"row\" style=\"border:1px solid black;padding:10px;text-align:left\"> Levenshtein distance (to true output) &emsp; </th>\n",
       "        \n",
       "            <td style=\"border:1px solid black;padding:10px\"> 0 </td>\n",
       "            \n",
       "            <td style=\"border:1px solid black;padding:10px\"> 1 </td>\n",
       "            \n",
       "            <td style=\"border:1px solid black;padding:10px\"> 2 </td>\n",
       "            \n",
       "            <td style=\"border:1px solid black;padding:10px\"> 1 </td>\n",
       "            \n",
       "            <td style=\"border:1px solid black;padding:10px\"> 1 </td>\n",
       "            \n",
       "        </tr>\n",
       "        </table>\n",
       "        "
      ],
      "text/plain": [
       "<IPython.core.display.HTML object>"
      ]
     },
     "metadata": {},
     "output_type": "display_data"
    },
    {
     "name": "stdout",
     "output_type": "stream",
     "text": [
      "\n",
      "\n",
      "\n"
     ]
    },
    {
     "data": {
      "text/html": [
       "\n",
       "        <table style=\"border:2px solid black; border-collapse:collapse\">\n",
       "        <caption> <strong>INPUT :</strong> bharat &emsp; | &emsp; <strong> TRUE OUTPUT : </strong> भरत </caption>\n",
       "        <tr>\n",
       "        <th scope=\"row\" style=\"border:1px solid black;padding:10px;text-align:left\"> Top 5 Predictions </th>\n",
       "        \n",
       "            <td style=\"color:#000;background-color:rgb(58, 76, 192);border:1px solid black;padding:10px\"> भरत </td>\n",
       "            \n",
       "            <td style=\"color:#000;background-color:rgb(123, 158, 248);border:1px solid black;padding:10px\"> भारत </td>\n",
       "            \n",
       "            <td style=\"color:#000;background-color:rgb(192, 211, 245);border:1px solid black;padding:10px\"> भड़त </td>\n",
       "            \n",
       "            <td style=\"color:#000;background-color:rgb(123, 158, 248);border:1px solid black;padding:10px\"> भरात </td>\n",
       "            \n",
       "            <td style=\"color:#000;background-color:rgb(192, 211, 245);border:1px solid black;padding:10px\"> भारात </td>\n",
       "            \n",
       "        </tr>\n",
       "        <tr>\n",
       "        <th scope=\"row\" style=\"border:1px solid black;padding:10px;text-align:left\"> Levenshtein distance (to true output) &emsp; </th>\n",
       "        \n",
       "            <td style=\"border:1px solid black;padding:10px\"> 0 </td>\n",
       "            \n",
       "            <td style=\"border:1px solid black;padding:10px\"> 1 </td>\n",
       "            \n",
       "            <td style=\"border:1px solid black;padding:10px\"> 2 </td>\n",
       "            \n",
       "            <td style=\"border:1px solid black;padding:10px\"> 1 </td>\n",
       "            \n",
       "            <td style=\"border:1px solid black;padding:10px\"> 2 </td>\n",
       "            \n",
       "        </tr>\n",
       "        </table>\n",
       "        "
      ],
      "text/plain": [
       "<IPython.core.display.HTML object>"
      ]
     },
     "metadata": {},
     "output_type": "display_data"
    },
    {
     "name": "stdout",
     "output_type": "stream",
     "text": [
      "\n",
      "\n",
      "\n"
     ]
    },
    {
     "data": {
      "text/html": [
       "\n",
       "        <table style=\"border:2px solid black; border-collapse:collapse\">\n",
       "        <caption> <strong>INPUT :</strong> vrittyon &emsp; | &emsp; <strong> TRUE OUTPUT : </strong> वृत्तियों </caption>\n",
       "        <tr>\n",
       "        <th scope=\"row\" style=\"border:1px solid black;padding:10px;text-align:left\"> Top 5 Predictions </th>\n",
       "        \n",
       "            <td style=\"color:#000;background-color:rgb(58, 76, 192);border:1px solid black;padding:10px\"> वृत्तियों </td>\n",
       "            \n",
       "            <td style=\"color:#000;background-color:rgb(123, 158, 248);border:1px solid black;padding:10px\"> वृत्तयों </td>\n",
       "            \n",
       "            <td style=\"color:#000;background-color:rgb(123, 158, 248);border:1px solid black;padding:10px\"> वृत्त्यों </td>\n",
       "            \n",
       "            <td style=\"color:#000;background-color:rgb(179, 3, 38);border:1px solid black;padding:10px\"> व्रिट्यों </td>\n",
       "            \n",
       "            <td style=\"color:#000;background-color:rgb(192, 211, 245);border:1px solid black;padding:10px\"> वृत्तिओं </td>\n",
       "            \n",
       "        </tr>\n",
       "        <tr>\n",
       "        <th scope=\"row\" style=\"border:1px solid black;padding:10px;text-align:left\"> Levenshtein distance (to true output) &emsp; </th>\n",
       "        \n",
       "            <td style=\"border:1px solid black;padding:10px\"> 0 </td>\n",
       "            \n",
       "            <td style=\"border:1px solid black;padding:10px\"> 1 </td>\n",
       "            \n",
       "            <td style=\"border:1px solid black;padding:10px\"> 1 </td>\n",
       "            \n",
       "            <td style=\"border:1px solid black;padding:10px\"> 5 </td>\n",
       "            \n",
       "            <td style=\"border:1px solid black;padding:10px\"> 2 </td>\n",
       "            \n",
       "        </tr>\n",
       "        </table>\n",
       "        "
      ],
      "text/plain": [
       "<IPython.core.display.HTML object>"
      ]
     },
     "metadata": {},
     "output_type": "display_data"
    },
    {
     "name": "stdout",
     "output_type": "stream",
     "text": [
      "\n",
      "\n",
      "\n"
     ]
    },
    {
     "data": {
      "text/html": [
       "\n",
       "        <table style=\"border:2px solid black; border-collapse:collapse\">\n",
       "        <caption> <strong>INPUT :</strong> asamaantayen &emsp; | &emsp; <strong> TRUE OUTPUT : </strong> असमानताएं </caption>\n",
       "        <tr>\n",
       "        <th scope=\"row\" style=\"border:1px solid black;padding:10px;text-align:left\"> Top 5 Predictions </th>\n",
       "        \n",
       "            <td style=\"color:#000;background-color:rgb(237, 132, 103);border:1px solid black;padding:10px\"> असमांतयन </td>\n",
       "            \n",
       "            <td style=\"color:#000;background-color:rgb(241, 202, 182);border:1px solid black;padding:10px\"> असमानतयन </td>\n",
       "            \n",
       "            <td style=\"color:#000;background-color:rgb(241, 202, 182);border:1px solid black;padding:10px\"> असमांतयें </td>\n",
       "            \n",
       "            <td style=\"color:#000;background-color:rgb(241, 202, 182);border:1px solid black;padding:10px\"> असमांतयों </td>\n",
       "            \n",
       "            <td style=\"color:#000;background-color:rgb(179, 3, 38);border:1px solid black;padding:10px\"> आसमांतयन </td>\n",
       "            \n",
       "        </tr>\n",
       "        <tr>\n",
       "        <th scope=\"row\" style=\"border:1px solid black;padding:10px;text-align:left\"> Levenshtein distance (to true output) &emsp; </th>\n",
       "        \n",
       "            <td style=\"border:1px solid black;padding:10px\"> 4 </td>\n",
       "            \n",
       "            <td style=\"border:1px solid black;padding:10px\"> 3 </td>\n",
       "            \n",
       "            <td style=\"border:1px solid black;padding:10px\"> 3 </td>\n",
       "            \n",
       "            <td style=\"border:1px solid black;padding:10px\"> 3 </td>\n",
       "            \n",
       "            <td style=\"border:1px solid black;padding:10px\"> 5 </td>\n",
       "            \n",
       "        </tr>\n",
       "        </table>\n",
       "        "
      ],
      "text/plain": [
       "<IPython.core.display.HTML object>"
      ]
     },
     "metadata": {},
     "output_type": "display_data"
    },
    {
     "name": "stdout",
     "output_type": "stream",
     "text": [
      "\n",
      "\n",
      "\n"
     ]
    },
    {
     "data": {
      "text/html": [
       "\n",
       "        <table style=\"border:2px solid black; border-collapse:collapse\">\n",
       "        <caption> <strong>INPUT :</strong> maula &emsp; | &emsp; <strong> TRUE OUTPUT : </strong> मौला </caption>\n",
       "        <tr>\n",
       "        <th scope=\"row\" style=\"border:1px solid black;padding:10px;text-align:left\"> Top 5 Predictions </th>\n",
       "        \n",
       "            <td style=\"color:#000;background-color:rgb(58, 76, 192);border:1px solid black;padding:10px\"> मौला </td>\n",
       "            \n",
       "            <td style=\"color:#000;background-color:rgb(123, 158, 248);border:1px solid black;padding:10px\"> मऊला </td>\n",
       "            \n",
       "            <td style=\"color:#000;background-color:rgb(123, 158, 248);border:1px solid black;padding:10px\"> मौल </td>\n",
       "            \n",
       "            <td style=\"color:#000;background-color:rgb(123, 158, 248);border:1px solid black;padding:10px\"> माला </td>\n",
       "            \n",
       "            <td style=\"color:#000;background-color:rgb(123, 158, 248);border:1px solid black;padding:10px\"> मोला </td>\n",
       "            \n",
       "        </tr>\n",
       "        <tr>\n",
       "        <th scope=\"row\" style=\"border:1px solid black;padding:10px;text-align:left\"> Levenshtein distance (to true output) &emsp; </th>\n",
       "        \n",
       "            <td style=\"border:1px solid black;padding:10px\"> 0 </td>\n",
       "            \n",
       "            <td style=\"border:1px solid black;padding:10px\"> 1 </td>\n",
       "            \n",
       "            <td style=\"border:1px solid black;padding:10px\"> 1 </td>\n",
       "            \n",
       "            <td style=\"border:1px solid black;padding:10px\"> 1 </td>\n",
       "            \n",
       "            <td style=\"border:1px solid black;padding:10px\"> 1 </td>\n",
       "            \n",
       "        </tr>\n",
       "        </table>\n",
       "        "
      ],
      "text/plain": [
       "<IPython.core.display.HTML object>"
      ]
     },
     "metadata": {},
     "output_type": "display_data"
    },
    {
     "name": "stdout",
     "output_type": "stream",
     "text": [
      "\n",
      "\n",
      "\n"
     ]
    },
    {
     "data": {
      "text/html": [
       "\n",
       "        <table style=\"border:2px solid black; border-collapse:collapse\">\n",
       "        <caption> <strong>INPUT :</strong> tips &emsp; | &emsp; <strong> TRUE OUTPUT : </strong> टिप्स </caption>\n",
       "        <tr>\n",
       "        <th scope=\"row\" style=\"border:1px solid black;padding:10px;text-align:left\"> Top 5 Predictions </th>\n",
       "        \n",
       "            <td style=\"color:#000;background-color:rgb(58, 76, 192);border:1px solid black;padding:10px\"> टिप्स </td>\n",
       "            \n",
       "            <td style=\"color:#000;background-color:rgb(123, 158, 248);border:1px solid black;padding:10px\"> टीप्स </td>\n",
       "            \n",
       "            <td style=\"color:#000;background-color:rgb(123, 158, 248);border:1px solid black;padding:10px\"> तिप्स </td>\n",
       "            \n",
       "            <td style=\"color:#000;background-color:rgb(123, 158, 248);border:1px solid black;padding:10px\"> टिस्स </td>\n",
       "            \n",
       "            <td style=\"color:#000;background-color:rgb(192, 211, 245);border:1px solid black;padding:10px\"> टाईप्स </td>\n",
       "            \n",
       "        </tr>\n",
       "        <tr>\n",
       "        <th scope=\"row\" style=\"border:1px solid black;padding:10px;text-align:left\"> Levenshtein distance (to true output) &emsp; </th>\n",
       "        \n",
       "            <td style=\"border:1px solid black;padding:10px\"> 0 </td>\n",
       "            \n",
       "            <td style=\"border:1px solid black;padding:10px\"> 1 </td>\n",
       "            \n",
       "            <td style=\"border:1px solid black;padding:10px\"> 1 </td>\n",
       "            \n",
       "            <td style=\"border:1px solid black;padding:10px\"> 1 </td>\n",
       "            \n",
       "            <td style=\"border:1px solid black;padding:10px\"> 2 </td>\n",
       "            \n",
       "        </tr>\n",
       "        </table>\n",
       "        "
      ],
      "text/plain": [
       "<IPython.core.display.HTML object>"
      ]
     },
     "metadata": {},
     "output_type": "display_data"
    },
    {
     "name": "stdout",
     "output_type": "stream",
     "text": [
      "\n",
      "\n",
      "\n"
     ]
    },
    {
     "data": {
      "text/html": [
       "\n",
       "        <table style=\"border:2px solid black; border-collapse:collapse\">\n",
       "        <caption> <strong>INPUT :</strong> bhagya &emsp; | &emsp; <strong> TRUE OUTPUT : </strong> भाग्य </caption>\n",
       "        <tr>\n",
       "        <th scope=\"row\" style=\"border:1px solid black;padding:10px;text-align:left\"> Top 5 Predictions </th>\n",
       "        \n",
       "            <td style=\"color:#000;background-color:rgb(58, 76, 192);border:1px solid black;padding:10px\"> भाग्य </td>\n",
       "            \n",
       "            <td style=\"color:#000;background-color:rgb(237, 132, 103);border:1px solid black;padding:10px\"> भज्ञा </td>\n",
       "            \n",
       "            <td style=\"color:#000;background-color:rgb(241, 202, 182);border:1px solid black;padding:10px\"> भज्ञ </td>\n",
       "            \n",
       "            <td style=\"color:#000;background-color:rgb(192, 211, 245);border:1px solid black;padding:10px\"> भज्य </td>\n",
       "            \n",
       "            <td style=\"color:#000;background-color:rgb(123, 158, 248);border:1px solid black;padding:10px\"> भग्य </td>\n",
       "            \n",
       "        </tr>\n",
       "        <tr>\n",
       "        <th scope=\"row\" style=\"border:1px solid black;padding:10px;text-align:left\"> Levenshtein distance (to true output) &emsp; </th>\n",
       "        \n",
       "            <td style=\"border:1px solid black;padding:10px\"> 0 </td>\n",
       "            \n",
       "            <td style=\"border:1px solid black;padding:10px\"> 4 </td>\n",
       "            \n",
       "            <td style=\"border:1px solid black;padding:10px\"> 3 </td>\n",
       "            \n",
       "            <td style=\"border:1px solid black;padding:10px\"> 2 </td>\n",
       "            \n",
       "            <td style=\"border:1px solid black;padding:10px\"> 1 </td>\n",
       "            \n",
       "        </tr>\n",
       "        </table>\n",
       "        "
      ],
      "text/plain": [
       "<IPython.core.display.HTML object>"
      ]
     },
     "metadata": {},
     "output_type": "display_data"
    },
    {
     "name": "stdout",
     "output_type": "stream",
     "text": [
      "\n",
      "\n",
      "\n"
     ]
    },
    {
     "data": {
      "text/html": [
       "\n",
       "        <table style=\"border:2px solid black; border-collapse:collapse\">\n",
       "        <caption> <strong>INPUT :</strong> modte &emsp; | &emsp; <strong> TRUE OUTPUT : </strong> मोड़ते </caption>\n",
       "        <tr>\n",
       "        <th scope=\"row\" style=\"border:1px solid black;padding:10px;text-align:left\"> Top 5 Predictions </th>\n",
       "        \n",
       "            <td style=\"color:#000;background-color:rgb(58, 76, 192);border:1px solid black;padding:10px\"> मोड़ते </td>\n",
       "            \n",
       "            <td style=\"color:#000;background-color:rgb(123, 158, 248);border:1px solid black;padding:10px\"> मोडते </td>\n",
       "            \n",
       "            <td style=\"color:#000;background-color:rgb(123, 158, 248);border:1px solid black;padding:10px\"> मौड़ते </td>\n",
       "            \n",
       "            <td style=\"color:#000;background-color:rgb(192, 211, 245);border:1px solid black;padding:10px\"> मोदते </td>\n",
       "            \n",
       "            <td style=\"color:#000;background-color:rgb(192, 211, 245);border:1px solid black;padding:10px\"> मोडटे </td>\n",
       "            \n",
       "        </tr>\n",
       "        <tr>\n",
       "        <th scope=\"row\" style=\"border:1px solid black;padding:10px;text-align:left\"> Levenshtein distance (to true output) &emsp; </th>\n",
       "        \n",
       "            <td style=\"border:1px solid black;padding:10px\"> 0 </td>\n",
       "            \n",
       "            <td style=\"border:1px solid black;padding:10px\"> 1 </td>\n",
       "            \n",
       "            <td style=\"border:1px solid black;padding:10px\"> 1 </td>\n",
       "            \n",
       "            <td style=\"border:1px solid black;padding:10px\"> 2 </td>\n",
       "            \n",
       "            <td style=\"border:1px solid black;padding:10px\"> 2 </td>\n",
       "            \n",
       "        </tr>\n",
       "        </table>\n",
       "        "
      ],
      "text/plain": [
       "<IPython.core.display.HTML object>"
      ]
     },
     "metadata": {},
     "output_type": "display_data"
    },
    {
     "name": "stdout",
     "output_type": "stream",
     "text": [
      "\n",
      "\n",
      "\n"
     ]
    },
    {
     "data": {
      "text/html": [
       "\n",
       "        <table style=\"border:2px solid black; border-collapse:collapse\">\n",
       "        <caption> <strong>INPUT :</strong> kusanskaron &emsp; | &emsp; <strong> TRUE OUTPUT : </strong> कुसंस्कारों </caption>\n",
       "        <tr>\n",
       "        <th scope=\"row\" style=\"border:1px solid black;padding:10px;text-align:left\"> Top 5 Predictions </th>\n",
       "        \n",
       "            <td style=\"color:#000;background-color:rgb(192, 211, 245);border:1px solid black;padding:10px\"> कुसंसकरों </td>\n",
       "            \n",
       "            <td style=\"color:#000;background-color:rgb(123, 158, 248);border:1px solid black;padding:10px\"> कुसंसकारों </td>\n",
       "            \n",
       "            <td style=\"color:#000;background-color:rgb(123, 158, 248);border:1px solid black;padding:10px\"> कुसंस्करों </td>\n",
       "            \n",
       "            <td style=\"color:#000;background-color:rgb(58, 76, 192);border:1px solid black;padding:10px\"> कुसंस्कारों </td>\n",
       "            \n",
       "            <td style=\"color:#000;background-color:rgb(192, 211, 245);border:1px solid black;padding:10px\"> कुसानस्कारों </td>\n",
       "            \n",
       "        </tr>\n",
       "        <tr>\n",
       "        <th scope=\"row\" style=\"border:1px solid black;padding:10px;text-align:left\"> Levenshtein distance (to true output) &emsp; </th>\n",
       "        \n",
       "            <td style=\"border:1px solid black;padding:10px\"> 2 </td>\n",
       "            \n",
       "            <td style=\"border:1px solid black;padding:10px\"> 1 </td>\n",
       "            \n",
       "            <td style=\"border:1px solid black;padding:10px\"> 1 </td>\n",
       "            \n",
       "            <td style=\"border:1px solid black;padding:10px\"> 0 </td>\n",
       "            \n",
       "            <td style=\"border:1px solid black;padding:10px\"> 2 </td>\n",
       "            \n",
       "        </tr>\n",
       "        </table>\n",
       "        "
      ],
      "text/plain": [
       "<IPython.core.display.HTML object>"
      ]
     },
     "metadata": {},
     "output_type": "display_data"
    },
    {
     "name": "stdout",
     "output_type": "stream",
     "text": [
      "\n",
      "\n",
      "\n"
     ]
    },
    {
     "data": {
      "image/png": "[encoded data removed]",
      "text/plain": [
       "<IPython.core.display.Image object>"
      ]
     },
     "execution_count": 20,
     "metadata": {},
     "output_type": "execute_result"
    }
   ],
   "source": [
    "test2_acc, test2_exact_K_acc, test2_exact_acc, test2_loss, test2_true_out, \\\n",
    "test2_pred_out, test2_pred_scores, test2_attn_scores, model2 = test_model('ivfrjoke', test_enc_input, \n",
    "                                                                          test_dec_target, \n",
    "                                                                          max_decoder_seq_length, \n",
    "                                                                          target_char_enc, \n",
    "                                                                          target_char_dec, \n",
    "                                                                          True)\n",
    "\n",
    "random_samples = [ 821, 1686, 2859, 3680,  200, 3241, 1538, 2881, 3214,  771]\n",
    "\n",
    "_ = print_samples(test_inp, test2_true_out, test2_pred_out, test2_pred_scores, random_samples)\n",
    "plot_model(model2, show_shapes=True)"
   ]
  },
  {
   "cell_type": "markdown",
   "id": "bc5b207d",
   "metadata": {
    "id": "8J4yMOmoJfrD",
    "papermill": {
     "duration": 0.071814,
     "end_time": "2022-05-23T10:58:39.347303",
     "exception": false,
     "start_time": "2022-05-23T10:58:39.275489",
     "status": "completed"
    },
    "tags": []
   },
   "source": [
    "### Attention heatmaps for best model"
   ]
  },
  {
   "cell_type": "code",
   "execution_count": 21,
   "id": "deda703c",
   "metadata": {
    "execution": {
     "iopub.execute_input": "2022-05-23T10:58:39.495162Z",
     "iopub.status.busy": "2022-05-23T10:58:39.494768Z",
     "iopub.status.idle": "2022-05-23T10:58:42.575241Z",
     "shell.execute_reply": "2022-05-23T10:58:42.573868Z"
    },
    "id": "bGZD6tI1ANU2",
    "outputId": "03073c93-62e5-4f5d-fda3-163d54f4ce17",
    "papermill": {
     "duration": 3.158082,
     "end_time": "2022-05-23T10:58:42.578474",
     "exception": false,
     "start_time": "2022-05-23T10:58:39.420392",
     "status": "completed"
    },
    "tags": []
   },
   "outputs": [
    {
     "name": "stdout",
     "output_type": "stream",
     "text": [
      "--2022-05-23 10:58:40--  https://www.fontsquirrel.com/fonts/download/vesper-libre\r\n",
      "Resolving www.fontsquirrel.com (www.fontsquirrel.com)... 45.79.150.110, 2600:3c03::f03c:91ff:fe37:ba29\r\n",
      "Connecting to www.fontsquirrel.com (www.fontsquirrel.com)|45.79.150.110|:443... connected.\r\n",
      "HTTP request sent, awaiting response... 200 OK\r\n",
      "Length: 371600 (363K) [application/octet-stream]\r\n",
      "Saving to: ‘fonts/vesper-libre’\r\n",
      "\r\n",
      "vesper-libre        100%[===================>] 362.89K  1.44MB/s    in 0.2s    \r\n",
      "\r\n",
      "2022-05-23 10:58:41 (1.44 MB/s) - ‘fonts/vesper-libre’ saved [371600/371600]\r\n",
      "\r\n",
      "yes: standard output: Broken pipe\r\n",
      "/kaggle/working/fonts\n",
      "Archive:  vesper-libre\r\n",
      "  inflating: VesperLibre-Regular.ttf  \r\n",
      "  inflating: VesperLibre-Medium.ttf  \r\n",
      "  inflating: VesperLibre-Bold.ttf    \r\n",
      "  inflating: VesperLibre-Heavy.ttf   \r\n",
      "  inflating: SIL Open Font License.txt  \r\n",
      "yes: standard output: Broken pipe\r\n",
      "/kaggle/working\n"
     ]
    }
   ],
   "source": [
    "# Downloading a font which supports English + Hindi characters to be able to caption in matplotlib using both languages\n",
    "!yes | wget -P fonts \"https://www.fontsquirrel.com/fonts/download/vesper-libre\"\n",
    "%cd fonts\n",
    "!yes | unzip vesper-libre\n",
    "%cd ../"
   ]
  },
  {
   "cell_type": "code",
   "execution_count": 22,
   "id": "d8e8c55c",
   "metadata": {
    "execution": {
     "iopub.execute_input": "2022-05-23T10:58:42.732695Z",
     "iopub.status.busy": "2022-05-23T10:58:42.731636Z",
     "iopub.status.idle": "2022-05-23T10:58:42.749739Z",
     "shell.execute_reply": "2022-05-23T10:58:42.748769Z"
    },
    "id": "tIwMyRQa9Hb4",
    "papermill": {
     "duration": 0.097692,
     "end_time": "2022-05-23T10:58:42.752023",
     "exception": false,
     "start_time": "2022-05-23T10:58:42.654331",
     "status": "completed"
    },
    "tags": []
   },
   "outputs": [],
   "source": [
    "import pandas as pd\n",
    "import matplotlib.pyplot as plt\n",
    "from matplotlib.font_manager import FontProperties\n",
    "\n",
    "def plot_heatmaps(input, pred_out, pred_scores, attn_scores, wandb_log=False, rand_seq=None):\n",
    "    '''\n",
    "    Function to generate attention heatmaps for 9 samples in a 3 x 3 grid\n",
    "    Arguments :\n",
    "        input -- input words\n",
    "        true_out -- true output as words\n",
    "        pred_out -- K predicted output words\n",
    "        pred_scores -- levenshtein distance for the predictions to the true output\n",
    "        attn_scores -- attention scores\n",
    "        wandb_log -- (bool, default : False) whether or not to log the image generated to WANDB\n",
    "        rand_seq -- list of indices from the dataset passed for which the sample outputs are to be printed (If None, random 9 samples will be chosen)\n",
    "                    (The length of list passed should be >= 9)\n",
    "    Returns :\n",
    "        rand_seq -- the list of indices for which sample outputs are printed\n",
    "    '''\n",
    "    no_samples = len(pred_out)\n",
    "    if rand_seq is None:\n",
    "        rand_seq = np.random.randint(no_samples, size=(9,))\n",
    "    rand_seq = rand_seq[:9]\n",
    "    \n",
    "    plt.close('all')\n",
    "    fig = plt.figure(figsize=(15,15))\n",
    "    fig, axes = plt.subplots(3, 3, figsize=(15, 15), constrained_layout=True)\n",
    "    plt.suptitle('Attention Heatmaps', fontsize='x-large')\n",
    "    for i,ax in zip(rand_seq, axes.flat):\n",
    "        K = len(pred_scores[i])\n",
    "        k = np.argmin(pred_scores[i])\n",
    "        im = ax.imshow(attn_scores[i,k,:len(pred_out[i][k])+1,:len(input[i])+1].T, vmin=0, vmax=1, cmap='magma')\n",
    "        ax.set_xticks(range(len(pred_out[i][k])+1))\n",
    "        ax.set_xticklabels(list(pred_out[i][k])+['<end>'], fontproperties=FontProperties(fname=\"fonts/VesperLibre-Regular.ttf\"))\n",
    "        ax.set_yticks(range(len(input[i])+1))\n",
    "        ax.set_yticklabels(list(input[i])+['<end>'])\n",
    "        ax.set_ylabel(u'Encoder Input')\n",
    "        ax.set_xlabel(f'Decoder Output')\n",
    "        ax.set_title(str(i) + r'$^{th}$ example of Test Set')\n",
    "        ax.set_aspect(\"equal\")\n",
    "        ax.grid(False)\n",
    "\n",
    "    # create colorbar\n",
    "    fig.colorbar(im, ax=axes.ravel().tolist(), shrink=0.7)\n",
    "    # Log in WANDB\n",
    "    if wandb_log:\n",
    "        run = wandb.init(project=\"assignment3\", entity=\"abisheks\", reinit=True)\n",
    "        wandb.log({'attention_heatmaps': fig})\n",
    "        run.finish()\n",
    "\n",
    "    plt.show()\n",
    "\n",
    "    return rand_seq\n",
    "    "
   ]
  },
  {
   "cell_type": "code",
   "execution_count": 23,
   "id": "2cb9cdcc",
   "metadata": {
    "execution": {
     "iopub.execute_input": "2022-05-23T10:58:42.909317Z",
     "iopub.status.busy": "2022-05-23T10:58:42.909002Z",
     "iopub.status.idle": "2022-05-23T10:58:45.688186Z",
     "shell.execute_reply": "2022-05-23T10:58:45.687176Z"
    },
    "id": "R1Rkk2BvwdXa",
    "outputId": "31e425db-19f5-41b6-dc6c-03ca1db4bea3",
    "papermill": {
     "duration": 2.859369,
     "end_time": "2022-05-23T10:58:45.690700",
     "exception": false,
     "start_time": "2022-05-23T10:58:42.831331",
     "status": "completed"
    },
    "tags": []
   },
   "outputs": [
    {
     "data": {
      "text/plain": [
       "<Figure size 1080x1080 with 0 Axes>"
      ]
     },
     "metadata": {},
     "output_type": "display_data"
    },
    {
     "data": {
      "image/png": "[encoded data removed]",
      "text/plain": [
       "<Figure size 1080x1080 with 10 Axes>"
      ]
     },
     "metadata": {
      "needs_background": "light"
     },
     "output_type": "display_data"
    }
   ],
   "source": [
    "_ = plot_heatmaps(test_inp, test2_pred_out, test2_pred_scores, test2_attn_scores, False, random_samples)"
   ]
  },
  {
   "cell_type": "markdown",
   "id": "98bc67de",
   "metadata": {
    "id": "niOvGRJJJl1z",
    "papermill": {
     "duration": 0.078422,
     "end_time": "2022-05-23T10:58:45.847053",
     "exception": false,
     "start_time": "2022-05-23T10:58:45.768631",
     "status": "completed"
    },
    "tags": []
   },
   "source": [
    "### Visualizing attention connectivity for best model"
   ]
  },
  {
   "cell_type": "code",
   "execution_count": 24,
   "id": "7fbec211",
   "metadata": {
    "execution": {
     "iopub.execute_input": "2022-05-23T10:58:46.007691Z",
     "iopub.status.busy": "2022-05-23T10:58:46.007387Z",
     "iopub.status.idle": "2022-05-23T10:58:46.012914Z",
     "shell.execute_reply": "2022-05-23T10:58:46.011944Z"
    },
    "id": "NmkOignlS2vH",
    "papermill": {
     "duration": 0.089393,
     "end_time": "2022-05-23T10:58:46.015102",
     "exception": false,
     "start_time": "2022-05-23T10:58:45.925709",
     "status": "completed"
    },
    "tags": []
   },
   "outputs": [],
   "source": [
    "def cstr(s, color=None):\n",
    "  # Function to get text html element\n",
    "  if color is None:\n",
    "      return '''<text style=\"padding:2px; color:#C0C0C0\"> {} </text>'''.format(s)\n",
    "  return '''<text style=\"color:#000;background-color:{}; padding:2px; color:#FF6699\"> {} </text>'''.format(color, s)"
   ]
  },
  {
   "cell_type": "code",
   "execution_count": 25,
   "id": "f3b951a6",
   "metadata": {
    "execution": {
     "iopub.execute_input": "2022-05-23T10:58:46.176953Z",
     "iopub.status.busy": "2022-05-23T10:58:46.176115Z",
     "iopub.status.idle": "2022-05-23T10:58:46.187680Z",
     "shell.execute_reply": "2022-05-23T10:58:46.186693Z"
    },
    "id": "viuTh9l6EJjg",
    "papermill": {
     "duration": 0.095288,
     "end_time": "2022-05-23T10:58:46.189932",
     "exception": false,
     "start_time": "2022-05-23T10:58:46.094644",
     "status": "completed"
    },
    "tags": []
   },
   "outputs": [],
   "source": [
    "def print_connectivity(input, pred_out, pred_scores, attn_scores, dec_char_ind=0):\n",
    "    '''\n",
    "    Function to visualize attention for one index of decoder output of one sample\n",
    "    Arguments :\n",
    "        input -- sample input word\n",
    "        pred_out -- K predicted output words for the sample\n",
    "        pred_scores -- levenshtein distance for the predictions to the true output\n",
    "        attn_scores -- attention scores\n",
    "        dec_char_ind -- (default : 0) index of the character in decoder for which the visuzalization is to be done\n",
    "    Returns :\n",
    "        -- None --\n",
    "    '''\n",
    "    K = len(pred_scores)\n",
    "    print('-'*20 + f' Visualizing attention for Top {K} predictions (in decreasing order of probabilities) ' + '-'*20)\n",
    "    print('')\n",
    "    html_str = '''\n",
    "    <table style=\"border:2px solid black; border-collapse:collapse; font-size:1.5em\">\n",
    "    <caption> <strong>INPUT : </strong> {} </caption>\n",
    "    <tr>\n",
    "    <th style=\"border:1px solid black;padding:10px;text-align:center\"> Character in Prediction Focussed </th>\n",
    "    <th style=\"border:1px solid black;padding:10px;text-align:center\"> Attention Visualization </th>\n",
    "    </tr>\n",
    "    '''.format(input)\n",
    "    for k in range(K):  \n",
    "        char = pred_out[k][dec_char_ind] if dec_char_ind < len(pred_out[k]) else '&lt end &gt' if dec_char_ind == len(pred_out[k]) else '&lt blank &gt'\n",
    "        middle_char = pred_out[k][dec_char_ind] if dec_char_ind < len(pred_out[k]) else ''\n",
    "        end_str = pred_out[k][dec_char_ind+1:] if dec_char_ind < len(pred_out[k])-1 else ''\n",
    "        html_str += '''\n",
    "        <tr>\n",
    "        <td style=\"border:1px solid black;padding:10px;text-align:center\"> character at index {} of {}<span style=\"color: #FF1493\">{}</span>{} <br/> ({}) </td>\n",
    "        <td style=\"border:1px solid black;padding:10px;text-align:center\">\n",
    "        '''.format(dec_char_ind, pred_out[k][:dec_char_ind], middle_char, end_str, char)\n",
    "        for i,c in enumerate(input):\n",
    "            html_str += '''\n",
    "            {}\n",
    "            '''.format(cstr(c, get_clr(attn_scores[k,dec_char_ind,i], 'YlGnBu')))\n",
    "        html_str += '''\n",
    "        </td>\n",
    "        </tr>\n",
    "        '''\n",
    "    html_str += '''\n",
    "    </table>\n",
    "    '''\n",
    "    display(html_print(html_str))\n"
   ]
  },
  {
   "cell_type": "code",
   "execution_count": 26,
   "id": "fdd12554",
   "metadata": {
    "execution": {
     "iopub.execute_input": "2022-05-23T10:58:46.350023Z",
     "iopub.status.busy": "2022-05-23T10:58:46.349210Z",
     "iopub.status.idle": "2022-05-23T10:58:46.354935Z",
     "shell.execute_reply": "2022-05-23T10:58:46.353623Z"
    },
    "id": "2h-Cw5GUGT2b",
    "papermill": {
     "duration": 0.087812,
     "end_time": "2022-05-23T10:58:46.357107",
     "exception": false,
     "start_time": "2022-05-23T10:58:46.269295",
     "status": "completed"
    },
    "tags": []
   },
   "outputs": [],
   "source": [
    "def visualize_attention(sample_ind=0, dec_char_ind=0):\n",
    "    print_connectivity(test_inp[sample_ind], test2_pred_out[sample_ind], test2_pred_scores[sample_ind], test2_attn_scores[sample_ind], dec_char_ind)"
   ]
  },
  {
   "cell_type": "code",
   "execution_count": 27,
   "id": "7e1cc747",
   "metadata": {
    "execution": {
     "iopub.execute_input": "2022-05-23T10:58:46.515806Z",
     "iopub.status.busy": "2022-05-23T10:58:46.515108Z",
     "iopub.status.idle": "2022-05-23T10:58:46.601982Z",
     "shell.execute_reply": "2022-05-23T10:58:46.600814Z"
    },
    "id": "cjXapJX_pd7A",
    "outputId": "3d426759-3177-4deb-ad3d-6fd44c0cee1a",
    "papermill": {
     "duration": 0.170522,
     "end_time": "2022-05-23T10:58:46.604887",
     "exception": false,
     "start_time": "2022-05-23T10:58:46.434365",
     "status": "completed"
    },
    "tags": []
   },
   "outputs": [
    {
     "data": {
      "application/vnd.jupyter.widget-view+json": {
       "model_id": "84337394ea954b62aa2e731d1a12a545",
       "version_major": 2,
       "version_minor": 0
      },
      "text/plain": [
       "interactive(children=(IntSlider(value=10, description='sample_ind', layout=Layout(width='800px'), max=4357), O…"
      ]
     },
     "metadata": {},
     "output_type": "display_data"
    }
   ],
   "source": [
    "@interact(sample_ind = IntSlider(min=0, max=len(test_inp)-1, step=1, value=10, layout=Layout(width='800px')))\n",
    "def f(sample_ind):\n",
    "    print(f'Input : {test_inp[sample_ind]}')\n",
    "    print(f'Top {len(test2_pred_out[sample_ind])} predictions : ')\n",
    "    mx_len = 0\n",
    "    for pred in test2_pred_out[sample_ind]:\n",
    "        print(pred)\n",
    "        mx_len = max(mx_len, len(pred))\n",
    "    \n",
    "    @interact(character_ind = widgets.IntSlider(min=0, max=mx_len-1, step=1, value=0))\n",
    "    def g(character_ind):\n",
    "        visualize_attention(sample_ind, character_ind)"
   ]
  },
  {
   "cell_type": "code",
   "execution_count": null,
   "id": "5b6637e8",
   "metadata": {
    "papermill": {
     "duration": 0.081424,
     "end_time": "2022-05-23T10:58:46.777130",
     "exception": false,
     "start_time": "2022-05-23T10:58:46.695706",
     "status": "completed"
    },
    "tags": []
   },
   "outputs": [],
   "source": []
  }
 ],
 "metadata": {
  "kernelspec": {
   "display_name": "Python 3",
   "language": "python",
   "name": "python3"
  },
  "language_info": {
   "codemirror_mode": {
    "name": "ipython",
    "version": 3
   },
   "file_extension": ".py",
   "mimetype": "text/x-python",
   "name": "python",
   "nbconvert_exporter": "python",
   "pygments_lexer": "ipython3",
   "version": "3.7.12"
  },
  "papermill": {
   "default_parameters": {},
   "duration": 609.41606,
   "end_time": "2022-05-23T10:58:49.582810",
   "environment_variables": {},
   "exception": null,
   "input_path": "__notebook__.ipynb",
   "output_path": "__notebook__.ipynb",
   "parameters": {},
   "start_time": "2022-05-23T10:48:40.166750",
   "version": "2.3.4"
  },
  "widgets": {
   "application/vnd.jupyter.widget-state+json": {
    "state": {
     "1d140597a8bb4054953266161c8dd36c": {
      "model_module": "@jupyter-widgets/base",
      "model_module_version": "1.2.0",
      "model_name": "LayoutModel",
      "state": {
       "_model_module": "@jupyter-widgets/base",
       "_model_module_version": "1.2.0",
       "_model_name": "LayoutModel",
       "_view_count": null,
       "_view_module": "@jupyter-widgets/base",
       "_view_module_version": "1.2.0",
       "_view_name": "LayoutView",
       "align_content": null,
       "align_items": null,
       "align_self": null,
       "border": null,
       "bottom": null,
       "display": null,
       "flex": null,
       "flex_flow": null,
       "grid_area": null,
       "grid_auto_columns": null,
       "grid_auto_flow": null,
       "grid_auto_rows": null,
       "grid_column": null,
       "grid_gap": null,
       "grid_row": null,
       "grid_template_areas": null,
       "grid_template_columns": null,
       "grid_template_rows": null,
       "height": null,
       "justify_content": null,
       "justify_items": null,
       "left": null,
       "margin": null,
       "max_height": null,
       "max_width": null,
       "min_height": null,
       "min_width": null,
       "object_fit": null,
       "object_position": null,
       "order": null,
       "overflow": null,
       "overflow_x": null,
       "overflow_y": null,
       "padding": null,
       "right": null,
       "top": null,
       "visibility": null,
       "width": null
      }
     },
     "278c55cd5b3f4690838c387113bee6fd": {
      "model_module": "@jupyter-widgets/base",
      "model_module_version": "1.2.0",
      "model_name": "LayoutModel",
      "state": {
       "_model_module": "@jupyter-widgets/base",
       "_model_module_version": "1.2.0",
       "_model_name": "LayoutModel",
       "_view_count": null,
       "_view_module": "@jupyter-widgets/base",
       "_view_module_version": "1.2.0",
       "_view_name": "LayoutView",
       "align_content": null,
       "align_items": null,
       "align_self": null,
       "border": null,
       "bottom": null,
       "display": null,
       "flex": null,
       "flex_flow": null,
       "grid_area": null,
       "grid_auto_columns": null,
       "grid_auto_flow": null,
       "grid_auto_rows": null,
       "grid_column": null,
       "grid_gap": null,
       "grid_row": null,
       "grid_template_areas": null,
       "grid_template_columns": null,
       "grid_template_rows": null,
       "height": null,
       "justify_content": null,
       "justify_items": null,
       "left": null,
       "margin": null,
       "max_height": null,
       "max_width": null,
       "min_height": null,
       "min_width": null,
       "object_fit": null,
       "object_position": null,
       "order": null,
       "overflow": null,
       "overflow_x": null,
       "overflow_y": null,
       "padding": null,
       "right": null,
       "top": null,
       "visibility": null,
       "width": null
      }
     },
     "2c52c3a7f3d24b4ba79b9cddf8ce0850": {
      "model_module": "@jupyter-widgets/base",
      "model_module_version": "1.2.0",
      "model_name": "LayoutModel",
      "state": {
       "_model_module": "@jupyter-widgets/base",
       "_model_module_version": "1.2.0",
       "_model_name": "LayoutModel",
       "_view_count": null,
       "_view_module": "@jupyter-widgets/base",
       "_view_module_version": "1.2.0",
       "_view_name": "LayoutView",
       "align_content": null,
       "align_items": null,
       "align_self": null,
       "border": null,
       "bottom": null,
       "display": null,
       "flex": null,
       "flex_flow": null,
       "grid_area": null,
       "grid_auto_columns": null,
       "grid_auto_flow": null,
       "grid_auto_rows": null,
       "grid_column": null,
       "grid_gap": null,
       "grid_row": null,
       "grid_template_areas": null,
       "grid_template_columns": null,
       "grid_template_rows": null,
       "height": null,
       "justify_content": null,
       "justify_items": null,
       "left": null,
       "margin": null,
       "max_height": null,
       "max_width": null,
       "min_height": null,
       "min_width": null,
       "object_fit": null,
       "object_position": null,
       "order": null,
       "overflow": null,
       "overflow_x": null,
       "overflow_y": null,
       "padding": null,
       "right": null,
       "top": null,
       "visibility": null,
       "width": null
      }
     },
     "3a3d9430663b4685a6d45a794f4f7264": {
      "model_module": "@jupyter-widgets/controls",
      "model_module_version": "1.5.0",
      "model_name": "LabelModel",
      "state": {
       "_dom_classes": [],
       "_model_module": "@jupyter-widgets/controls",
       "_model_module_version": "1.5.0",
       "_model_name": "LabelModel",
       "_view_count": null,
       "_view_module": "@jupyter-widgets/controls",
       "_view_module_version": "1.5.0",
       "_view_name": "LabelView",
       "description": "",
       "description_tooltip": null,
       "layout": "IPY_MODEL_6967f14e9c004a20a0a83abb6be0c9d5",
       "placeholder": "​",
       "style": "IPY_MODEL_e39bf18b92d0449da3bab6aa5d8b16db",
       "value": "0.587 MB of 0.587 MB uploaded (0.000 MB deduped)\r"
      }
     },
     "6967f14e9c004a20a0a83abb6be0c9d5": {
      "model_module": "@jupyter-widgets/base",
      "model_module_version": "1.2.0",
      "model_name": "LayoutModel",
      "state": {
       "_model_module": "@jupyter-widgets/base",
       "_model_module_version": "1.2.0",
       "_model_name": "LayoutModel",
       "_view_count": null,
       "_view_module": "@jupyter-widgets/base",
       "_view_module_version": "1.2.0",
       "_view_name": "LayoutView",
       "align_content": null,
       "align_items": null,
       "align_self": null,
       "border": null,
       "bottom": null,
       "display": null,
       "flex": null,
       "flex_flow": null,
       "grid_area": null,
       "grid_auto_columns": null,
       "grid_auto_flow": null,
       "grid_auto_rows": null,
       "grid_column": null,
       "grid_gap": null,
       "grid_row": null,
       "grid_template_areas": null,
       "grid_template_columns": null,
       "grid_template_rows": null,
       "height": null,
       "justify_content": null,
       "justify_items": null,
       "left": null,
       "margin": null,
       "max_height": null,
       "max_width": null,
       "min_height": null,
       "min_width": null,
       "object_fit": null,
       "object_position": null,
       "order": null,
       "overflow": null,
       "overflow_x": null,
       "overflow_y": null,
       "padding": null,
       "right": null,
       "top": null,
       "visibility": null,
       "width": null
      }
     },
     "7782ccaf14ce4251977cf24e0bb12079": {
      "model_module": "@jupyter-widgets/controls",
      "model_module_version": "1.5.0",
      "model_name": "SliderStyleModel",
      "state": {
       "_model_module": "@jupyter-widgets/controls",
       "_model_module_version": "1.5.0",
       "_model_name": "SliderStyleModel",
       "_view_count": null,
       "_view_module": "@jupyter-widgets/base",
       "_view_module_version": "1.2.0",
       "_view_name": "StyleView",
       "description_width": "",
       "handle_color": null
      }
     },
     "84337394ea954b62aa2e731d1a12a545": {
      "model_module": "@jupyter-widgets/controls",
      "model_module_version": "1.5.0",
      "model_name": "VBoxModel",
      "state": {
       "_dom_classes": [
        "widget-interact"
       ],
       "_model_module": "@jupyter-widgets/controls",
       "_model_module_version": "1.5.0",
       "_model_name": "VBoxModel",
       "_view_count": null,
       "_view_module": "@jupyter-widgets/controls",
       "_view_module_version": "1.5.0",
       "_view_name": "VBoxView",
       "box_style": "",
       "children": [
        "IPY_MODEL_f50b1335a6124ab39338f11feec23ccb",
        "IPY_MODEL_cbef5c8ddc9d46fd96c5d33143176dc8"
       ],
       "layout": "IPY_MODEL_9f018da6710c46e89823463db38ab5bf"
      }
     },
     "9f018da6710c46e89823463db38ab5bf": {
      "model_module": "@jupyter-widgets/base",
      "model_module_version": "1.2.0",
      "model_name": "LayoutModel",
      "state": {
       "_model_module": "@jupyter-widgets/base",
       "_model_module_version": "1.2.0",
       "_model_name": "LayoutModel",
       "_view_count": null,
       "_view_module": "@jupyter-widgets/base",
       "_view_module_version": "1.2.0",
       "_view_name": "LayoutView",
       "align_content": null,
       "align_items": null,
       "align_self": null,
       "border": null,
       "bottom": null,
       "display": null,
       "flex": null,
       "flex_flow": null,
       "grid_area": null,
       "grid_auto_columns": null,
       "grid_auto_flow": null,
       "grid_auto_rows": null,
       "grid_column": null,
       "grid_gap": null,
       "grid_row": null,
       "grid_template_areas": null,
       "grid_template_columns": null,
       "grid_template_rows": null,
       "height": null,
       "justify_content": null,
       "justify_items": null,
       "left": null,
       "margin": null,
       "max_height": null,
       "max_width": null,
       "min_height": null,
       "min_width": null,
       "object_fit": null,
       "object_position": null,
       "order": null,
       "overflow": null,
       "overflow_x": null,
       "overflow_y": null,
       "padding": null,
       "right": null,
       "top": null,
       "visibility": null,
       "width": null
      }
     },
     "be025b00df1240f58bf0769589fffead": {
      "model_module": "@jupyter-widgets/controls",
      "model_module_version": "1.5.0",
      "model_name": "VBoxModel",
      "state": {
       "_dom_classes": [
        "widget-interact"
       ],
       "_model_module": "@jupyter-widgets/controls",
       "_model_module_version": "1.5.0",
       "_model_name": "VBoxModel",
       "_view_count": null,
       "_view_module": "@jupyter-widgets/controls",
       "_view_module_version": "1.5.0",
       "_view_name": "VBoxView",
       "box_style": "",
       "children": [
        "IPY_MODEL_fe30868a25424368ad7711fbd2025e6e",
        "IPY_MODEL_be6dddc4c1214ca09361142d12dc9c7f"
       ],
       "layout": "IPY_MODEL_278c55cd5b3f4690838c387113bee6fd"
      }
     },
     "be6dddc4c1214ca09361142d12dc9c7f": {
      "model_module": "@jupyter-widgets/output",
      "model_module_version": "1.0.0",
      "model_name": "OutputModel",
      "state": {
       "_dom_classes": [],
       "_model_module": "@jupyter-widgets/output",
       "_model_module_version": "1.0.0",
       "_model_name": "OutputModel",
       "_view_count": null,
       "_view_module": "@jupyter-widgets/output",
       "_view_module_version": "1.0.0",
       "_view_name": "OutputView",
       "layout": "IPY_MODEL_f4e2097f66084f25bb37d784f26c4848",
       "msg_id": "",
       "outputs": [
        {
         "name": "stdout",
         "output_type": "stream",
         "text": "-------------------- Visualizing attention for Top 5 predictions (in decreasing order of probabilities) --------------------\n\n"
        },
        {
         "data": {
          "text/html": "\n    <table style=\"border:2px solid black; border-collapse:collapse; font-size:1.5em\">\n    <caption> <strong>INPUT : </strong> anralon </caption>\n    <tr>\n    <th style=\"border:1px solid black;padding:10px;text-align:center\"> Character in Prediction Focussed </th>\n    <th style=\"border:1px solid black;padding:10px;text-align:center\"> Attention Visualization </th>\n    </tr>\n    \n        <tr>\n        <td style=\"border:1px solid black;padding:10px;text-align:center\"> character at index 0 of <span style=\"color: #FF1493\">अ</span>नरलों <br/> (अ) </td>\n        <td style=\"border:1px solid black;padding:10px;text-align:center\">\n        \n            <text style=\"color:#000;background-color:rgb(30, 132, 186); padding:2px; color:#FF6699\"> a </text>\n            \n            <text style=\"color:#000;background-color:rgb(162, 218, 183); padding:2px; color:#FF6699\"> n </text>\n            \n            <text style=\"color:#000;background-color:rgb(253, 254, 213); padding:2px; color:#FF6699\"> r </text>\n            \n            <text style=\"color:#000;background-color:rgb(255, 255, 217); padding:2px; color:#FF6699\"> a </text>\n            \n            <text style=\"color:#000;background-color:rgb(255, 255, 217); padding:2px; color:#FF6699\"> l </text>\n            \n            <text style=\"color:#000;background-color:rgb(255, 255, 217); padding:2px; color:#FF6699\"> o </text>\n            \n            <text style=\"color:#000;background-color:rgb(255, 255, 217); padding:2px; color:#FF6699\"> n </text>\n            \n        </td>\n        </tr>\n        \n        <tr>\n        <td style=\"border:1px solid black;padding:10px;text-align:center\"> character at index 0 of <span style=\"color: #FF1493\">अ</span>नरालों <br/> (अ) </td>\n        <td style=\"border:1px solid black;padding:10px;text-align:center\">\n        \n            <text style=\"color:#000;background-color:rgb(30, 132, 186); padding:2px; color:#FF6699\"> a </text>\n            \n            <text style=\"color:#000;background-color:rgb(162, 218, 183); padding:2px; color:#FF6699\"> n </text>\n            \n            <text style=\"color:#000;background-color:rgb(253, 254, 213); padding:2px; color:#FF6699\"> r </text>\n            \n            <text style=\"color:#000;background-color:rgb(255, 255, 217); padding:2px; color:#FF6699\"> a </text>\n            \n            <text style=\"color:#000;background-color:rgb(255, 255, 217); padding:2px; color:#FF6699\"> l </text>\n            \n            <text style=\"color:#000;background-color:rgb(255, 255, 217); padding:2px; color:#FF6699\"> o </text>\n            \n            <text style=\"color:#000;background-color:rgb(255, 255, 217); padding:2px; color:#FF6699\"> n </text>\n            \n        </td>\n        </tr>\n        \n        <tr>\n        <td style=\"border:1px solid black;padding:10px;text-align:center\"> character at index 0 of <span style=\"color: #FF1493\">अ</span>न्रालों <br/> (अ) </td>\n        <td style=\"border:1px solid black;padding:10px;text-align:center\">\n        \n            <text style=\"color:#000;background-color:rgb(30, 132, 186); padding:2px; color:#FF6699\"> a </text>\n            \n            <text style=\"color:#000;background-color:rgb(162, 218, 183); padding:2px; color:#FF6699\"> n </text>\n            \n            <text style=\"color:#000;background-color:rgb(253, 254, 213); padding:2px; color:#FF6699\"> r </text>\n            \n            <text style=\"color:#000;background-color:rgb(255, 255, 217); padding:2px; color:#FF6699\"> a </text>\n            \n            <text style=\"color:#000;background-color:rgb(255, 255, 217); padding:2px; color:#FF6699\"> l </text>\n            \n            <text style=\"color:#000;background-color:rgb(255, 255, 217); padding:2px; color:#FF6699\"> o </text>\n            \n            <text style=\"color:#000;background-color:rgb(255, 255, 217); padding:2px; color:#FF6699\"> n </text>\n            \n        </td>\n        </tr>\n        \n        <tr>\n        <td style=\"border:1px solid black;padding:10px;text-align:center\"> character at index 0 of <span style=\"color: #FF1493\">आ</span>ंरलों <br/> (आ) </td>\n        <td style=\"border:1px solid black;padding:10px;text-align:center\">\n        \n            <text style=\"color:#000;background-color:rgb(30, 132, 186); padding:2px; color:#FF6699\"> a </text>\n            \n            <text style=\"color:#000;background-color:rgb(162, 218, 183); padding:2px; color:#FF6699\"> n </text>\n            \n            <text style=\"color:#000;background-color:rgb(253, 254, 213); padding:2px; color:#FF6699\"> r </text>\n            \n            <text style=\"color:#000;background-color:rgb(255, 255, 217); padding:2px; color:#FF6699\"> a </text>\n            \n            <text style=\"color:#000;background-color:rgb(255, 255, 217); padding:2px; color:#FF6699\"> l </text>\n            \n            <text style=\"color:#000;background-color:rgb(255, 255, 217); padding:2px; color:#FF6699\"> o </text>\n            \n            <text style=\"color:#000;background-color:rgb(255, 255, 217); padding:2px; color:#FF6699\"> n </text>\n            \n        </td>\n        </tr>\n        \n        <tr>\n        <td style=\"border:1px solid black;padding:10px;text-align:center\"> character at index 0 of <span style=\"color: #FF1493\">अ</span>न्रलों <br/> (अ) </td>\n        <td style=\"border:1px solid black;padding:10px;text-align:center\">\n        \n            <text style=\"color:#000;background-color:rgb(30, 132, 186); padding:2px; color:#FF6699\"> a </text>\n            \n            <text style=\"color:#000;background-color:rgb(162, 218, 183); padding:2px; color:#FF6699\"> n </text>\n            \n            <text style=\"color:#000;background-color:rgb(253, 254, 213); padding:2px; color:#FF6699\"> r </text>\n            \n            <text style=\"color:#000;background-color:rgb(255, 255, 217); padding:2px; color:#FF6699\"> a </text>\n            \n            <text style=\"color:#000;background-color:rgb(255, 255, 217); padding:2px; color:#FF6699\"> l </text>\n            \n            <text style=\"color:#000;background-color:rgb(255, 255, 217); padding:2px; color:#FF6699\"> o </text>\n            \n            <text style=\"color:#000;background-color:rgb(255, 255, 217); padding:2px; color:#FF6699\"> n </text>\n            \n        </td>\n        </tr>\n        \n    </table>\n    ",
          "text/plain": "<IPython.core.display.HTML object>"
         },
         "metadata": {},
         "output_type": "display_data"
        }
       ]
      }
     },
     "cab9c35161604d0198f5bd9dc1ad79e0": {
      "model_module": "@jupyter-widgets/controls",
      "model_module_version": "1.5.0",
      "model_name": "VBoxModel",
      "state": {
       "_dom_classes": [],
       "_model_module": "@jupyter-widgets/controls",
       "_model_module_version": "1.5.0",
       "_model_name": "VBoxModel",
       "_view_count": null,
       "_view_module": "@jupyter-widgets/controls",
       "_view_module_version": "1.5.0",
       "_view_name": "VBoxView",
       "box_style": "",
       "children": [
        "IPY_MODEL_3a3d9430663b4685a6d45a794f4f7264",
        "IPY_MODEL_e3c72a76597f45239ac2f465ec396ab2"
       ],
       "layout": "IPY_MODEL_fc8837bc2fb5450cb3b24ad332b2f4e4"
      }
     },
     "cbef5c8ddc9d46fd96c5d33143176dc8": {
      "model_module": "@jupyter-widgets/output",
      "model_module_version": "1.0.0",
      "model_name": "OutputModel",
      "state": {
       "_dom_classes": [],
       "_model_module": "@jupyter-widgets/output",
       "_model_module_version": "1.0.0",
       "_model_name": "OutputModel",
       "_view_count": null,
       "_view_module": "@jupyter-widgets/output",
       "_view_module_version": "1.0.0",
       "_view_name": "OutputView",
       "layout": "IPY_MODEL_1d140597a8bb4054953266161c8dd36c",
       "msg_id": "",
       "outputs": [
        {
         "name": "stdout",
         "output_type": "stream",
         "text": "Input : anralon\nTop 5 predictions : \nअनरलों\nअनरालों\nअन्रालों\nआंरलों\nअन्रलों\n"
        },
        {
         "data": {
          "application/vnd.jupyter.widget-view+json": {
           "model_id": "be025b00df1240f58bf0769589fffead",
           "version_major": 2,
           "version_minor": 0
          },
          "text/plain": "interactive(children=(IntSlider(value=0, description='character_ind', max=7), Output()), _dom_classes=('widget…"
         },
         "metadata": {},
         "output_type": "display_data"
        }
       ]
      }
     },
     "cdb4542af4384ab08b8d99250b60cfae": {
      "model_module": "@jupyter-widgets/base",
      "model_module_version": "1.2.0",
      "model_name": "LayoutModel",
      "state": {
       "_model_module": "@jupyter-widgets/base",
       "_model_module_version": "1.2.0",
       "_model_name": "LayoutModel",
       "_view_count": null,
       "_view_module": "@jupyter-widgets/base",
       "_view_module_version": "1.2.0",
       "_view_name": "LayoutView",
       "align_content": null,
       "align_items": null,
       "align_self": null,
       "border": null,
       "bottom": null,
       "display": null,
       "flex": null,
       "flex_flow": null,
       "grid_area": null,
       "grid_auto_columns": null,
       "grid_auto_flow": null,
       "grid_auto_rows": null,
       "grid_column": null,
       "grid_gap": null,
       "grid_row": null,
       "grid_template_areas": null,
       "grid_template_columns": null,
       "grid_template_rows": null,
       "height": null,
       "justify_content": null,
       "justify_items": null,
       "left": null,
       "margin": null,
       "max_height": null,
       "max_width": null,
       "min_height": null,
       "min_width": null,
       "object_fit": null,
       "object_position": null,
       "order": null,
       "overflow": null,
       "overflow_x": null,
       "overflow_y": null,
       "padding": null,
       "right": null,
       "top": null,
       "visibility": null,
       "width": "800px"
      }
     },
     "dc444709b81f49288e4e4878e2092b58": {
      "model_module": "@jupyter-widgets/base",
      "model_module_version": "1.2.0",
      "model_name": "LayoutModel",
      "state": {
       "_model_module": "@jupyter-widgets/base",
       "_model_module_version": "1.2.0",
       "_model_name": "LayoutModel",
       "_view_count": null,
       "_view_module": "@jupyter-widgets/base",
       "_view_module_version": "1.2.0",
       "_view_name": "LayoutView",
       "align_content": null,
       "align_items": null,
       "align_self": null,
       "border": null,
       "bottom": null,
       "display": null,
       "flex": null,
       "flex_flow": null,
       "grid_area": null,
       "grid_auto_columns": null,
       "grid_auto_flow": null,
       "grid_auto_rows": null,
       "grid_column": null,
       "grid_gap": null,
       "grid_row": null,
       "grid_template_areas": null,
       "grid_template_columns": null,
       "grid_template_rows": null,
       "height": null,
       "justify_content": null,
       "justify_items": null,
       "left": null,
       "margin": null,
       "max_height": null,
       "max_width": null,
       "min_height": null,
       "min_width": null,
       "object_fit": null,
       "object_position": null,
       "order": null,
       "overflow": null,
       "overflow_x": null,
       "overflow_y": null,
       "padding": null,
       "right": null,
       "top": null,
       "visibility": null,
       "width": null
      }
     },
     "e39bf18b92d0449da3bab6aa5d8b16db": {
      "model_module": "@jupyter-widgets/controls",
      "model_module_version": "1.5.0",
      "model_name": "DescriptionStyleModel",
      "state": {
       "_model_module": "@jupyter-widgets/controls",
       "_model_module_version": "1.5.0",
       "_model_name": "DescriptionStyleModel",
       "_view_count": null,
       "_view_module": "@jupyter-widgets/base",
       "_view_module_version": "1.2.0",
       "_view_name": "StyleView",
       "description_width": ""
      }
     },
     "e3c72a76597f45239ac2f465ec396ab2": {
      "model_module": "@jupyter-widgets/controls",
      "model_module_version": "1.5.0",
      "model_name": "FloatProgressModel",
      "state": {
       "_dom_classes": [],
       "_model_module": "@jupyter-widgets/controls",
       "_model_module_version": "1.5.0",
       "_model_name": "FloatProgressModel",
       "_view_count": null,
       "_view_module": "@jupyter-widgets/controls",
       "_view_module_version": "1.5.0",
       "_view_name": "ProgressView",
       "bar_style": "",
       "description": "",
       "description_tooltip": null,
       "layout": "IPY_MODEL_2c52c3a7f3d24b4ba79b9cddf8ce0850",
       "max": 1.0,
       "min": 0.0,
       "orientation": "horizontal",
       "style": "IPY_MODEL_e84292acf19e4288b2a2bb1fb9c513ce",
       "value": 1.0
      }
     },
     "e84292acf19e4288b2a2bb1fb9c513ce": {
      "model_module": "@jupyter-widgets/controls",
      "model_module_version": "1.5.0",
      "model_name": "ProgressStyleModel",
      "state": {
       "_model_module": "@jupyter-widgets/controls",
       "_model_module_version": "1.5.0",
       "_model_name": "ProgressStyleModel",
       "_view_count": null,
       "_view_module": "@jupyter-widgets/base",
       "_view_module_version": "1.2.0",
       "_view_name": "StyleView",
       "bar_color": null,
       "description_width": ""
      }
     },
     "f0259e0324244de888d481c983feb103": {
      "model_module": "@jupyter-widgets/controls",
      "model_module_version": "1.5.0",
      "model_name": "SliderStyleModel",
      "state": {
       "_model_module": "@jupyter-widgets/controls",
       "_model_module_version": "1.5.0",
       "_model_name": "SliderStyleModel",
       "_view_count": null,
       "_view_module": "@jupyter-widgets/base",
       "_view_module_version": "1.2.0",
       "_view_name": "StyleView",
       "description_width": "",
       "handle_color": null
      }
     },
     "f4e2097f66084f25bb37d784f26c4848": {
      "model_module": "@jupyter-widgets/base",
      "model_module_version": "1.2.0",
      "model_name": "LayoutModel",
      "state": {
       "_model_module": "@jupyter-widgets/base",
       "_model_module_version": "1.2.0",
       "_model_name": "LayoutModel",
       "_view_count": null,
       "_view_module": "@jupyter-widgets/base",
       "_view_module_version": "1.2.0",
       "_view_name": "LayoutView",
       "align_content": null,
       "align_items": null,
       "align_self": null,
       "border": null,
       "bottom": null,
       "display": null,
       "flex": null,
       "flex_flow": null,
       "grid_area": null,
       "grid_auto_columns": null,
       "grid_auto_flow": null,
       "grid_auto_rows": null,
       "grid_column": null,
       "grid_gap": null,
       "grid_row": null,
       "grid_template_areas": null,
       "grid_template_columns": null,
       "grid_template_rows": null,
       "height": null,
       "justify_content": null,
       "justify_items": null,
       "left": null,
       "margin": null,
       "max_height": null,
       "max_width": null,
       "min_height": null,
       "min_width": null,
       "object_fit": null,
       "object_position": null,
       "order": null,
       "overflow": null,
       "overflow_x": null,
       "overflow_y": null,
       "padding": null,
       "right": null,
       "top": null,
       "visibility": null,
       "width": null
      }
     },
     "f50b1335a6124ab39338f11feec23ccb": {
      "model_module": "@jupyter-widgets/controls",
      "model_module_version": "1.5.0",
      "model_name": "IntSliderModel",
      "state": {
       "_dom_classes": [],
       "_model_module": "@jupyter-widgets/controls",
       "_model_module_version": "1.5.0",
       "_model_name": "IntSliderModel",
       "_view_count": null,
       "_view_module": "@jupyter-widgets/controls",
       "_view_module_version": "1.5.0",
       "_view_name": "IntSliderView",
       "continuous_update": true,
       "description": "sample_ind",
       "description_tooltip": null,
       "disabled": false,
       "layout": "IPY_MODEL_cdb4542af4384ab08b8d99250b60cfae",
       "max": 4357,
       "min": 0,
       "orientation": "horizontal",
       "readout": true,
       "readout_format": "d",
       "step": 1,
       "style": "IPY_MODEL_7782ccaf14ce4251977cf24e0bb12079",
       "value": 10
      }
     },
     "fc8837bc2fb5450cb3b24ad332b2f4e4": {
      "model_module": "@jupyter-widgets/base",
      "model_module_version": "1.2.0",
      "model_name": "LayoutModel",
      "state": {
       "_model_module": "@jupyter-widgets/base",
       "_model_module_version": "1.2.0",
       "_model_name": "LayoutModel",
       "_view_count": null,
       "_view_module": "@jupyter-widgets/base",
       "_view_module_version": "1.2.0",
       "_view_name": "LayoutView",
       "align_content": null,
       "align_items": null,
       "align_self": null,
       "border": null,
       "bottom": null,
       "display": null,
       "flex": null,
       "flex_flow": null,
       "grid_area": null,
       "grid_auto_columns": null,
       "grid_auto_flow": null,
       "grid_auto_rows": null,
       "grid_column": null,
       "grid_gap": null,
       "grid_row": null,
       "grid_template_areas": null,
       "grid_template_columns": null,
       "grid_template_rows": null,
       "height": null,
       "justify_content": null,
       "justify_items": null,
       "left": null,
       "margin": null,
       "max_height": null,
       "max_width": null,
       "min_height": null,
       "min_width": null,
       "object_fit": null,
       "object_position": null,
       "order": null,
       "overflow": null,
       "overflow_x": null,
       "overflow_y": null,
       "padding": null,
       "right": null,
       "top": null,
       "visibility": null,
       "width": null
      }
     },
     "fe30868a25424368ad7711fbd2025e6e": {
      "model_module": "@jupyter-widgets/controls",
      "model_module_version": "1.5.0",
      "model_name": "IntSliderModel",
      "state": {
       "_dom_classes": [],
       "_model_module": "@jupyter-widgets/controls",
       "_model_module_version": "1.5.0",
       "_model_name": "IntSliderModel",
       "_view_count": null,
       "_view_module": "@jupyter-widgets/controls",
       "_view_module_version": "1.5.0",
       "_view_name": "IntSliderView",
       "continuous_update": true,
       "description": "character_ind",
       "description_tooltip": null,
       "disabled": false,
       "layout": "IPY_MODEL_dc444709b81f49288e4e4878e2092b58",
       "max": 7,
       "min": 0,
       "orientation": "horizontal",
       "readout": true,
       "readout_format": "d",
       "step": 1,
       "style": "IPY_MODEL_f0259e0324244de888d481c983feb103",
       "value": 0
      }
     }
    },
    "version_major": 2,
    "version_minor": 0
   }
  }
 },
 "nbformat": 4,
 "nbformat_minor": 5
}
